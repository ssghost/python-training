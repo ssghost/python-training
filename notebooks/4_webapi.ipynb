{
 "cells": [
  {
   "cell_type": "markdown",
   "metadata": {},
   "source": [
    "# Accessing data from a web API"
   ]
  },
  {
   "cell_type": "markdown",
   "metadata": {},
   "source": [
    "One of the best things about \"web 2.0\" is more formal, external facing API's to allow developers to build tools on top of data. These APIs provide a reliable connection to data over a reliable protocol returning a reliable response in an easy, machine-readable format. There are tons of APIs out there. Sometimes you will need to register for a developer key (see the St. Louis Fed's API [here](https://research.stlouisfed.org/docs/api/)) and other times the APIs are free (see Coindesk's API [here](https://www.coindesk.com/api)). ProgrammableWeb has a great [directory](https://www.programmableweb.com/apis/directory).\n",
    "\n",
    "## With great power comes great responsibility. We should be responsible and polite internet citizens when hitting websites programmatically\n",
    "\n",
    "Below we will use Coindesk's API to get daily prices for bitcoin. Coindesk's API, like many others, returns a JSON (javascript object notation) object, which we can easily turn into a dataframe. Here we will need the `json` and `requests` libraries."
   ]
  },
  {
   "cell_type": "code",
   "execution_count": 1,
   "metadata": {},
   "outputs": [
    {
     "name": "stdout",
     "output_type": "stream",
     "text": [
      "Hitting this url:https://api.coindesk.com/v1/bpi/historical/close.json?start=2019-01-01&end=2019-07-01\n"
     ]
    },
    {
     "data": {
      "text/plain": [
       "b'{\"bpi\":{\"2019-01-01\":3869.47,\"2019-01-02\":3941.2167,\"2019-01-03\":3832.155,\"2019-01-04\":3863.6267,\"2019-01-05\":3835.5983,\"2019-01-06\":4083.165,\"2019-01-07\":4041.4583,\"2019-01-08\":4029.9917,\"2019-01-09\":4028.2917,\"2019-01-10\":3669.5825,\"2019-01-11\":3660.9583,\"2019-01-12\":3658.6725,\"2019-01-13\":3540.1583,\"2019-01-14\":3706.1725,\"2019-01-15\":3604.1333,\"2019-01-16\":3630.2567,\"2019-01-17\":3665.41,\"2019-01-18\":3630.785,\"2019-01-19\":3708.9633,\"2019-01-20\":3552.8933,\"2019-01-21\":3548.69,\"2019-01-22\":3598.2183,\"2019-01-23\":3576.01,\"2019-01-24\":3598.2717,\"2019-01-25\":3582.2,\"2019-01-26\":3580.775,\"2019-01-27\":3553.0133,\"2019-01-28\":3454.48,\"2019-01-29\":3421.12,\"2019-01-30\":3482.3,\"2019-01-31\":3441.985,\"2019-02-01\":3468.2517,\"2019-02-02\":3466.2175,\"2019-02-03\":3443.1667,\"2019-02-04\":3451.115,\"2019-02-05\":3472.035,\"2019-02-06\":3393.6717,\"2019-02-07\":3385.97,\"2019-02-08\":3657.4017,\"2019-02-09\":3654.3,\"2019-02-10\":3681.0517,\"2019-02-11\":3621.0283,\"2019-02-12\":3622.7133,\"2019-02-13\":3605.3133,\"2019-02-14\":3592.91,\"2019-02-15\":3601.0583,\"2019-02-16\":3611.975,\"2019-02-17\":3661.7417,\"2019-02-18\":3905.7433,\"2019-02-19\":3922.0983,\"2019-02-20\":3976.79,\"2019-02-21\":3936.34,\"2019-02-22\":3979.995,\"2019-02-23\":4145.4383,\"2019-02-24\":3767.305,\"2019-02-25\":3852.16,\"2019-02-26\":3830.6733,\"2019-02-27\":3832.26,\"2019-02-28\":3826.0233,\"2019-03-01\":3850.0717,\"2019-03-02\":3845.1133,\"2019-03-03\":3820.1467,\"2019-03-04\":3732.5733,\"2019-03-05\":3880.8,\"2019-03-06\":3884.9983,\"2019-03-07\":3891.7317,\"2019-03-08\":3875.47,\"2019-03-09\":3950.61,\"2019-03-10\":3932.0433,\"2019-03-11\":3882.615,\"2019-03-12\":3891.3467,\"2019-03-13\":3882.8017,\"2019-03-14\":3885.9883,\"2019-03-15\":3935.415,\"2019-03-16\":4022.5383,\"2019-03-17\":3999.6617,\"2019-03-18\":4004.8117,\"2019-03-19\":4033.7183,\"2019-03-20\":4064.0867,\"2019-03-21\":3999.3233,\"2019-03-22\":4003.55,\"2019-03-23\":4009.4683,\"2019-03-24\":3994.0283,\"2019-03-25\":3929.3083,\"2019-03-26\":3945.325,\"2019-03-27\":4051.9033,\"2019-03-28\":4039.0017,\"2019-03-29\":4119.0183,\"2019-03-30\":4117.8483,\"2019-03-31\":4117.51,\"2019-04-01\":4156.39,\"2019-04-02\":4908.6883,\"2019-04-03\":4977.0017,\"2019-04-04\":4917.8467,\"2019-04-05\":5053.72,\"2019-04-06\":5058.34,\"2019-04-07\":5208.02,\"2019-04-08\":5296.9317,\"2019-04-09\":5196.985,\"2019-04-10\":5319.705,\"2019-04-11\":5046.865,\"2019-04-12\":5088.7483,\"2019-04-13\":5077.7183,\"2019-04-14\":5172.4517,\"2019-04-15\":5033.095,\"2019-04-16\":5214.55,\"2019-04-17\":5237.38,\"2019-04-18\":5290.7433,\"2019-04-19\":5297.5667,\"2019-04-20\":5326.9383,\"2019-04-21\":5305.9967,\"2019-04-22\":5396.5783,\"2019-04-23\":5540.1117,\"2019-04-24\":5454.4483,\"2019-04-25\":5160.64,\"2019-04-26\":5241.025,\"2019-04-27\":5247.24,\"2019-04-28\":5266.3467,\"2019-04-29\":5259.6267,\"2019-04-30\":5378.6183,\"2019-05-01\":5423.66,\"2019-05-02\":5503.3017,\"2019-05-03\":5775.8817,\"2019-05-04\":5876.01,\"2019-05-05\":5823.795,\"2019-05-06\":5799.6167,\"2019-05-07\":5861.5917,\"2019-05-08\":6029.08,\"2019-05-09\":6187.28,\"2019-05-10\":6375.5617,\"2019-05-11\":7184.64,\"2019-05-12\":6979.1317,\"2019-05-13\":7801.2967,\"2019-05-14\":7978.01,\"2019-05-15\":8180.425,\"2019-05-16\":7875.1633,\"2019-05-17\":7376.8533,\"2019-05-18\":7259.5067,\"2019-05-19\":8189.3767,\"2019-05-20\":7995.965,\"2019-05-21\":7945.045,\"2019-05-22\":7623.5133,\"2019-05-23\":7875.9967,\"2019-05-24\":7998.22,\"2019-05-25\":8063.9483,\"2019-05-26\":8738.18,\"2019-05-27\":8783.0683,\"2019-05-28\":8724.455,\"2019-05-29\":8670.265,\"2019-05-30\":8273.0117,\"2019-05-31\":8544.97,\"2019-06-01\":8553.1267,\"2019-06-02\":8737.3617,\"2019-06-03\":8105.13,\"2019-06-04\":7677.3983,\"2019-06-05\":7785.985,\"2019-06-06\":7806.715,\"2019-06-07\":8001.2767,\"2019-06-08\":7928.5417,\"2019-06-09\":7634.6483,\"2019-06-10\":8016.6917,\"2019-06-11\":7913.8933,\"2019-06-12\":8173.3567,\"2019-06-13\":8232.7533,\"2019-06-14\":8693.765,\"2019-06-15\":8857.0783,\"2019-06-16\":8976.5367,\"2019-06-17\":9340.25,\"2019-06-18\":9083.8167,\"2019-06-19\":9288.5367,\"2019-06-20\":9539.7883,\"2019-06-21\":10232.9167,\"2019-06-22\":10695.3683,\"2019-06-23\":10860.8233,\"2019-06-24\":11041.8533,\"2019-06-25\":11752.6783,\"2019-06-26\":12907.135,\"2019-06-27\":11170.885,\"2019-06-28\":12356.2783,\"2019-06-29\":11882.5083,\"2019-06-30\":10769.4217,\"2019-07-01\":10599.3267},\"disclaimer\":\"This data was produced from the CoinDesk Bitcoin Price Index. BPI value data returned as USD.\",\"time\":{\"updated\":\"Jul 2, 2019 00:03:00 UTC\",\"updatedISO\":\"2019-07-02T00:03:00+00:00\"}}'"
      ]
     },
     "execution_count": 1,
     "metadata": {},
     "output_type": "execute_result"
    }
   ],
   "source": [
    "import datetime\n",
    "import pandas as pd\n",
    "import json\n",
    "import requests\n",
    "\n",
    "coindeskURL = 'https://api.coindesk.com/v1/bpi/historical/close.json?'\n",
    "\n",
    "# from API\n",
    "start = datetime.date(2019, 1 ,1)\n",
    "end = datetime.date(2019, 7, 1)\n",
    "\n",
    "url = f'{coindeskURL}start={start:%Y-%m-%d}&end={end:%Y-%m-%d}'\n",
    "\n",
    "print(f'Hitting this url:{url}')\n",
    "\n",
    "result = requests.get(url)\n",
    "result.content"
   ]
  },
  {
   "cell_type": "markdown",
   "metadata": {},
   "source": [
    "Digging into this a little bit, there are a few critical components to accessing data. Not all APIs will return the same structure of data. Many times you can look at what is returned by just hitting the URL with your browser. Let's try that\n",
    "\n",
    "[https://api.coindesk.com/v1/bpi/historical/close.json?start=2019-01-01&end=2019-07-01](https://api.coindesk.com/v1/bpi/historical/close.json?start=2019-01-01&end=2019-07-01)\n"
   ]
  },
  {
   "cell_type": "markdown",
   "metadata": {},
   "source": [
    "In this case we get:\n",
    "```\n",
    "{\n",
    "    \"bpi\":\n",
    "    {\n",
    "        \"2019-01-01\":3869.47,\n",
    "        \"2019-01-02\":3941.2167,\n",
    "        ...\n",
    "    },\n",
    "    \"disclaimer\": \"This data was produced from the CoinDesk Bitcoin Price Index.\",\n",
    "    \"time\":\n",
    "    {\n",
    "        \"updated\":\"Jul 2, 2019 00:03:00 UTC\",\n",
    "        \"updatedISO\":\"2019-07-02T00:03:00+00:00\"\n",
    "    }\n",
    "}\n",
    "```"
   ]
  },
  {
   "cell_type": "markdown",
   "metadata": {},
   "source": [
    "`bpi`, `disclaimer`, and `time` are all data that we can reference. The data we're primarily interested in is `bpi`. Different APIs can break up data differently, we will see examples in other APIs later."
   ]
  },
  {
   "cell_type": "markdown",
   "metadata": {},
   "source": [
    "Let's take a look at the json result in python."
   ]
  },
  {
   "cell_type": "code",
   "execution_count": 2,
   "metadata": {},
   "outputs": [
    {
     "data": {
      "text/plain": [
       "{'bpi': {'2019-01-01': 3869.47,\n",
       "  '2019-01-02': 3941.2167,\n",
       "  '2019-01-03': 3832.155,\n",
       "  '2019-01-04': 3863.6267,\n",
       "  '2019-01-05': 3835.5983,\n",
       "  '2019-01-06': 4083.165,\n",
       "  '2019-01-07': 4041.4583,\n",
       "  '2019-01-08': 4029.9917,\n",
       "  '2019-01-09': 4028.2917,\n",
       "  '2019-01-10': 3669.5825,\n",
       "  '2019-01-11': 3660.9583,\n",
       "  '2019-01-12': 3658.6725,\n",
       "  '2019-01-13': 3540.1583,\n",
       "  '2019-01-14': 3706.1725,\n",
       "  '2019-01-15': 3604.1333,\n",
       "  '2019-01-16': 3630.2567,\n",
       "  '2019-01-17': 3665.41,\n",
       "  '2019-01-18': 3630.785,\n",
       "  '2019-01-19': 3708.9633,\n",
       "  '2019-01-20': 3552.8933,\n",
       "  '2019-01-21': 3548.69,\n",
       "  '2019-01-22': 3598.2183,\n",
       "  '2019-01-23': 3576.01,\n",
       "  '2019-01-24': 3598.2717,\n",
       "  '2019-01-25': 3582.2,\n",
       "  '2019-01-26': 3580.775,\n",
       "  '2019-01-27': 3553.0133,\n",
       "  '2019-01-28': 3454.48,\n",
       "  '2019-01-29': 3421.12,\n",
       "  '2019-01-30': 3482.3,\n",
       "  '2019-01-31': 3441.985,\n",
       "  '2019-02-01': 3468.2517,\n",
       "  '2019-02-02': 3466.2175,\n",
       "  '2019-02-03': 3443.1667,\n",
       "  '2019-02-04': 3451.115,\n",
       "  '2019-02-05': 3472.035,\n",
       "  '2019-02-06': 3393.6717,\n",
       "  '2019-02-07': 3385.97,\n",
       "  '2019-02-08': 3657.4017,\n",
       "  '2019-02-09': 3654.3,\n",
       "  '2019-02-10': 3681.0517,\n",
       "  '2019-02-11': 3621.0283,\n",
       "  '2019-02-12': 3622.7133,\n",
       "  '2019-02-13': 3605.3133,\n",
       "  '2019-02-14': 3592.91,\n",
       "  '2019-02-15': 3601.0583,\n",
       "  '2019-02-16': 3611.975,\n",
       "  '2019-02-17': 3661.7417,\n",
       "  '2019-02-18': 3905.7433,\n",
       "  '2019-02-19': 3922.0983,\n",
       "  '2019-02-20': 3976.79,\n",
       "  '2019-02-21': 3936.34,\n",
       "  '2019-02-22': 3979.995,\n",
       "  '2019-02-23': 4145.4383,\n",
       "  '2019-02-24': 3767.305,\n",
       "  '2019-02-25': 3852.16,\n",
       "  '2019-02-26': 3830.6733,\n",
       "  '2019-02-27': 3832.26,\n",
       "  '2019-02-28': 3826.0233,\n",
       "  '2019-03-01': 3850.0717,\n",
       "  '2019-03-02': 3845.1133,\n",
       "  '2019-03-03': 3820.1467,\n",
       "  '2019-03-04': 3732.5733,\n",
       "  '2019-03-05': 3880.8,\n",
       "  '2019-03-06': 3884.9983,\n",
       "  '2019-03-07': 3891.7317,\n",
       "  '2019-03-08': 3875.47,\n",
       "  '2019-03-09': 3950.61,\n",
       "  '2019-03-10': 3932.0433,\n",
       "  '2019-03-11': 3882.615,\n",
       "  '2019-03-12': 3891.3467,\n",
       "  '2019-03-13': 3882.8017,\n",
       "  '2019-03-14': 3885.9883,\n",
       "  '2019-03-15': 3935.415,\n",
       "  '2019-03-16': 4022.5383,\n",
       "  '2019-03-17': 3999.6617,\n",
       "  '2019-03-18': 4004.8117,\n",
       "  '2019-03-19': 4033.7183,\n",
       "  '2019-03-20': 4064.0867,\n",
       "  '2019-03-21': 3999.3233,\n",
       "  '2019-03-22': 4003.55,\n",
       "  '2019-03-23': 4009.4683,\n",
       "  '2019-03-24': 3994.0283,\n",
       "  '2019-03-25': 3929.3083,\n",
       "  '2019-03-26': 3945.325,\n",
       "  '2019-03-27': 4051.9033,\n",
       "  '2019-03-28': 4039.0017,\n",
       "  '2019-03-29': 4119.0183,\n",
       "  '2019-03-30': 4117.8483,\n",
       "  '2019-03-31': 4117.51,\n",
       "  '2019-04-01': 4156.39,\n",
       "  '2019-04-02': 4908.6883,\n",
       "  '2019-04-03': 4977.0017,\n",
       "  '2019-04-04': 4917.8467,\n",
       "  '2019-04-05': 5053.72,\n",
       "  '2019-04-06': 5058.34,\n",
       "  '2019-04-07': 5208.02,\n",
       "  '2019-04-08': 5296.9317,\n",
       "  '2019-04-09': 5196.985,\n",
       "  '2019-04-10': 5319.705,\n",
       "  '2019-04-11': 5046.865,\n",
       "  '2019-04-12': 5088.7483,\n",
       "  '2019-04-13': 5077.7183,\n",
       "  '2019-04-14': 5172.4517,\n",
       "  '2019-04-15': 5033.095,\n",
       "  '2019-04-16': 5214.55,\n",
       "  '2019-04-17': 5237.38,\n",
       "  '2019-04-18': 5290.7433,\n",
       "  '2019-04-19': 5297.5667,\n",
       "  '2019-04-20': 5326.9383,\n",
       "  '2019-04-21': 5305.9967,\n",
       "  '2019-04-22': 5396.5783,\n",
       "  '2019-04-23': 5540.1117,\n",
       "  '2019-04-24': 5454.4483,\n",
       "  '2019-04-25': 5160.64,\n",
       "  '2019-04-26': 5241.025,\n",
       "  '2019-04-27': 5247.24,\n",
       "  '2019-04-28': 5266.3467,\n",
       "  '2019-04-29': 5259.6267,\n",
       "  '2019-04-30': 5378.6183,\n",
       "  '2019-05-01': 5423.66,\n",
       "  '2019-05-02': 5503.3017,\n",
       "  '2019-05-03': 5775.8817,\n",
       "  '2019-05-04': 5876.01,\n",
       "  '2019-05-05': 5823.795,\n",
       "  '2019-05-06': 5799.6167,\n",
       "  '2019-05-07': 5861.5917,\n",
       "  '2019-05-08': 6029.08,\n",
       "  '2019-05-09': 6187.28,\n",
       "  '2019-05-10': 6375.5617,\n",
       "  '2019-05-11': 7184.64,\n",
       "  '2019-05-12': 6979.1317,\n",
       "  '2019-05-13': 7801.2967,\n",
       "  '2019-05-14': 7978.01,\n",
       "  '2019-05-15': 8180.425,\n",
       "  '2019-05-16': 7875.1633,\n",
       "  '2019-05-17': 7376.8533,\n",
       "  '2019-05-18': 7259.5067,\n",
       "  '2019-05-19': 8189.3767,\n",
       "  '2019-05-20': 7995.965,\n",
       "  '2019-05-21': 7945.045,\n",
       "  '2019-05-22': 7623.5133,\n",
       "  '2019-05-23': 7875.9967,\n",
       "  '2019-05-24': 7998.22,\n",
       "  '2019-05-25': 8063.9483,\n",
       "  '2019-05-26': 8738.18,\n",
       "  '2019-05-27': 8783.0683,\n",
       "  '2019-05-28': 8724.455,\n",
       "  '2019-05-29': 8670.265,\n",
       "  '2019-05-30': 8273.0117,\n",
       "  '2019-05-31': 8544.97,\n",
       "  '2019-06-01': 8553.1267,\n",
       "  '2019-06-02': 8737.3617,\n",
       "  '2019-06-03': 8105.13,\n",
       "  '2019-06-04': 7677.3983,\n",
       "  '2019-06-05': 7785.985,\n",
       "  '2019-06-06': 7806.715,\n",
       "  '2019-06-07': 8001.2767,\n",
       "  '2019-06-08': 7928.5417,\n",
       "  '2019-06-09': 7634.6483,\n",
       "  '2019-06-10': 8016.6917,\n",
       "  '2019-06-11': 7913.8933,\n",
       "  '2019-06-12': 8173.3567,\n",
       "  '2019-06-13': 8232.7533,\n",
       "  '2019-06-14': 8693.765,\n",
       "  '2019-06-15': 8857.0783,\n",
       "  '2019-06-16': 8976.5367,\n",
       "  '2019-06-17': 9340.25,\n",
       "  '2019-06-18': 9083.8167,\n",
       "  '2019-06-19': 9288.5367,\n",
       "  '2019-06-20': 9539.7883,\n",
       "  '2019-06-21': 10232.9167,\n",
       "  '2019-06-22': 10695.3683,\n",
       "  '2019-06-23': 10860.8233,\n",
       "  '2019-06-24': 11041.8533,\n",
       "  '2019-06-25': 11752.6783,\n",
       "  '2019-06-26': 12907.135,\n",
       "  '2019-06-27': 11170.885,\n",
       "  '2019-06-28': 12356.2783,\n",
       "  '2019-06-29': 11882.5083,\n",
       "  '2019-06-30': 10769.4217,\n",
       "  '2019-07-01': 10599.3267},\n",
       " 'disclaimer': 'This data was produced from the CoinDesk Bitcoin Price Index. BPI value data returned as USD.',\n",
       " 'time': {'updated': 'Jul 2, 2019 00:03:00 UTC',\n",
       "  'updatedISO': '2019-07-02T00:03:00+00:00'}}"
      ]
     },
     "execution_count": 2,
     "metadata": {},
     "output_type": "execute_result"
    }
   ],
   "source": [
    "jsondata = json.loads(result.content)\n",
    "jsondata"
   ]
  },
  {
   "cell_type": "markdown",
   "metadata": {},
   "source": [
    "We can then wrap that up in to a pandas dataframe! Note: pandas does have a `read_json` helper as well, but sometimes it is not well suited given the structure of the json output."
   ]
  },
  {
   "cell_type": "code",
   "execution_count": 6,
   "metadata": {},
   "outputs": [
    {
     "ename": "ValueError",
     "evalue": "Invalid file path or buffer object type: <class 'dict'>",
     "output_type": "error",
     "traceback": [
      "\u001b[0;31m---------------------------------------------------------------------------\u001b[0m",
      "\u001b[0;31mValueError\u001b[0m                                Traceback (most recent call last)",
      "\u001b[1;32m/Users/songshuang/Desktop/JPMC-training/notebooks/4_webapi.ipynb Cell 10\u001b[0m in \u001b[0;36m2\n\u001b[1;32m      <a href='vscode-notebook-cell:/Users/songshuang/Desktop/JPMC-training/notebooks/4_webapi.ipynb#X12sZmlsZQ%3D%3D?line=0'>1</a>\u001b[0m \u001b[39m# note the json gets read with the disclaimer and time outputs as well\u001b[39;00m\n\u001b[0;32m----> <a href='vscode-notebook-cell:/Users/songshuang/Desktop/JPMC-training/notebooks/4_webapi.ipynb#X12sZmlsZQ%3D%3D?line=1'>2</a>\u001b[0m data \u001b[39m=\u001b[39m pd\u001b[39m.\u001b[39;49mread_json(jsondata)\n\u001b[1;32m      <a href='vscode-notebook-cell:/Users/songshuang/Desktop/JPMC-training/notebooks/4_webapi.ipynb#X12sZmlsZQ%3D%3D?line=2'>3</a>\u001b[0m data\n",
      "File \u001b[0;32m~/opt/anaconda3/lib/python3.8/site-packages/pandas/util/_decorators.py:211\u001b[0m, in \u001b[0;36mdeprecate_kwarg.<locals>._deprecate_kwarg.<locals>.wrapper\u001b[0;34m(*args, **kwargs)\u001b[0m\n\u001b[1;32m    209\u001b[0m     \u001b[39melse\u001b[39;00m:\n\u001b[1;32m    210\u001b[0m         kwargs[new_arg_name] \u001b[39m=\u001b[39m new_arg_value\n\u001b[0;32m--> 211\u001b[0m \u001b[39mreturn\u001b[39;00m func(\u001b[39m*\u001b[39;49margs, \u001b[39m*\u001b[39;49m\u001b[39m*\u001b[39;49mkwargs)\n",
      "File \u001b[0;32m~/opt/anaconda3/lib/python3.8/site-packages/pandas/util/_decorators.py:331\u001b[0m, in \u001b[0;36mdeprecate_nonkeyword_arguments.<locals>.decorate.<locals>.wrapper\u001b[0;34m(*args, **kwargs)\u001b[0m\n\u001b[1;32m    325\u001b[0m \u001b[39mif\u001b[39;00m \u001b[39mlen\u001b[39m(args) \u001b[39m>\u001b[39m num_allow_args:\n\u001b[1;32m    326\u001b[0m     warnings\u001b[39m.\u001b[39mwarn(\n\u001b[1;32m    327\u001b[0m         msg\u001b[39m.\u001b[39mformat(arguments\u001b[39m=\u001b[39m_format_argument_list(allow_args)),\n\u001b[1;32m    328\u001b[0m         \u001b[39mFutureWarning\u001b[39;00m,\n\u001b[1;32m    329\u001b[0m         stacklevel\u001b[39m=\u001b[39mfind_stack_level(),\n\u001b[1;32m    330\u001b[0m     )\n\u001b[0;32m--> 331\u001b[0m \u001b[39mreturn\u001b[39;00m func(\u001b[39m*\u001b[39;49margs, \u001b[39m*\u001b[39;49m\u001b[39m*\u001b[39;49mkwargs)\n",
      "File \u001b[0;32m~/opt/anaconda3/lib/python3.8/site-packages/pandas/io/json/_json.py:733\u001b[0m, in \u001b[0;36mread_json\u001b[0;34m(path_or_buf, orient, typ, dtype, convert_axes, convert_dates, keep_default_dates, numpy, precise_float, date_unit, encoding, encoding_errors, lines, chunksize, compression, nrows, storage_options)\u001b[0m\n\u001b[1;32m    730\u001b[0m \u001b[39mif\u001b[39;00m convert_axes \u001b[39mis\u001b[39;00m \u001b[39mNone\u001b[39;00m \u001b[39mand\u001b[39;00m orient \u001b[39m!=\u001b[39m \u001b[39m\"\u001b[39m\u001b[39mtable\u001b[39m\u001b[39m\"\u001b[39m:\n\u001b[1;32m    731\u001b[0m     convert_axes \u001b[39m=\u001b[39m \u001b[39mTrue\u001b[39;00m\n\u001b[0;32m--> 733\u001b[0m json_reader \u001b[39m=\u001b[39m JsonReader(\n\u001b[1;32m    734\u001b[0m     path_or_buf,\n\u001b[1;32m    735\u001b[0m     orient\u001b[39m=\u001b[39;49morient,\n\u001b[1;32m    736\u001b[0m     typ\u001b[39m=\u001b[39;49mtyp,\n\u001b[1;32m    737\u001b[0m     dtype\u001b[39m=\u001b[39;49mdtype,\n\u001b[1;32m    738\u001b[0m     convert_axes\u001b[39m=\u001b[39;49mconvert_axes,\n\u001b[1;32m    739\u001b[0m     convert_dates\u001b[39m=\u001b[39;49mconvert_dates,\n\u001b[1;32m    740\u001b[0m     keep_default_dates\u001b[39m=\u001b[39;49mkeep_default_dates,\n\u001b[1;32m    741\u001b[0m     numpy\u001b[39m=\u001b[39;49mnumpy,\n\u001b[1;32m    742\u001b[0m     precise_float\u001b[39m=\u001b[39;49mprecise_float,\n\u001b[1;32m    743\u001b[0m     date_unit\u001b[39m=\u001b[39;49mdate_unit,\n\u001b[1;32m    744\u001b[0m     encoding\u001b[39m=\u001b[39;49mencoding,\n\u001b[1;32m    745\u001b[0m     lines\u001b[39m=\u001b[39;49mlines,\n\u001b[1;32m    746\u001b[0m     chunksize\u001b[39m=\u001b[39;49mchunksize,\n\u001b[1;32m    747\u001b[0m     compression\u001b[39m=\u001b[39;49mcompression,\n\u001b[1;32m    748\u001b[0m     nrows\u001b[39m=\u001b[39;49mnrows,\n\u001b[1;32m    749\u001b[0m     storage_options\u001b[39m=\u001b[39;49mstorage_options,\n\u001b[1;32m    750\u001b[0m     encoding_errors\u001b[39m=\u001b[39;49mencoding_errors,\n\u001b[1;32m    751\u001b[0m )\n\u001b[1;32m    753\u001b[0m \u001b[39mif\u001b[39;00m chunksize:\n\u001b[1;32m    754\u001b[0m     \u001b[39mreturn\u001b[39;00m json_reader\n",
      "File \u001b[0;32m~/opt/anaconda3/lib/python3.8/site-packages/pandas/io/json/_json.py:818\u001b[0m, in \u001b[0;36mJsonReader.__init__\u001b[0;34m(self, filepath_or_buffer, orient, typ, dtype, convert_axes, convert_dates, keep_default_dates, numpy, precise_float, date_unit, encoding, lines, chunksize, compression, nrows, storage_options, encoding_errors)\u001b[0m\n\u001b[1;32m    815\u001b[0m     \u001b[39mif\u001b[39;00m \u001b[39mnot\u001b[39;00m \u001b[39mself\u001b[39m\u001b[39m.\u001b[39mlines:\n\u001b[1;32m    816\u001b[0m         \u001b[39mraise\u001b[39;00m \u001b[39mValueError\u001b[39;00m(\u001b[39m\"\u001b[39m\u001b[39mnrows can only be passed if lines=True\u001b[39m\u001b[39m\"\u001b[39m)\n\u001b[0;32m--> 818\u001b[0m data \u001b[39m=\u001b[39m \u001b[39mself\u001b[39;49m\u001b[39m.\u001b[39;49m_get_data_from_filepath(filepath_or_buffer)\n\u001b[1;32m    819\u001b[0m \u001b[39mself\u001b[39m\u001b[39m.\u001b[39mdata \u001b[39m=\u001b[39m \u001b[39mself\u001b[39m\u001b[39m.\u001b[39m_preprocess_data(data)\n",
      "File \u001b[0;32m~/opt/anaconda3/lib/python3.8/site-packages/pandas/io/json/_json.py:858\u001b[0m, in \u001b[0;36mJsonReader._get_data_from_filepath\u001b[0;34m(self, filepath_or_buffer)\u001b[0m\n\u001b[1;32m    851\u001b[0m filepath_or_buffer \u001b[39m=\u001b[39m stringify_path(filepath_or_buffer)\n\u001b[1;32m    852\u001b[0m \u001b[39mif\u001b[39;00m (\n\u001b[1;32m    853\u001b[0m     \u001b[39mnot\u001b[39;00m \u001b[39misinstance\u001b[39m(filepath_or_buffer, \u001b[39mstr\u001b[39m)\n\u001b[1;32m    854\u001b[0m     \u001b[39mor\u001b[39;00m is_url(filepath_or_buffer)\n\u001b[1;32m    855\u001b[0m     \u001b[39mor\u001b[39;00m is_fsspec_url(filepath_or_buffer)\n\u001b[1;32m    856\u001b[0m     \u001b[39mor\u001b[39;00m file_exists(filepath_or_buffer)\n\u001b[1;32m    857\u001b[0m ):\n\u001b[0;32m--> 858\u001b[0m     \u001b[39mself\u001b[39m\u001b[39m.\u001b[39mhandles \u001b[39m=\u001b[39m get_handle(\n\u001b[1;32m    859\u001b[0m         filepath_or_buffer,\n\u001b[1;32m    860\u001b[0m         \u001b[39m\"\u001b[39;49m\u001b[39mr\u001b[39;49m\u001b[39m\"\u001b[39;49m,\n\u001b[1;32m    861\u001b[0m         encoding\u001b[39m=\u001b[39;49m\u001b[39mself\u001b[39;49m\u001b[39m.\u001b[39;49mencoding,\n\u001b[1;32m    862\u001b[0m         compression\u001b[39m=\u001b[39;49m\u001b[39mself\u001b[39;49m\u001b[39m.\u001b[39;49mcompression,\n\u001b[1;32m    863\u001b[0m         storage_options\u001b[39m=\u001b[39;49m\u001b[39mself\u001b[39;49m\u001b[39m.\u001b[39;49mstorage_options,\n\u001b[1;32m    864\u001b[0m         errors\u001b[39m=\u001b[39;49m\u001b[39mself\u001b[39;49m\u001b[39m.\u001b[39;49mencoding_errors,\n\u001b[1;32m    865\u001b[0m     )\n\u001b[1;32m    866\u001b[0m     filepath_or_buffer \u001b[39m=\u001b[39m \u001b[39mself\u001b[39m\u001b[39m.\u001b[39mhandles\u001b[39m.\u001b[39mhandle\n\u001b[1;32m    867\u001b[0m \u001b[39melif\u001b[39;00m (\n\u001b[1;32m    868\u001b[0m     \u001b[39misinstance\u001b[39m(filepath_or_buffer, \u001b[39mstr\u001b[39m)\n\u001b[1;32m    869\u001b[0m     \u001b[39mand\u001b[39;00m filepath_or_buffer\u001b[39m.\u001b[39mlower()\u001b[39m.\u001b[39mendswith(\n\u001b[0;32m   (...)\u001b[0m\n\u001b[1;32m    872\u001b[0m     \u001b[39mand\u001b[39;00m \u001b[39mnot\u001b[39;00m file_exists(filepath_or_buffer)\n\u001b[1;32m    873\u001b[0m ):\n",
      "File \u001b[0;32m~/opt/anaconda3/lib/python3.8/site-packages/pandas/io/common.py:713\u001b[0m, in \u001b[0;36mget_handle\u001b[0;34m(path_or_buf, mode, encoding, compression, memory_map, is_text, errors, storage_options)\u001b[0m\n\u001b[1;32m    710\u001b[0m     codecs\u001b[39m.\u001b[39mlookup_error(errors)\n\u001b[1;32m    712\u001b[0m \u001b[39m# open URLs\u001b[39;00m\n\u001b[0;32m--> 713\u001b[0m ioargs \u001b[39m=\u001b[39m _get_filepath_or_buffer(\n\u001b[1;32m    714\u001b[0m     path_or_buf,\n\u001b[1;32m    715\u001b[0m     encoding\u001b[39m=\u001b[39;49mencoding,\n\u001b[1;32m    716\u001b[0m     compression\u001b[39m=\u001b[39;49mcompression,\n\u001b[1;32m    717\u001b[0m     mode\u001b[39m=\u001b[39;49mmode,\n\u001b[1;32m    718\u001b[0m     storage_options\u001b[39m=\u001b[39;49mstorage_options,\n\u001b[1;32m    719\u001b[0m )\n\u001b[1;32m    721\u001b[0m handle \u001b[39m=\u001b[39m ioargs\u001b[39m.\u001b[39mfilepath_or_buffer\n\u001b[1;32m    722\u001b[0m handles: \u001b[39mlist\u001b[39m[BaseBuffer]\n",
      "File \u001b[0;32m~/opt/anaconda3/lib/python3.8/site-packages/pandas/io/common.py:451\u001b[0m, in \u001b[0;36m_get_filepath_or_buffer\u001b[0;34m(filepath_or_buffer, encoding, compression, mode, storage_options)\u001b[0m\n\u001b[1;32m    447\u001b[0m \u001b[39mif\u001b[39;00m \u001b[39mnot\u001b[39;00m (\n\u001b[1;32m    448\u001b[0m     \u001b[39mhasattr\u001b[39m(filepath_or_buffer, \u001b[39m\"\u001b[39m\u001b[39mread\u001b[39m\u001b[39m\"\u001b[39m) \u001b[39mor\u001b[39;00m \u001b[39mhasattr\u001b[39m(filepath_or_buffer, \u001b[39m\"\u001b[39m\u001b[39mwrite\u001b[39m\u001b[39m\"\u001b[39m)\n\u001b[1;32m    449\u001b[0m ):\n\u001b[1;32m    450\u001b[0m     msg \u001b[39m=\u001b[39m \u001b[39mf\u001b[39m\u001b[39m\"\u001b[39m\u001b[39mInvalid file path or buffer object type: \u001b[39m\u001b[39m{\u001b[39;00m\u001b[39mtype\u001b[39m(filepath_or_buffer)\u001b[39m}\u001b[39;00m\u001b[39m\"\u001b[39m\n\u001b[0;32m--> 451\u001b[0m     \u001b[39mraise\u001b[39;00m \u001b[39mValueError\u001b[39;00m(msg)\n\u001b[1;32m    453\u001b[0m \u001b[39mreturn\u001b[39;00m IOArgs(\n\u001b[1;32m    454\u001b[0m     filepath_or_buffer\u001b[39m=\u001b[39mfilepath_or_buffer,\n\u001b[1;32m    455\u001b[0m     encoding\u001b[39m=\u001b[39mencoding,\n\u001b[0;32m   (...)\u001b[0m\n\u001b[1;32m    458\u001b[0m     mode\u001b[39m=\u001b[39mmode,\n\u001b[1;32m    459\u001b[0m )\n",
      "\u001b[0;31mValueError\u001b[0m: Invalid file path or buffer object type: <class 'dict'>"
     ]
    }
   ],
   "source": [
    "# note the json gets read with the disclaimer and time outputs as well\n",
    "data = pd.read_json(jsondata)\n",
    "data"
   ]
  },
  {
   "cell_type": "code",
   "execution_count": 4,
   "metadata": {},
   "outputs": [
    {
     "data": {
      "text/html": [
       "<div>\n",
       "<style scoped>\n",
       "    .dataframe tbody tr th:only-of-type {\n",
       "        vertical-align: middle;\n",
       "    }\n",
       "\n",
       "    .dataframe tbody tr th {\n",
       "        vertical-align: top;\n",
       "    }\n",
       "\n",
       "    .dataframe thead th {\n",
       "        text-align: right;\n",
       "    }\n",
       "</style>\n",
       "<table border=\"1\" class=\"dataframe\">\n",
       "  <thead>\n",
       "    <tr style=\"text-align: right;\">\n",
       "      <th></th>\n",
       "      <th>Bitcoin Price Index</th>\n",
       "    </tr>\n",
       "  </thead>\n",
       "  <tbody>\n",
       "    <tr>\n",
       "      <th>2019-01-01</th>\n",
       "      <td>3869.4700</td>\n",
       "    </tr>\n",
       "    <tr>\n",
       "      <th>2019-01-02</th>\n",
       "      <td>3941.2167</td>\n",
       "    </tr>\n",
       "    <tr>\n",
       "      <th>2019-01-03</th>\n",
       "      <td>3832.1550</td>\n",
       "    </tr>\n",
       "    <tr>\n",
       "      <th>2019-01-04</th>\n",
       "      <td>3863.6267</td>\n",
       "    </tr>\n",
       "    <tr>\n",
       "      <th>2019-01-05</th>\n",
       "      <td>3835.5983</td>\n",
       "    </tr>\n",
       "    <tr>\n",
       "      <th>...</th>\n",
       "      <td>...</td>\n",
       "    </tr>\n",
       "    <tr>\n",
       "      <th>2019-06-27</th>\n",
       "      <td>11170.8850</td>\n",
       "    </tr>\n",
       "    <tr>\n",
       "      <th>2019-06-28</th>\n",
       "      <td>12356.2783</td>\n",
       "    </tr>\n",
       "    <tr>\n",
       "      <th>2019-06-29</th>\n",
       "      <td>11882.5083</td>\n",
       "    </tr>\n",
       "    <tr>\n",
       "      <th>2019-06-30</th>\n",
       "      <td>10769.4217</td>\n",
       "    </tr>\n",
       "    <tr>\n",
       "      <th>2019-07-01</th>\n",
       "      <td>10599.3267</td>\n",
       "    </tr>\n",
       "  </tbody>\n",
       "</table>\n",
       "<p>182 rows × 1 columns</p>\n",
       "</div>"
      ],
      "text/plain": [
       "            Bitcoin Price Index\n",
       "2019-01-01            3869.4700\n",
       "2019-01-02            3941.2167\n",
       "2019-01-03            3832.1550\n",
       "2019-01-04            3863.6267\n",
       "2019-01-05            3835.5983\n",
       "...                         ...\n",
       "2019-06-27           11170.8850\n",
       "2019-06-28           12356.2783\n",
       "2019-06-29           11882.5083\n",
       "2019-06-30           10769.4217\n",
       "2019-07-01           10599.3267\n",
       "\n",
       "[182 rows x 1 columns]"
      ]
     },
     "execution_count": 4,
     "metadata": {},
     "output_type": "execute_result"
    }
   ],
   "source": [
    "data = pd.DataFrame({'Bitcoin Price Index': jsondata['bpi']})\n",
    "data"
   ]
  },
  {
   "cell_type": "code",
   "execution_count": 5,
   "metadata": {},
   "outputs": [
    {
     "data": {
      "text/plain": [
       "<AxesSubplot:>"
      ]
     },
     "execution_count": 5,
     "metadata": {},
     "output_type": "execute_result"
    },
    {
     "data": {
      "image/png": "[encoded data removed]",
      "text/plain": [
       "<Figure size 640x480 with 1 Axes>"
      ]
     },
     "metadata": {},
     "output_type": "display_data"
    }
   ],
   "source": [
    "%matplotlib inline\n",
    "data.plot()"
   ]
  },
  {
   "cell_type": "code",
   "execution_count": 7,
   "metadata": {},
   "outputs": [
    {
     "name": "stdout",
     "output_type": "stream",
     "text": [
      "2023-04-09 01:38:10.744738\n"
     ]
    }
   ],
   "source": [
    "import datetime\n",
    "print(datetime.datetime.now())"
   ]
  },
  {
   "attachments": {},
   "cell_type": "markdown",
   "metadata": {},
   "source": [
    "I have done reading this passage now. 2023-04-09 01:38:10.744738"
   ]
  },
  {
   "cell_type": "markdown",
   "metadata": {},
   "source": []
  }
 ],
 "metadata": {
  "kernelspec": {
   "display_name": "Python 3",
   "language": "python",
   "name": "python3"
  },
  "language_info": {
   "codemirror_mode": {
    "name": "ipython",
    "version": 3
   },
   "file_extension": ".py",
   "mimetype": "text/x-python",
   "name": "python",
   "nbconvert_exporter": "python",
   "pygments_lexer": "ipython3",
   "version": "3.8.16"
  }
 },
 "nbformat": 4,
 "nbformat_minor": 4
}
