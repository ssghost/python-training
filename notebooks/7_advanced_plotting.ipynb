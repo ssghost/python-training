{
 "cells": [
  {
   "cell_type": "markdown",
   "metadata": {},
   "source": [
    "# Advanced Plotting: Beyond matplotlib"
   ]
  },
  {
   "cell_type": "markdown",
   "metadata": {},
   "source": [
    "Alright, so our prior charts were plotted using `matplotlib` which helps us see the data, but the charts don't look amazing and aren't interactive at all. What other options do we have? [seaborn](https://seaborn.pydata.org/index.html) is a wrapper the top of `matplotlib` that makes much prettier plots (with a ton of statistical plotting capabilities) and [plotly](https://plot.ly/) is a great cross-platform plotting liberary that we can easil set up. Below we'll use `seaborn` and `plotly` to make some pretty pictures. "
   ]
  },
  {
   "cell_type": "markdown",
   "metadata": {},
   "source": [
    "First, let's import some libraries."
   ]
  },
  {
   "cell_type": "code",
   "execution_count": 1,
   "metadata": {},
   "outputs": [],
   "source": [
    "import pandas as pd\n",
    "import datetime as dt\n",
    "import seaborn as sns\n",
    "import numpy as np\n",
    "import matplotlib.pyplot as plt\n",
    "import datetime as dt\n",
    "\n",
    "%matplotlib inline"
   ]
  },
  {
   "cell_type": "markdown",
   "metadata": {},
   "source": [
    "Since we don't have access to some of the data that we do within JPM, we'll have to generate some data to plot. In this case, we're going to generate an approximation of Russell2k implied volatility and HYG (iTraxx High Yield Bond ETF) prices."
   ]
  },
  {
   "cell_type": "code",
   "execution_count": 3,
   "metadata": {},
   "outputs": [],
   "source": [
    "vols = [ 0.3, 0.06 ]\n",
    "dailyVols = vols / np.sqrt( 252 )\n",
    "corr = -0.4\n",
    "covars = [ \n",
    "    [ dailyVols[ 0 ] ** 2, dailyVols[ 0 ] * dailyVols[ 1 ] * corr ],\n",
    "    [ dailyVols[ 0 ] * dailyVols[ 1 ] * corr, dailyVols[ 1 ] ** 2 ]\n",
    "]\n",
    "randomSeries = np.random.multivariate_normal( ( 0.001, 0 ), covars, 500 ).T"
   ]
  },
  {
   "cell_type": "code",
   "execution_count": 4,
   "metadata": {},
   "outputs": [
    {
     "data": {
      "text/plain": [
       "array([[-4.28691811e-03, -5.92208641e-03, -2.59125739e-02,\n",
       "         4.30564184e-03, -3.86210179e-03, -3.04037520e-03,\n",
       "         1.12691407e-02,  3.73820437e-02,  1.99722058e-02,\n",
       "        -1.21436793e-02, -4.56811445e-03,  3.27455373e-02,\n",
       "        -8.00879686e-03,  1.73271579e-02, -4.23918688e-02,\n",
       "         1.38249026e-02,  2.28240386e-02,  6.44925686e-03,\n",
       "         3.62773627e-03, -1.33897367e-02,  2.03799457e-03,\n",
       "        -2.07398862e-02, -9.97463807e-03,  9.55775436e-03,\n",
       "         2.72397320e-02, -1.54861523e-02, -8.66488976e-03,\n",
       "        -3.23877003e-03, -1.71486683e-02, -1.73455568e-02,\n",
       "         3.19846824e-02,  1.71783213e-02, -2.39222841e-02,\n",
       "         7.87969987e-03, -1.19002539e-02, -9.07508096e-03,\n",
       "        -1.26273506e-02,  3.07404065e-02,  7.50977136e-03,\n",
       "        -7.10631625e-03, -2.00466702e-02, -1.62727121e-02,\n",
       "         1.79344202e-02,  1.97582605e-02,  2.75496189e-04,\n",
       "         2.73226850e-02,  4.51302002e-02,  1.38631651e-02,\n",
       "        -1.41346809e-03, -1.75865038e-02,  2.28969527e-05,\n",
       "         1.85874751e-03, -1.61725041e-02,  7.73545896e-03,\n",
       "         3.33302600e-03, -3.50965857e-02, -9.94351036e-03,\n",
       "         1.56682168e-02, -3.49055125e-02, -1.04697498e-02,\n",
       "         4.22024994e-03,  1.40428158e-02, -4.72039832e-03,\n",
       "         2.35492263e-02,  8.75177326e-03,  4.29215762e-02,\n",
       "         6.39685989e-03,  2.64429177e-02,  8.79756972e-03,\n",
       "        -4.17337338e-02, -4.14299436e-05,  2.02893470e-02,\n",
       "        -3.99660920e-03, -3.62388351e-02, -8.26994315e-04,\n",
       "         5.31073934e-02,  5.36588086e-03,  2.72372812e-03,\n",
       "        -3.56520450e-03, -2.45342817e-02,  3.06092818e-02,\n",
       "        -2.19290987e-02, -1.64269765e-02, -2.98591711e-02,\n",
       "        -2.44689154e-03,  1.59082326e-02, -2.45652501e-02,\n",
       "         9.27339911e-03, -1.46393453e-02, -1.03411963e-02,\n",
       "        -1.33182744e-02,  6.25708502e-03, -4.17958077e-03,\n",
       "         1.11459729e-03, -1.19962583e-02,  3.42732692e-02,\n",
       "        -1.75429983e-02, -1.71631597e-02, -1.06223375e-02,\n",
       "         2.12965008e-03, -7.54954676e-04,  1.28130846e-02,\n",
       "         2.92998187e-02,  1.66062957e-02, -1.42377836e-02,\n",
       "         1.14526751e-02,  9.33117152e-03, -1.16229211e-02,\n",
       "         1.83395036e-03, -2.68574341e-02, -3.35436057e-02,\n",
       "        -6.29236477e-03, -3.64995040e-04, -2.37650902e-03,\n",
       "         1.87232758e-02,  2.08617345e-02, -4.09447983e-03,\n",
       "        -1.30335602e-02, -1.08859278e-02, -3.35443601e-03,\n",
       "         3.95799340e-03, -1.85669873e-02,  6.74499591e-03,\n",
       "         2.00966472e-02, -4.62813580e-03,  8.43799683e-03,\n",
       "         8.59781789e-03,  3.37643248e-02,  1.04877254e-02,\n",
       "        -3.79244556e-02, -8.09773237e-03, -8.29103936e-03,\n",
       "        -1.45682295e-02,  2.66550277e-02, -5.50834405e-03,\n",
       "        -8.20760372e-03, -8.42834986e-03,  1.12086093e-02,\n",
       "        -2.82287880e-02, -1.39187170e-02,  5.37839790e-03,\n",
       "         9.75120246e-03,  1.07542872e-02, -7.48960478e-03,\n",
       "        -1.20940814e-02,  2.72451783e-03, -1.70347729e-02,\n",
       "         1.23963095e-03,  1.49262139e-02,  1.14696945e-02,\n",
       "        -5.73172866e-03, -2.22117597e-02, -2.34185036e-03,\n",
       "         1.08157423e-02, -4.91404038e-03, -4.96370067e-03,\n",
       "         2.40518623e-02, -2.58908796e-02,  1.16822673e-02,\n",
       "         3.01589594e-02, -2.49859096e-02,  4.21506044e-02,\n",
       "        -2.24606060e-02, -1.40480399e-02,  2.69513078e-02,\n",
       "        -1.86961471e-02, -3.30310857e-03, -4.44904049e-02,\n",
       "        -1.86961314e-03, -3.54904996e-03,  1.50303187e-02,\n",
       "        -1.46593187e-02, -1.27804643e-02, -3.41627187e-03,\n",
       "         2.73729562e-02,  4.17560305e-02,  1.06495738e-02,\n",
       "        -3.02762485e-02, -1.24796903e-02,  1.43680735e-02,\n",
       "        -1.07211814e-03,  1.64702433e-02, -1.19056409e-02,\n",
       "         1.01189285e-02, -5.37742985e-03,  1.72619293e-02,\n",
       "        -1.33671399e-02,  4.65105793e-03, -3.24516074e-03,\n",
       "        -1.49441497e-02,  4.00601302e-02,  3.23787678e-02,\n",
       "        -4.97842565e-03, -5.67934717e-03,  8.75348040e-03,\n",
       "         9.93145631e-04, -2.79061935e-02, -2.76459536e-02,\n",
       "         1.13082594e-02,  6.16941088e-03,  2.82495912e-02,\n",
       "        -8.63334505e-03, -1.50715561e-02,  2.29613751e-02,\n",
       "        -1.58941386e-02, -6.09303790e-03,  3.80511703e-02,\n",
       "         1.94290623e-02, -6.98690308e-04, -3.75511669e-04,\n",
       "         3.57840078e-03,  2.28454485e-02, -4.06907728e-02,\n",
       "         3.49017863e-03, -3.47069518e-02,  1.29078340e-02,\n",
       "         1.05540296e-02,  2.46523051e-02,  2.12486371e-02,\n",
       "        -5.22665209e-02,  8.82868257e-03,  8.51575465e-03,\n",
       "        -1.44971617e-02, -2.47398425e-02,  1.95224340e-02,\n",
       "         1.94170038e-02,  3.07200083e-02, -1.51495191e-02,\n",
       "        -9.81767045e-03, -9.37763340e-03, -2.15543125e-02,\n",
       "        -1.77989120e-02,  2.57225708e-02,  5.75945248e-03,\n",
       "         2.81319956e-02,  2.75280989e-03, -2.18186457e-02,\n",
       "         2.75995269e-02, -3.09111327e-04, -5.59858187e-03,\n",
       "         6.50470783e-03,  2.58721633e-02, -1.72013112e-02,\n",
       "        -1.68364752e-02,  1.54678512e-02,  1.03570797e-02,\n",
       "         3.27029783e-02,  2.79462870e-02, -3.36181238e-02,\n",
       "        -9.19235541e-03,  7.15188442e-03,  1.97349810e-02,\n",
       "         1.45072026e-03, -2.70304472e-03,  5.81315517e-02,\n",
       "         1.41754426e-02, -1.76300391e-02, -2.91182175e-02,\n",
       "         1.33860002e-03, -2.15197128e-02, -8.46946087e-03,\n",
       "         1.51934974e-02, -5.71388030e-03,  5.69933561e-03,\n",
       "         6.24577878e-03, -1.73245471e-02,  4.85232927e-03,\n",
       "         1.52304986e-02,  1.41113793e-03, -4.46467195e-03,\n",
       "         1.78787234e-02,  4.69456725e-03,  5.33075803e-02,\n",
       "         5.59330651e-03,  2.42782877e-02, -2.60411987e-02,\n",
       "        -3.20588923e-02, -2.60464130e-02, -8.35405373e-03,\n",
       "         1.06819962e-02, -6.26830159e-04,  1.15133208e-02,\n",
       "        -1.91021674e-02, -7.63490085e-03,  1.19786192e-02,\n",
       "        -1.12332445e-02, -7.81146282e-03,  1.75876489e-02,\n",
       "        -5.12454485e-04,  2.37891587e-02, -1.54167705e-02,\n",
       "         1.47260859e-02, -1.03475861e-02, -1.45538942e-02,\n",
       "        -4.27584857e-03,  7.68148021e-03, -3.14019292e-02,\n",
       "         1.68581635e-02, -3.65943781e-02,  4.26928267e-02,\n",
       "        -1.26586951e-02,  2.60791454e-02, -2.05784581e-02,\n",
       "        -9.39376703e-03, -3.57314890e-02,  1.99569658e-02,\n",
       "         4.59209872e-03, -4.23260283e-03,  2.36517404e-02,\n",
       "         3.37124092e-02, -1.08544665e-02,  2.07543485e-02,\n",
       "         4.61523891e-02, -5.45023023e-04,  1.06640686e-02,\n",
       "        -4.52025658e-03,  2.95537853e-03,  1.76151522e-02,\n",
       "        -1.66336319e-02, -1.61835170e-03, -3.50635325e-03,\n",
       "        -5.13695386e-03,  2.30179446e-02, -5.75360876e-03,\n",
       "        -1.23192511e-02, -2.38486372e-03, -1.74369467e-03,\n",
       "         1.66182010e-02,  9.54809722e-03, -6.67740748e-03,\n",
       "        -3.41132815e-02,  1.51842741e-02, -1.77450265e-02,\n",
       "         1.90660290e-02,  1.38420633e-02,  4.06633379e-04,\n",
       "         2.38094206e-02, -3.19050413e-02, -5.35370194e-03,\n",
       "        -2.26013781e-02,  9.40512486e-04,  2.19768919e-03,\n",
       "         3.30650814e-02, -9.67172718e-03, -1.17822020e-02,\n",
       "        -1.70929980e-02,  3.18735327e-03, -8.32381924e-03,\n",
       "        -4.78615238e-03,  1.55218612e-02,  3.01513425e-02,\n",
       "         2.14420562e-02, -8.04837147e-03,  1.02704475e-02,\n",
       "        -4.91493380e-03,  3.94680051e-02,  5.99210881e-03,\n",
       "         8.46295280e-03, -2.93296793e-02, -2.11665480e-02,\n",
       "        -1.27224700e-02, -4.00368318e-02,  1.23239846e-02,\n",
       "         3.93714277e-03, -1.46969637e-02,  1.49883679e-02,\n",
       "         3.82271513e-02, -2.39325828e-02, -1.14115766e-02,\n",
       "         2.95351894e-03,  2.85218253e-02, -7.81978332e-03,\n",
       "         2.40646357e-02, -1.74483007e-03, -1.54670757e-02,\n",
       "         1.56356867e-02,  2.60968702e-02,  6.81864940e-03,\n",
       "         2.40573453e-02,  6.80021409e-03, -1.15610231e-02,\n",
       "        -3.27920078e-03, -9.26806872e-04, -2.46893986e-02,\n",
       "         7.81621567e-03,  3.73011921e-02, -1.86167242e-02,\n",
       "        -9.59966044e-04,  7.33281865e-03, -2.45327764e-02,\n",
       "         1.10941316e-02, -3.67381356e-02,  1.59359986e-03,\n",
       "         1.39926467e-02,  4.41046459e-03,  1.84044054e-02,\n",
       "         5.75224343e-03,  2.62007275e-03, -7.94465396e-03,\n",
       "         3.95092785e-04,  3.07997110e-02, -8.13766575e-03,\n",
       "        -1.80331303e-02,  3.71548331e-02, -2.84499625e-02,\n",
       "        -2.17087410e-03,  1.86469929e-02, -8.90882923e-03,\n",
       "         8.00372580e-06, -1.53665378e-02, -2.06913371e-02,\n",
       "        -1.50637283e-02,  2.63800769e-03, -2.77791861e-02,\n",
       "         1.48628242e-02,  1.22308966e-02, -5.27095083e-03,\n",
       "        -1.09093947e-02,  1.83467101e-02,  9.64882051e-05,\n",
       "        -4.33795998e-02, -2.22804439e-02,  1.36532201e-02,\n",
       "         7.98992783e-03, -1.04672801e-02,  1.35939296e-02,\n",
       "        -3.44367285e-02,  2.46453885e-02,  8.60564085e-05,\n",
       "         1.89879911e-02,  8.47734367e-03,  1.15934313e-03,\n",
       "         2.44547567e-03, -2.15324265e-02, -1.16167714e-02,\n",
       "        -6.02713096e-03,  2.09260989e-02,  6.94829290e-03,\n",
       "        -3.02559156e-02,  1.90590178e-02, -1.27699613e-02,\n",
       "        -8.37674036e-03, -9.60231786e-03,  1.14449478e-02,\n",
       "         1.10787582e-02, -6.19030720e-03,  5.22184212e-03,\n",
       "         2.55543064e-02,  1.26915893e-02,  3.92803169e-02,\n",
       "        -9.11838319e-03, -2.44187689e-02,  1.57103333e-02,\n",
       "        -2.18249201e-02,  6.59603252e-03, -1.17084029e-02,\n",
       "         3.00376279e-03,  1.00263333e-03, -2.88897609e-02,\n",
       "         6.83133147e-03, -5.40654378e-03,  2.47190796e-04,\n",
       "         1.84705458e-02, -2.02529449e-02, -2.26423607e-02,\n",
       "        -6.79570057e-04, -3.74629710e-03, -3.84032838e-03,\n",
       "         1.98260814e-02,  8.99705584e-03,  2.41558755e-02,\n",
       "        -1.32795590e-02, -1.54263797e-02,  1.61684381e-02,\n",
       "        -1.19385705e-02,  4.10949385e-03,  1.74849562e-02,\n",
       "         2.86454290e-02,  2.70341185e-02, -1.39158720e-02,\n",
       "        -2.88263968e-02,  4.28879770e-03,  1.17331833e-02,\n",
       "         9.18324187e-03,  1.51709754e-02, -7.10753089e-03,\n",
       "         3.63871511e-02, -2.40927500e-02,  2.01127423e-03,\n",
       "         4.54392803e-02, -1.28821148e-02, -3.06366316e-02,\n",
       "         9.03025773e-03, -1.88835406e-02,  4.36670220e-02,\n",
       "         6.10962044e-03,  3.78310816e-02,  3.24884509e-03,\n",
       "         7.00827101e-03, -2.18039806e-02],\n",
       "       [ 6.05744251e-03, -3.54062699e-03,  4.28906346e-03,\n",
       "         3.68802253e-03,  5.49446214e-04,  1.18532939e-03,\n",
       "        -4.82377283e-03,  1.83126761e-03, -2.71554213e-03,\n",
       "        -6.00597225e-03,  4.16957448e-03, -5.77034089e-03,\n",
       "        -3.58167866e-04, -5.98308251e-03, -1.25426182e-03,\n",
       "        -2.00469754e-03, -3.01157829e-04, -2.63901271e-03,\n",
       "        -2.65293169e-03,  5.04948598e-03, -5.04474024e-03,\n",
       "        -2.70052569e-03,  1.77610032e-03, -2.25943277e-03,\n",
       "         2.73834526e-04,  8.13060326e-03, -8.09756428e-04,\n",
       "         3.28170438e-03,  1.14359309e-03, -4.43191956e-04,\n",
       "        -5.37058388e-03, -5.97090098e-04,  4.39601475e-04,\n",
       "        -3.37205475e-03,  3.92734485e-03,  5.43411933e-03,\n",
       "        -4.04714874e-03, -5.12447744e-03,  2.85201589e-04,\n",
       "        -5.00980274e-04,  3.14544032e-03,  4.35843074e-03,\n",
       "        -3.53657453e-03, -5.05697205e-03, -1.70977484e-03,\n",
       "        -2.11455758e-03, -5.33452491e-03,  2.95774076e-03,\n",
       "        -3.73659266e-03, -1.47182326e-03,  2.02566569e-03,\n",
       "        -1.15438507e-03,  3.72554047e-03,  6.65921797e-03,\n",
       "        -5.34862712e-03,  5.50000978e-03,  2.18983388e-03,\n",
       "         1.20939350e-03,  2.50114299e-03, -2.45037828e-03,\n",
       "         2.13207592e-03,  6.73475711e-04, -2.75625527e-03,\n",
       "         6.12521391e-04, -1.84020666e-04, -2.84272106e-03,\n",
       "         1.11444841e-03, -8.38372623e-03, -1.57170717e-03,\n",
       "         5.14145025e-03, -1.27103914e-03, -4.20339083e-03,\n",
       "         2.78506491e-03, -2.88741481e-03, -3.27605793e-03,\n",
       "         5.13304573e-04, -5.10591721e-04, -1.47840886e-03,\n",
       "         2.47318583e-03,  4.18197771e-03, -2.61949577e-03,\n",
       "         4.28202256e-03, -5.92008828e-05,  1.95947566e-03,\n",
       "         9.84866865e-04, -1.62484339e-03,  6.08316054e-03,\n",
       "         4.46019449e-04,  8.65834686e-04,  7.91876166e-03,\n",
       "         3.32200596e-03,  1.68493525e-03,  8.83950450e-04,\n",
       "         6.85704217e-04,  2.88457852e-03, -1.17535753e-03,\n",
       "        -4.38429594e-03, -1.23420452e-03,  3.01901319e-03,\n",
       "         5.11059319e-03,  1.26438223e-03,  9.74570312e-04,\n",
       "        -2.56554772e-03, -9.16652403e-03,  2.89773428e-03,\n",
       "         2.65041042e-03,  5.87694177e-04,  2.24770219e-03,\n",
       "         7.06417366e-03,  4.97991827e-03,  3.35653965e-03,\n",
       "        -2.20849654e-03,  8.81825866e-03,  4.89783595e-04,\n",
       "         1.06937144e-03, -4.07045674e-03,  5.46784974e-03,\n",
       "        -3.12100841e-04, -1.74146497e-03,  4.73726234e-03,\n",
       "         2.36627070e-03,  2.91305407e-03, -3.21082621e-03,\n",
       "         1.96291506e-03, -2.56774223e-03, -2.70469681e-03,\n",
       "        -7.51208727e-04, -2.51708799e-03, -9.06545146e-03,\n",
       "         5.10064535e-03, -6.55026062e-03, -5.72072135e-03,\n",
       "        -3.74693783e-04, -3.93543891e-03, -3.91734711e-03,\n",
       "         4.14757289e-03, -2.10474193e-03, -8.48713672e-04,\n",
       "         1.08778360e-03, -4.53252173e-03, -1.78081356e-03,\n",
       "        -7.16642468e-03, -8.78248583e-04, -8.08348868e-05,\n",
       "         3.23811809e-03, -2.94195611e-03,  1.35279547e-03,\n",
       "        -1.26437783e-03, -4.13303376e-04, -8.91866483e-03,\n",
       "         7.16835094e-04,  3.04948810e-03,  5.34461873e-04,\n",
       "        -2.69669605e-03,  3.51289031e-04,  2.95407495e-04,\n",
       "         2.40118212e-03,  1.13981745e-02, -7.09106851e-03,\n",
       "         3.05484240e-03,  5.73831742e-03, -2.27560511e-03,\n",
       "         1.48487913e-03,  1.49615697e-03,  1.72137668e-03,\n",
       "        -1.43195967e-03,  9.40075564e-04,  2.84169333e-03,\n",
       "        -3.71003403e-03,  5.02706124e-03, -5.31655908e-04,\n",
       "        -2.11621132e-03,  3.08903768e-03, -2.23379448e-03,\n",
       "        -2.17217463e-03, -2.37014751e-03,  3.09902688e-03,\n",
       "        -2.63238394e-03,  4.04525182e-03, -3.48265452e-03,\n",
       "         4.93542094e-03, -3.21708941e-03,  1.53320942e-03,\n",
       "        -3.17536110e-03, -1.00722822e-03,  4.23858139e-03,\n",
       "        -5.18909016e-04,  5.07630339e-03,  2.04202669e-03,\n",
       "        -1.37350149e-04, -5.61358813e-03, -6.12288301e-04,\n",
       "         1.18216027e-03, -3.71753290e-04, -4.97133175e-04,\n",
       "        -1.50569167e-03,  4.88255799e-03,  3.77342081e-03,\n",
       "         4.03129753e-03, -2.38418953e-03, -3.10998901e-03,\n",
       "         4.46248818e-03,  1.51293369e-04, -2.26091849e-03,\n",
       "         4.36251149e-04,  3.55350045e-05, -4.52543799e-03,\n",
       "         1.28103031e-03, -9.52699780e-04,  2.90559394e-03,\n",
       "        -1.86006955e-03, -1.89534525e-03,  5.35952181e-03,\n",
       "        -1.68987188e-03,  8.08353881e-03, -7.00501410e-03,\n",
       "         5.38954027e-03, -1.88116593e-03, -5.01594010e-03,\n",
       "         1.28498888e-03, -2.02263307e-03, -4.74215112e-04,\n",
       "         1.52976679e-03, -3.90804637e-03, -6.80349519e-04,\n",
       "         4.62215937e-03,  1.82891907e-03,  9.69655258e-04,\n",
       "        -2.65908037e-03, -5.38995202e-03,  5.44518089e-03,\n",
       "        -3.40987641e-03, -3.59932776e-03, -3.33049170e-03,\n",
       "        -3.25373197e-05,  3.20754015e-03, -3.18613505e-03,\n",
       "        -1.60000674e-03, -2.02951874e-03,  1.10654326e-03,\n",
       "        -2.23904712e-03, -3.55960418e-03,  2.07297749e-03,\n",
       "         3.40418937e-03, -3.13015204e-03, -2.01321537e-03,\n",
       "        -9.60522732e-03, -8.21965109e-04,  3.28670123e-03,\n",
       "         3.73971974e-03, -1.29785921e-03, -3.89642213e-03,\n",
       "        -5.37845781e-04, -2.33132802e-03, -5.12825654e-03,\n",
       "         4.50507160e-05, -2.54649512e-04,  6.72002408e-03,\n",
       "        -1.57750674e-03,  4.31951984e-03, -3.49661506e-03,\n",
       "        -9.18304805e-03, -5.69775275e-04, -5.29823793e-03,\n",
       "        -1.20535507e-03,  3.31238535e-03,  2.19394346e-03,\n",
       "        -1.17267468e-03, -9.52369207e-04,  3.88293776e-03,\n",
       "        -1.13445945e-03, -6.02101552e-03, -1.15188240e-02,\n",
       "        -3.61148707e-03, -3.90201218e-03, -3.43747558e-04,\n",
       "         3.25739400e-03,  3.64633837e-03, -1.03847294e-03,\n",
       "         3.96763929e-03,  3.64632163e-03, -8.89546014e-04,\n",
       "        -3.53166427e-03,  8.29153173e-04, -1.70269580e-03,\n",
       "        -3.15865371e-03,  2.29496518e-03, -1.25743157e-03,\n",
       "         3.78196434e-03, -2.41802969e-03, -1.21127604e-03,\n",
       "         1.43018075e-03,  3.20091564e-03,  5.44806841e-03,\n",
       "         1.70383562e-03, -3.82983503e-03,  9.10516303e-04,\n",
       "        -2.71734628e-03, -2.55611650e-04, -6.53705772e-03,\n",
       "        -3.63717110e-03,  1.03957407e-03,  9.35127817e-04,\n",
       "         1.21525728e-03,  2.30342747e-03, -1.36678113e-03,\n",
       "        -2.88603146e-03,  7.27032487e-04,  2.75047216e-04,\n",
       "         2.00117708e-03,  9.27583545e-03, -1.57152760e-03,\n",
       "        -1.07442537e-03,  9.74897265e-04,  4.35862756e-03,\n",
       "         1.05009078e-04, -3.94448896e-03,  1.22851981e-03,\n",
       "        -2.05352030e-03,  2.71681414e-03,  3.93155435e-04,\n",
       "        -3.62119948e-03,  8.60918250e-05,  4.42038659e-03,\n",
       "         5.91402871e-03,  5.33324553e-03, -6.91720031e-04,\n",
       "         1.48516827e-03, -8.11724017e-04, -6.19046339e-04,\n",
       "         3.52956455e-03, -3.06820694e-03,  3.45135416e-03,\n",
       "        -7.80415078e-03,  6.43417703e-03, -1.97843008e-03,\n",
       "        -5.51295299e-03,  4.31147811e-03,  3.62360613e-03,\n",
       "        -4.44551452e-03,  1.32152411e-03,  3.65643015e-03,\n",
       "        -4.97385581e-03,  5.53748665e-03, -4.88821949e-03,\n",
       "         5.19635280e-03,  3.43294131e-03, -1.86525836e-03,\n",
       "         2.09166938e-03, -3.44520205e-04,  1.32302682e-04,\n",
       "        -6.05285336e-03, -2.79008800e-03,  5.96166157e-03,\n",
       "         5.24491851e-03, -1.21759333e-03, -6.15922599e-03,\n",
       "         1.90530110e-03,  3.44565363e-03,  2.17920821e-03,\n",
       "         6.68638935e-03,  1.71955239e-03, -1.99243180e-03,\n",
       "        -6.65972580e-03,  2.13516291e-03,  1.42383190e-03,\n",
       "        -6.48941493e-03, -3.28668289e-04,  3.19261098e-04,\n",
       "        -2.42462054e-03,  2.61663639e-03,  3.09692826e-03,\n",
       "        -2.12747693e-03, -1.64673962e-03,  5.35500153e-03,\n",
       "         1.10873481e-03, -2.01051189e-04,  4.64020255e-03,\n",
       "        -4.51920809e-03, -1.22083637e-03,  2.44852459e-03,\n",
       "        -3.18542178e-03, -4.99600323e-04, -2.17305662e-03,\n",
       "        -5.91596808e-04, -3.65708937e-03,  1.11920462e-03,\n",
       "        -1.22285396e-03,  4.14578619e-03,  4.33236662e-03,\n",
       "         1.65583907e-03,  4.31058892e-03,  1.48163923e-03,\n",
       "        -1.21870973e-03,  8.22137957e-03, -9.71954650e-04,\n",
       "        -3.98969521e-04, -1.50102672e-03, -1.76768973e-03,\n",
       "        -5.32603794e-04,  1.44296446e-06,  1.66862522e-03,\n",
       "         1.25773501e-03,  1.65729392e-03,  2.73089060e-03,\n",
       "         2.03417579e-03,  3.25166777e-03,  3.68635660e-04,\n",
       "        -2.04194285e-03, -3.59613024e-03,  6.33780166e-04,\n",
       "         7.22969087e-03, -1.19203400e-04, -1.68090699e-03,\n",
       "        -4.47844455e-03,  5.26716467e-03, -1.20068173e-03,\n",
       "        -6.33240456e-04, -3.61569102e-03,  1.57197516e-04,\n",
       "        -1.82727373e-03, -1.40712612e-03, -8.50892227e-04,\n",
       "        -1.01223007e-03, -5.30727186e-03, -4.91171546e-03,\n",
       "         7.03621658e-03, -4.38424174e-03,  2.53935763e-03,\n",
       "        -2.51094555e-03, -4.18444936e-03,  4.00186319e-03,\n",
       "        -4.72364886e-03, -2.77180070e-03,  4.81293302e-03,\n",
       "        -7.92683788e-04, -2.26419712e-03, -1.51921904e-03,\n",
       "         1.17984241e-03,  2.22938898e-03, -4.88668444e-03,\n",
       "         4.46168847e-03, -1.04019544e-04,  1.67487103e-03,\n",
       "         1.35643786e-03,  2.94999454e-03,  2.01693931e-04,\n",
       "        -4.24961275e-03,  2.24329074e-03, -5.98737261e-03,\n",
       "        -1.42863321e-03,  3.94068108e-03, -4.91443915e-03,\n",
       "         2.33941497e-03, -2.44224541e-03,  3.90763960e-03,\n",
       "         8.14954989e-04,  3.24412730e-03,  4.98017067e-03,\n",
       "         5.61678494e-03,  5.00300065e-03, -3.91208367e-03,\n",
       "         1.80196017e-03, -5.59123054e-04,  3.04880297e-03,\n",
       "        -1.84080172e-03, -3.93831786e-04,  4.78891216e-04,\n",
       "         2.28949646e-03,  2.04751255e-03, -2.57216739e-03,\n",
       "         4.96684579e-03,  2.02869952e-03, -3.11090883e-03,\n",
       "        -3.91270927e-03,  1.07507440e-03, -3.61250923e-03,\n",
       "         4.54632990e-03, -2.39984101e-03, -7.73018865e-04,\n",
       "        -3.39678123e-04, -9.41732349e-03, -3.10616383e-03,\n",
       "         6.75531082e-03, -3.47366493e-03,  7.88325210e-03,\n",
       "         2.01567041e-04,  1.81506235e-03,  2.57570648e-03,\n",
       "        -4.27866516e-03,  4.98354387e-04,  6.64486193e-03,\n",
       "         7.26388708e-04,  7.52421751e-03, -2.94764992e-03,\n",
       "         4.21000212e-03,  3.87165635e-03,  7.86581299e-04,\n",
       "        -8.83192850e-04, -6.12499866e-04]])"
      ]
     },
     "execution_count": 4,
     "metadata": {},
     "output_type": "execute_result"
    }
   ],
   "source": [
    "randomSeries"
   ]
  },
  {
   "cell_type": "markdown",
   "metadata": {},
   "source": [
    "We've got two return series, but we need to convert them to a time series for what they're meant to represent. "
   ]
  },
  {
   "cell_type": "code",
   "execution_count": 5,
   "metadata": {},
   "outputs": [],
   "source": [
    "rtyVol = 0.2 * ( 1 + randomSeries[ 0 ] ).cumprod()\n",
    "hygPrice = 80 * ( 1 + randomSeries[ 1 ] ).cumprod()"
   ]
  },
  {
   "cell_type": "markdown",
   "metadata": {},
   "source": [
    "Let's see if they make sense... Often the easiest way to do that is to plot them. Many of the plotting libraries set up to operate / plot a `DataFrame` natively."
   ]
  },
  {
   "cell_type": "code",
   "execution_count": 6,
   "metadata": {},
   "outputs": [],
   "source": [
    "df = pd.DataFrame(np.array([rtyVol, hygPrice]).T, columns=[\"RTY.3m.Proxy.Implied.Vol\", \"HYG.spot\"])"
   ]
  },
  {
   "cell_type": "code",
   "execution_count": 7,
   "metadata": {},
   "outputs": [
    {
     "data": {
      "text/html": [
       "<div>\n",
       "<style scoped>\n",
       "    .dataframe tbody tr th:only-of-type {\n",
       "        vertical-align: middle;\n",
       "    }\n",
       "\n",
       "    .dataframe tbody tr th {\n",
       "        vertical-align: top;\n",
       "    }\n",
       "\n",
       "    .dataframe thead th {\n",
       "        text-align: right;\n",
       "    }\n",
       "</style>\n",
       "<table border=\"1\" class=\"dataframe\">\n",
       "  <thead>\n",
       "    <tr style=\"text-align: right;\">\n",
       "      <th></th>\n",
       "      <th>RTY.3m.Proxy.Implied.Vol</th>\n",
       "      <th>HYG.spot</th>\n",
       "    </tr>\n",
       "  </thead>\n",
       "  <tbody>\n",
       "    <tr>\n",
       "      <th>0</th>\n",
       "      <td>0.199143</td>\n",
       "      <td>80.484595</td>\n",
       "    </tr>\n",
       "    <tr>\n",
       "      <th>1</th>\n",
       "      <td>0.197963</td>\n",
       "      <td>80.199629</td>\n",
       "    </tr>\n",
       "    <tr>\n",
       "      <th>2</th>\n",
       "      <td>0.192834</td>\n",
       "      <td>80.543611</td>\n",
       "    </tr>\n",
       "    <tr>\n",
       "      <th>3</th>\n",
       "      <td>0.193664</td>\n",
       "      <td>80.840657</td>\n",
       "    </tr>\n",
       "    <tr>\n",
       "      <th>4</th>\n",
       "      <td>0.192916</td>\n",
       "      <td>80.885075</td>\n",
       "    </tr>\n",
       "  </tbody>\n",
       "</table>\n",
       "</div>"
      ],
      "text/plain": [
       "   RTY.3m.Proxy.Implied.Vol   HYG.spot\n",
       "0                  0.199143  80.484595\n",
       "1                  0.197963  80.199629\n",
       "2                  0.192834  80.543611\n",
       "3                  0.193664  80.840657\n",
       "4                  0.192916  80.885075"
      ]
     },
     "execution_count": 7,
     "metadata": {},
     "output_type": "execute_result"
    }
   ],
   "source": [
    "df.head()"
   ]
  },
  {
   "cell_type": "code",
   "execution_count": 8,
   "metadata": {},
   "outputs": [
    {
     "data": {
      "text/plain": [
       "<AxesSubplot:>"
      ]
     },
     "execution_count": 8,
     "metadata": {},
     "output_type": "execute_result"
    },
    {
     "data": {
      "image/png": "[encoded data removed]",
      "text/plain": [
       "<Figure size 640x480 with 1 Axes>"
      ]
     },
     "metadata": {},
     "output_type": "display_data"
    }
   ],
   "source": [
    "df.plot()"
   ]
  },
  {
   "cell_type": "markdown",
   "metadata": {},
   "source": [
    "So... problem #1, these two series not similar magnitudes. We need to plot these on difference axes and while we're at it let's make it look a little better. "
   ]
  },
  {
   "cell_type": "code",
   "execution_count": 9,
   "metadata": {},
   "outputs": [
    {
     "data": {
      "text/plain": [
       "<AxesSubplot:>"
      ]
     },
     "execution_count": 9,
     "metadata": {},
     "output_type": "execute_result"
    },
    {
     "data": {
      "image/png": "[encoded data removed]",
      "text/plain": [
       "<Figure size 800x550 with 2 Axes>"
      ]
     },
     "metadata": {},
     "output_type": "display_data"
    }
   ],
   "source": [
    "plt.style.use('seaborn')\n",
    "df.plot(secondary_y=[\"HYG.spot\"], legend=True)"
   ]
  },
  {
   "cell_type": "markdown",
   "metadata": {},
   "source": [
    "If we flip around RTY implied vol, we can see this inverse relationship a bit better. "
   ]
  },
  {
   "cell_type": "code",
   "execution_count": 10,
   "metadata": {},
   "outputs": [
    {
     "data": {
      "text/plain": [
       "<AxesSubplot:>"
      ]
     },
     "execution_count": 10,
     "metadata": {},
     "output_type": "execute_result"
    },
    {
     "data": {
      "image/png": "[encoded data removed]",
      "text/plain": [
       "<Figure size 800x550 with 2 Axes>"
      ]
     },
     "metadata": {},
     "output_type": "display_data"
    }
   ],
   "source": [
    "df[\"RTY.3m.Proxy.Implied.Vol\"] = df[\"RTY.3m.Proxy.Implied.Vol\"] * -1\n",
    "df.plot(secondary_y=[\"HYG.spot\"], legend=True)"
   ]
  },
  {
   "cell_type": "markdown",
   "metadata": {},
   "source": [
    "We can look at the scatter on levels pretty easily with `matplotlib` using `matplotlib.pyplot.scatter`."
   ]
  },
  {
   "cell_type": "code",
   "execution_count": 11,
   "metadata": {},
   "outputs": [
    {
     "data": {
      "text/plain": [
       "<matplotlib.collections.PathCollection at 0x7faca5350fd0>"
      ]
     },
     "execution_count": 11,
     "metadata": {},
     "output_type": "execute_result"
    },
    {
     "data": {
      "image/png": "[encoded data removed]",
      "text/plain": [
       "<Figure size 800x550 with 1 Axes>"
      ]
     },
     "metadata": {},
     "output_type": "display_data"
    }
   ],
   "source": [
    "plt.scatter( df[ df.columns[ 0 ] ], df[ df.columns[ 1 ] ] )"
   ]
  },
  {
   "cell_type": "markdown",
   "metadata": {},
   "source": [
    "It looks like there is a relationship there (there should be, we generated the series with a negative correlation). Let's explore that a bit. As we said before, `seaborn` comes with a bunch of good statistical tools. In fact, it has has quick and easy way to generate a regression plot with `sns.regplot`."
   ]
  },
  {
   "cell_type": "code",
   "execution_count": 12,
   "metadata": {},
   "outputs": [
    {
     "data": {
      "text/plain": [
       "<AxesSubplot:xlabel='HYG.spot', ylabel='RTY.3m.Proxy.Implied.Vol'>"
      ]
     },
     "execution_count": 12,
     "metadata": {},
     "output_type": "execute_result"
    },
    {
     "data": {
      "image/png": "[encoded data removed]",
      "text/plain": [
       "<Figure size 800x550 with 1 Axes>"
      ]
     },
     "metadata": {},
     "output_type": "display_data"
    }
   ],
   "source": [
    "fig, ax = plt.subplots( sharex=True )\n",
    "sns.regplot( x=\"HYG.spot\", y=\"RTY.3m.Proxy.Implied.Vol\", data=df.diff(), ax=ax )"
   ]
  },
  {
   "cell_type": "markdown",
   "metadata": {},
   "source": [
    "Unfortunately, the underlying regression data is not exposed in `seaborn`, so we will need to generate it ourselves using `scipy`."
   ]
  },
  {
   "cell_type": "code",
   "execution_count": 13,
   "metadata": {},
   "outputs": [
    {
     "name": "stdout",
     "output_type": "stream",
     "text": [
      "R^2 = 0.394\n",
      "y = 0.006x - 0.000\n"
     ]
    }
   ],
   "source": [
    "from scipy import stats\n",
    "\n",
    "diff = df.diff().dropna()\n",
    "slope, intercept, rvalue, pvalue, stderr = stats.linregress(diff[\"HYG.spot\"], diff[\"RTY.3m.Proxy.Implied.Vol\"])\n",
    "print( \"R^2 = {r:.3f}\".format( r=rvalue ) )\n",
    "print( 'y = {m:.3f}x {sign} {b:.3f}'.format( m=slope, sign=\"+\" if intercept >= 0 else \"-\", b=abs(intercept) ) )"
   ]
  },
  {
   "cell_type": "markdown",
   "metadata": {},
   "source": [
    "What if I want to interact with the plot.... zoom in, inspect the values, etc. This is where `plotly` shines."
   ]
  },
  {
   "cell_type": "code",
   "execution_count": 14,
   "metadata": {},
   "outputs": [
    {
     "data": {
      "text/html": [
       "        <script type=\"text/javascript\">\n",
       "        window.PlotlyConfig = {MathJaxConfig: 'local'};\n",
       "        if (window.MathJax && window.MathJax.Hub && window.MathJax.Hub.Config) {window.MathJax.Hub.Config({SVG: {font: \"STIX-Web\"}});}\n",
       "        if (typeof require !== 'undefined') {\n",
       "        require.undef(\"plotly\");\n",
       "        requirejs.config({\n",
       "            paths: {\n",
       "                'plotly': ['https://cdn.plot.ly/plotly-2.12.1.min']\n",
       "            }\n",
       "        });\n",
       "        require(['plotly'], function(Plotly) {\n",
       "            window._Plotly = Plotly;\n",
       "        });\n",
       "        }\n",
       "        </script>\n",
       "        "
      ]
     },
     "metadata": {},
     "output_type": "display_data"
    },
    {
     "ename": "AttributeError",
     "evalue": "'PathCollection' object has no attribute 'get_offset_position'",
     "output_type": "error",
     "traceback": [
      "\u001b[0;31m---------------------------------------------------------------------------\u001b[0m",
      "\u001b[0;31mAttributeError\u001b[0m                            Traceback (most recent call last)",
      "\u001b[1;32m/Users/songshuang/Desktop/JPMC-training/notebooks/7_advanced_plotting.ipynb Cell 25\u001b[0m in \u001b[0;36m6\n\u001b[1;32m      <a href='vscode-notebook-cell:/Users/songshuang/Desktop/JPMC-training/notebooks/7_advanced_plotting.ipynb#X33sZmlsZQ%3D%3D?line=2'>3</a>\u001b[0m init_notebook_mode(connected\u001b[39m=\u001b[39m\u001b[39mTrue\u001b[39;00m)\n\u001b[1;32m      <a href='vscode-notebook-cell:/Users/songshuang/Desktop/JPMC-training/notebooks/7_advanced_plotting.ipynb#X33sZmlsZQ%3D%3D?line=4'>5</a>\u001b[0m \u001b[39m# Here we can convert our matplotlib object to a plotly object\u001b[39;00m\n\u001b[0;32m----> <a href='vscode-notebook-cell:/Users/songshuang/Desktop/JPMC-training/notebooks/7_advanced_plotting.ipynb#X33sZmlsZQ%3D%3D?line=5'>6</a>\u001b[0m plotlyFig \u001b[39m=\u001b[39m tls\u001b[39m.\u001b[39;49mmpl_to_plotly(fig)\n\u001b[1;32m      <a href='vscode-notebook-cell:/Users/songshuang/Desktop/JPMC-training/notebooks/7_advanced_plotting.ipynb#X33sZmlsZQ%3D%3D?line=7'>8</a>\u001b[0m \u001b[39m# Add annotation so you have the regression stats\u001b[39;00m\n\u001b[1;32m      <a href='vscode-notebook-cell:/Users/songshuang/Desktop/JPMC-training/notebooks/7_advanced_plotting.ipynb#X33sZmlsZQ%3D%3D?line=8'>9</a>\u001b[0m plotlyFig[\u001b[39m'\u001b[39m\u001b[39mlayout\u001b[39m\u001b[39m'\u001b[39m][\u001b[39m'\u001b[39m\u001b[39mannotations\u001b[39m\u001b[39m'\u001b[39m] \u001b[39m=\u001b[39m [\n\u001b[1;32m     <a href='vscode-notebook-cell:/Users/songshuang/Desktop/JPMC-training/notebooks/7_advanced_plotting.ipynb#X33sZmlsZQ%3D%3D?line=9'>10</a>\u001b[0m     \u001b[39mdict\u001b[39m(\n\u001b[1;32m     <a href='vscode-notebook-cell:/Users/songshuang/Desktop/JPMC-training/notebooks/7_advanced_plotting.ipynb#X33sZmlsZQ%3D%3D?line=10'>11</a>\u001b[0m         x\u001b[39m=\u001b[39m\u001b[39m18\u001b[39m,\n\u001b[0;32m   (...)\u001b[0m\n\u001b[1;32m     <a href='vscode-notebook-cell:/Users/songshuang/Desktop/JPMC-training/notebooks/7_advanced_plotting.ipynb#X33sZmlsZQ%3D%3D?line=20'>21</a>\u001b[0m     )\n\u001b[1;32m     <a href='vscode-notebook-cell:/Users/songshuang/Desktop/JPMC-training/notebooks/7_advanced_plotting.ipynb#X33sZmlsZQ%3D%3D?line=21'>22</a>\u001b[0m ]\n",
      "File \u001b[0;32m~/opt/anaconda3/lib/python3.8/site-packages/plotly/tools.py:111\u001b[0m, in \u001b[0;36mmpl_to_plotly\u001b[0;34m(fig, resize, strip_style, verbose)\u001b[0m\n\u001b[1;32m    109\u001b[0m \u001b[39mif\u001b[39;00m matplotlylib:\n\u001b[1;32m    110\u001b[0m     renderer \u001b[39m=\u001b[39m matplotlylib\u001b[39m.\u001b[39mPlotlyRenderer()\n\u001b[0;32m--> 111\u001b[0m     matplotlylib\u001b[39m.\u001b[39;49mExporter(renderer)\u001b[39m.\u001b[39;49mrun(fig)\n\u001b[1;32m    112\u001b[0m     \u001b[39mif\u001b[39;00m resize:\n\u001b[1;32m    113\u001b[0m         renderer\u001b[39m.\u001b[39mresize()\n",
      "File \u001b[0;32m~/opt/anaconda3/lib/python3.8/site-packages/plotly/matplotlylib/mplexporter/exporter.py:53\u001b[0m, in \u001b[0;36mExporter.run\u001b[0;34m(self, fig)\u001b[0m\n\u001b[1;32m     50\u001b[0m     \u001b[39mimport\u001b[39;00m \u001b[39mmatplotlib\u001b[39;00m\u001b[39m.\u001b[39;00m\u001b[39mpyplot\u001b[39;00m \u001b[39mas\u001b[39;00m \u001b[39mplt\u001b[39;00m\n\u001b[1;32m     52\u001b[0m     plt\u001b[39m.\u001b[39mclose(fig)\n\u001b[0;32m---> 53\u001b[0m \u001b[39mself\u001b[39;49m\u001b[39m.\u001b[39;49mcrawl_fig(fig)\n",
      "File \u001b[0;32m~/opt/anaconda3/lib/python3.8/site-packages/plotly/matplotlylib/mplexporter/exporter.py:124\u001b[0m, in \u001b[0;36mExporter.crawl_fig\u001b[0;34m(self, fig)\u001b[0m\n\u001b[1;32m    122\u001b[0m \u001b[39mwith\u001b[39;00m \u001b[39mself\u001b[39m\u001b[39m.\u001b[39mrenderer\u001b[39m.\u001b[39mdraw_figure(fig\u001b[39m=\u001b[39mfig, props\u001b[39m=\u001b[39mutils\u001b[39m.\u001b[39mget_figure_properties(fig)):\n\u001b[1;32m    123\u001b[0m     \u001b[39mfor\u001b[39;00m ax \u001b[39min\u001b[39;00m fig\u001b[39m.\u001b[39maxes:\n\u001b[0;32m--> 124\u001b[0m         \u001b[39mself\u001b[39;49m\u001b[39m.\u001b[39;49mcrawl_ax(ax)\n",
      "File \u001b[0;32m~/opt/anaconda3/lib/python3.8/site-packages/plotly/matplotlylib/mplexporter/exporter.py:146\u001b[0m, in \u001b[0;36mExporter.crawl_ax\u001b[0;34m(self, ax)\u001b[0m\n\u001b[1;32m    144\u001b[0m     \u001b[39mself\u001b[39m\u001b[39m.\u001b[39mdraw_patch(ax, patch)\n\u001b[1;32m    145\u001b[0m \u001b[39mfor\u001b[39;00m collection \u001b[39min\u001b[39;00m ax\u001b[39m.\u001b[39mcollections:\n\u001b[0;32m--> 146\u001b[0m     \u001b[39mself\u001b[39;49m\u001b[39m.\u001b[39;49mdraw_collection(ax, collection)\n\u001b[1;32m    147\u001b[0m \u001b[39mfor\u001b[39;00m image \u001b[39min\u001b[39;00m ax\u001b[39m.\u001b[39mimages:\n\u001b[1;32m    148\u001b[0m     \u001b[39mself\u001b[39m\u001b[39m.\u001b[39mdraw_image(ax, image)\n",
      "File \u001b[0;32m~/opt/anaconda3/lib/python3.8/site-packages/plotly/matplotlylib/mplexporter/exporter.py:289\u001b[0m, in \u001b[0;36mExporter.draw_collection\u001b[0;34m(self, ax, collection, force_pathtrans, force_offsettrans)\u001b[0m\n\u001b[1;32m    280\u001b[0m styles \u001b[39m=\u001b[39m {\n\u001b[1;32m    281\u001b[0m     \u001b[39m\"\u001b[39m\u001b[39mlinewidth\u001b[39m\u001b[39m\"\u001b[39m: collection\u001b[39m.\u001b[39mget_linewidths(),\n\u001b[1;32m    282\u001b[0m     \u001b[39m\"\u001b[39m\u001b[39mfacecolor\u001b[39m\u001b[39m\"\u001b[39m: collection\u001b[39m.\u001b[39mget_facecolors(),\n\u001b[0;32m   (...)\u001b[0m\n\u001b[1;32m    285\u001b[0m     \u001b[39m\"\u001b[39m\u001b[39mzorder\u001b[39m\u001b[39m\"\u001b[39m: collection\u001b[39m.\u001b[39mget_zorder(),\n\u001b[1;32m    286\u001b[0m }\n\u001b[1;32m    288\u001b[0m offset_dict \u001b[39m=\u001b[39m {\u001b[39m\"\u001b[39m\u001b[39mdata\u001b[39m\u001b[39m\"\u001b[39m: \u001b[39m\"\u001b[39m\u001b[39mbefore\u001b[39m\u001b[39m\"\u001b[39m, \u001b[39m\"\u001b[39m\u001b[39mscreen\u001b[39m\u001b[39m\"\u001b[39m: \u001b[39m\"\u001b[39m\u001b[39mafter\u001b[39m\u001b[39m\"\u001b[39m}\n\u001b[0;32m--> 289\u001b[0m offset_order \u001b[39m=\u001b[39m offset_dict[collection\u001b[39m.\u001b[39;49mget_offset_position()]\n\u001b[1;32m    291\u001b[0m \u001b[39mself\u001b[39m\u001b[39m.\u001b[39mrenderer\u001b[39m.\u001b[39mdraw_path_collection(\n\u001b[1;32m    292\u001b[0m     paths\u001b[39m=\u001b[39mprocessed_paths,\n\u001b[1;32m    293\u001b[0m     path_coordinates\u001b[39m=\u001b[39mpath_coords,\n\u001b[0;32m   (...)\u001b[0m\n\u001b[1;32m    299\u001b[0m     mplobj\u001b[39m=\u001b[39mcollection,\n\u001b[1;32m    300\u001b[0m )\n",
      "\u001b[0;31mAttributeError\u001b[0m: 'PathCollection' object has no attribute 'get_offset_position'"
     ]
    }
   ],
   "source": [
    "from plotly.offline import download_plotlyjs, init_notebook_mode, iplot\n",
    "import plotly.tools as tls\n",
    "init_notebook_mode(connected=True)\n",
    "\n",
    "# Here we can convert our matplotlib object to a plotly object\n",
    "plotlyFig = tls.mpl_to_plotly(fig)\n",
    "\n",
    "# Add annotation so you have the regression stats\n",
    "plotlyFig['layout']['annotations'] = [\n",
    "    dict(\n",
    "        x=18,\n",
    "        y=-2,\n",
    "        showarrow=False,\n",
    "        text='R^2 = {:.3f}'.format( rvalue )\n",
    "    ),\n",
    "    dict(\n",
    "        x=18,\n",
    "        y=-2.6,\n",
    "        showarrow=False,\n",
    "        text='y = {m:.3f}x {sign} {b:.3f}'.format( m=slope, sign=\"+\" if intercept >= 0 else \"-\", b=abs(intercept) )\n",
    "    )\n",
    "]\n",
    "iplot(plotlyFig)"
   ]
  },
  {
   "cell_type": "markdown",
   "metadata": {},
   "source": [
    "2d plots are cool but 3d plots.... Below is an example of plotting a vol surface from start to finish."
   ]
  },
  {
   "cell_type": "code",
   "execution_count": 15,
   "metadata": {},
   "outputs": [],
   "source": [
    "c = [0.8023,0.814,0.8256,0.8372,0.8488,0.8605,0.8721,0.8837,0.8953,0.907,0.9186,0.9302,0.9419,0.9535,0.9651,0.9767,0.9884,1,1.0116,1.0233,1.0349,1.0465,1.0581,1.0698,1.0814,1.093,1.1047,1.1163,1.1279,1.1395,1.1512,1.1628,1.1744,1.186,1.1977,1.2093]\n",
    "i = [ dt.datetime(2019,8,2),  dt.datetime(2019,8,9),  dt.datetime(2019,8,16),  dt.datetime(2019,8,23),  dt.datetime(2019,8,30),  dt.datetime(2019,9,6),  dt.datetime(2019,9,20),  dt.datetime(2019,10,18),  dt.datetime(2019,11,15),  dt.datetime(2019,12,20),  dt.datetime(2019,12,31),  dt.datetime(2020,1,17),  dt.datetime(2020,3,20),  dt.datetime(2020,3,31),  dt.datetime(2020,6,19) ]\n",
    "d = [ [0.4244,0.4016,0.3796,0.3584,0.3381,0.3187,0.3002,0.2827,0.2662,0.2508,0.2363,0.2229,0.2105,0.1991,0.1888,0.1794,0.171,0.1636,0.157,0.1513,0.1465,0.1425,0.1393,0.1368,0.135,0.1338,0.1331,0.1329,0.133,0.1334,0.1341,0.135,0.136,0.1372,0.1384,0.1396],\n",
    "    [0.4006,0.3777,0.3556,0.3343,0.3139,0.2944,0.2759,0.2583,0.2418,0.2263,0.2118,0.1983,0.1859,0.1745,0.1641,0.1547,0.1463,0.1388,0.1322,0.1265,0.1216,0.1176,0.1143,0.1118,0.11,0.1088,0.1081,0.1078,0.108,0.1084,0.1092,0.1101,0.1112,0.1123,0.1136,0.1149],\n",
    "    [0.3431,0.3257,0.3089,0.2927,0.277,0.2621,0.2477,0.2341,0.2212,0.2089,0.1974,0.1866,0.1765,0.1671,0.1584,0.1504,0.1431,0.1364,0.1303,0.1248,0.1198,0.1154,0.1116,0.1083,0.1055,0.1032,0.1013,0.0998,0.0986,0.0977,0.0971,0.0966,0.0964,0.0963,0.0963,0.0965],\n",
    "    [0.3124,0.298,0.284,0.2705,0.2574,0.2449,0.2328,0.2213,0.2104,0.1999,0.1901,0.1807,0.1719,0.1637,0.156,0.1488,0.1421,0.136,0.1304,0.1253,0.1206,0.1165,0.1129,0.1098,0.1072,0.1049,0.1031,0.1015,0.1003,0.0994,0.0988,0.0983,0.098,0.0979,0.0978,0.0979],\n",
    "    [0.2955,0.283,0.2708,0.259,0.2475,0.2365,0.2259,0.2158,0.206,0.1968,0.1879,0.1795,0.1716,0.1641,0.1571,0.1505,0.1443,0.1385,0.1332,0.1284,0.124,0.1201,0.1167,0.1137,0.1111,0.1089,0.1071,0.1056,0.1044,0.1034,0.1027,0.1022,0.1019,0.1018,0.1017,0.1018],\n",
    "    [0.2866,0.2752,0.264,0.2532,0.2427,0.2326,0.2228,0.2134,0.2044,0.1958,0.1876,0.1798,0.1724,0.1653,0.1587,0.1524,0.1465,0.141,0.1359,0.1313,0.1271,0.1233,0.12,0.1171,0.1145,0.1124,0.1106,0.1091,0.1079,0.1069,0.1062,0.1057,0.1054,0.1052,0.1051,0.1051],\n",
    "    [0.2729,0.2632,0.2538,0.2446,0.2357,0.227,0.2187,0.2106,0.2028,0.1954,0.1882,0.1813,0.1748,0.1685,0.1626,0.1569,0.1516,0.1465,0.1418,0.1376,0.1336,0.1301,0.127,0.1242,0.1218,0.1197,0.1179,0.1164,0.1152,0.1143,0.1135,0.113,0.1126,0.1124,0.1122,0.1122],\n",
    "    [0.2548,0.2473,0.24,0.2329,0.226,0.2192,0.2126,0.2063,0.2001,0.1941,0.1883,0.1827,0.1773,0.1721,0.167,0.1622,0.1576,0.1532,0.149,0.1452,0.1416,0.1383,0.1354,0.1327,0.1303,0.1281,0.1262,0.1246,0.1232,0.122,0.121,0.1202,0.1195,0.119,0.1186,0.1183],\n",
    "    [0.2482,0.242,0.2359,0.2299,0.2241,0.2184,0.2128,0.2074,0.2021,0.1969,0.1919,0.187,0.1823,0.1777,0.1733,0.169,0.1649,0.1608,0.157,0.1535,0.1501,0.1471,0.1442,0.1415,0.1391,0.1369,0.135,0.1332,0.1316,0.1303,0.1291,0.128,0.1271,0.1263,0.1257,0.1252],\n",
    "    [0.2331,0.2278,0.2227,0.2176,0.2127,0.2078,0.2031,0.1984,0.1939,0.1895,0.1851,0.1809,0.1768,0.1728,0.1689,0.1652,0.1615,0.158,0.1547,0.1516,0.1486,0.1459,0.1433,0.1409,0.1387,0.1367,0.1349,0.1332,0.1317,0.1303,0.1291,0.128,0.127,0.1261,0.1254,0.1247],\n",
    "    [0.2313,0.2262,0.2212,0.2163,0.2115,0.2068,0.2022,0.1977,0.1932,0.1889,0.1847,0.1806,0.1766,0.1727,0.1689,0.1653,0.1617,0.1582,0.155,0.152,0.1491,0.1464,0.1438,0.1415,0.1393,0.1373,0.1354,0.1337,0.1322,0.1308,0.1296,0.1284,0.1274,0.1266,0.1258,0.1251],\n",
    "    [0.2302,0.2253,0.2206,0.216,0.2114,0.2069,0.2026,0.1983,0.1941,0.19,0.186,0.1821,0.1783,0.1745,0.1709,0.1674,0.164,0.1607,0.1576,0.1546,0.1518,0.1492,0.1467,0.1444,0.1423,0.1403,0.1384,0.1367,0.1351,0.1337,0.1324,0.1313,0.1302,0.1293,0.1285,0.1277],\n",
    "    [0.229,0.2249,0.2209,0.2169,0.213,0.2091,0.2054,0.2017,0.1981,0.1946,0.1911,0.1877,0.1845,0.1812,0.1781,0.175,0.172,0.1691,0.1664,0.1637,0.1611,0.1587,0.1563,0.1541,0.152,0.15,0.148,0.1462,0.1445,0.143,0.1415,0.1401,0.1388,0.1376,0.1365,0.1355],\n",
    "    [0.2289,0.2249,0.2209,0.2171,0.2133,0.2096,0.2059,0.2023,0.1988,0.1953,0.192,0.1887,0.1855,0.1823,0.1793,0.1763,0.1733,0.1705,0.1678,0.1651,0.1626,0.1602,0.1579,0.1557,0.1535,0.1515,0.1496,0.1478,0.1461,0.1445,0.143,0.1415,0.1402,0.139,0.1379,0.1368],\n",
    "    [0.2239,0.2207,0.2175,0.2143,0.2112,0.2082,0.2051,0.2022,0.1993,0.1964,0.1936,0.1909,0.1882,0.1855,0.1829,0.1804,0.1779,0.1755,0.1731,0.1708,0.1685,0.1663,0.1642,0.1622,0.1601,0.1582,0.1563,0.1545,0.1527,0.151,0.1494,0.1478,0.1464,0.1449,0.1436,0.1423]\n",
    "]\n",
    "df2 = pd.DataFrame(d, columns=c, index=i)"
   ]
  },
  {
   "cell_type": "code",
   "execution_count": 16,
   "metadata": {},
   "outputs": [
    {
     "data": {
      "text/html": [
       "<div>\n",
       "<style scoped>\n",
       "    .dataframe tbody tr th:only-of-type {\n",
       "        vertical-align: middle;\n",
       "    }\n",
       "\n",
       "    .dataframe tbody tr th {\n",
       "        vertical-align: top;\n",
       "    }\n",
       "\n",
       "    .dataframe thead th {\n",
       "        text-align: right;\n",
       "    }\n",
       "</style>\n",
       "<table border=\"1\" class=\"dataframe\">\n",
       "  <thead>\n",
       "    <tr style=\"text-align: right;\">\n",
       "      <th></th>\n",
       "      <th>0.8023</th>\n",
       "      <th>0.8140</th>\n",
       "      <th>0.8256</th>\n",
       "      <th>0.8372</th>\n",
       "      <th>0.8488</th>\n",
       "      <th>0.8605</th>\n",
       "      <th>0.8721</th>\n",
       "      <th>0.8837</th>\n",
       "      <th>0.8953</th>\n",
       "      <th>0.9070</th>\n",
       "      <th>...</th>\n",
       "      <th>1.1047</th>\n",
       "      <th>1.1163</th>\n",
       "      <th>1.1279</th>\n",
       "      <th>1.1395</th>\n",
       "      <th>1.1512</th>\n",
       "      <th>1.1628</th>\n",
       "      <th>1.1744</th>\n",
       "      <th>1.1860</th>\n",
       "      <th>1.1977</th>\n",
       "      <th>1.2093</th>\n",
       "    </tr>\n",
       "  </thead>\n",
       "  <tbody>\n",
       "    <tr>\n",
       "      <th>2019-08-02</th>\n",
       "      <td>0.4244</td>\n",
       "      <td>0.4016</td>\n",
       "      <td>0.3796</td>\n",
       "      <td>0.3584</td>\n",
       "      <td>0.3381</td>\n",
       "      <td>0.3187</td>\n",
       "      <td>0.3002</td>\n",
       "      <td>0.2827</td>\n",
       "      <td>0.2662</td>\n",
       "      <td>0.2508</td>\n",
       "      <td>...</td>\n",
       "      <td>0.1331</td>\n",
       "      <td>0.1329</td>\n",
       "      <td>0.1330</td>\n",
       "      <td>0.1334</td>\n",
       "      <td>0.1341</td>\n",
       "      <td>0.1350</td>\n",
       "      <td>0.1360</td>\n",
       "      <td>0.1372</td>\n",
       "      <td>0.1384</td>\n",
       "      <td>0.1396</td>\n",
       "    </tr>\n",
       "    <tr>\n",
       "      <th>2019-08-09</th>\n",
       "      <td>0.4006</td>\n",
       "      <td>0.3777</td>\n",
       "      <td>0.3556</td>\n",
       "      <td>0.3343</td>\n",
       "      <td>0.3139</td>\n",
       "      <td>0.2944</td>\n",
       "      <td>0.2759</td>\n",
       "      <td>0.2583</td>\n",
       "      <td>0.2418</td>\n",
       "      <td>0.2263</td>\n",
       "      <td>...</td>\n",
       "      <td>0.1081</td>\n",
       "      <td>0.1078</td>\n",
       "      <td>0.1080</td>\n",
       "      <td>0.1084</td>\n",
       "      <td>0.1092</td>\n",
       "      <td>0.1101</td>\n",
       "      <td>0.1112</td>\n",
       "      <td>0.1123</td>\n",
       "      <td>0.1136</td>\n",
       "      <td>0.1149</td>\n",
       "    </tr>\n",
       "    <tr>\n",
       "      <th>2019-08-16</th>\n",
       "      <td>0.3431</td>\n",
       "      <td>0.3257</td>\n",
       "      <td>0.3089</td>\n",
       "      <td>0.2927</td>\n",
       "      <td>0.2770</td>\n",
       "      <td>0.2621</td>\n",
       "      <td>0.2477</td>\n",
       "      <td>0.2341</td>\n",
       "      <td>0.2212</td>\n",
       "      <td>0.2089</td>\n",
       "      <td>...</td>\n",
       "      <td>0.1013</td>\n",
       "      <td>0.0998</td>\n",
       "      <td>0.0986</td>\n",
       "      <td>0.0977</td>\n",
       "      <td>0.0971</td>\n",
       "      <td>0.0966</td>\n",
       "      <td>0.0964</td>\n",
       "      <td>0.0963</td>\n",
       "      <td>0.0963</td>\n",
       "      <td>0.0965</td>\n",
       "    </tr>\n",
       "    <tr>\n",
       "      <th>2019-08-23</th>\n",
       "      <td>0.3124</td>\n",
       "      <td>0.2980</td>\n",
       "      <td>0.2840</td>\n",
       "      <td>0.2705</td>\n",
       "      <td>0.2574</td>\n",
       "      <td>0.2449</td>\n",
       "      <td>0.2328</td>\n",
       "      <td>0.2213</td>\n",
       "      <td>0.2104</td>\n",
       "      <td>0.1999</td>\n",
       "      <td>...</td>\n",
       "      <td>0.1031</td>\n",
       "      <td>0.1015</td>\n",
       "      <td>0.1003</td>\n",
       "      <td>0.0994</td>\n",
       "      <td>0.0988</td>\n",
       "      <td>0.0983</td>\n",
       "      <td>0.0980</td>\n",
       "      <td>0.0979</td>\n",
       "      <td>0.0978</td>\n",
       "      <td>0.0979</td>\n",
       "    </tr>\n",
       "    <tr>\n",
       "      <th>2019-08-30</th>\n",
       "      <td>0.2955</td>\n",
       "      <td>0.2830</td>\n",
       "      <td>0.2708</td>\n",
       "      <td>0.2590</td>\n",
       "      <td>0.2475</td>\n",
       "      <td>0.2365</td>\n",
       "      <td>0.2259</td>\n",
       "      <td>0.2158</td>\n",
       "      <td>0.2060</td>\n",
       "      <td>0.1968</td>\n",
       "      <td>...</td>\n",
       "      <td>0.1071</td>\n",
       "      <td>0.1056</td>\n",
       "      <td>0.1044</td>\n",
       "      <td>0.1034</td>\n",
       "      <td>0.1027</td>\n",
       "      <td>0.1022</td>\n",
       "      <td>0.1019</td>\n",
       "      <td>0.1018</td>\n",
       "      <td>0.1017</td>\n",
       "      <td>0.1018</td>\n",
       "    </tr>\n",
       "  </tbody>\n",
       "</table>\n",
       "<p>5 rows × 36 columns</p>\n",
       "</div>"
      ],
      "text/plain": [
       "            0.8023  0.8140  0.8256  0.8372  0.8488  0.8605  0.8721  0.8837  \\\n",
       "2019-08-02  0.4244  0.4016  0.3796  0.3584  0.3381  0.3187  0.3002  0.2827   \n",
       "2019-08-09  0.4006  0.3777  0.3556  0.3343  0.3139  0.2944  0.2759  0.2583   \n",
       "2019-08-16  0.3431  0.3257  0.3089  0.2927  0.2770  0.2621  0.2477  0.2341   \n",
       "2019-08-23  0.3124  0.2980  0.2840  0.2705  0.2574  0.2449  0.2328  0.2213   \n",
       "2019-08-30  0.2955  0.2830  0.2708  0.2590  0.2475  0.2365  0.2259  0.2158   \n",
       "\n",
       "            0.8953  0.9070  ...  1.1047  1.1163  1.1279  1.1395  1.1512  \\\n",
       "2019-08-02  0.2662  0.2508  ...  0.1331  0.1329  0.1330  0.1334  0.1341   \n",
       "2019-08-09  0.2418  0.2263  ...  0.1081  0.1078  0.1080  0.1084  0.1092   \n",
       "2019-08-16  0.2212  0.2089  ...  0.1013  0.0998  0.0986  0.0977  0.0971   \n",
       "2019-08-23  0.2104  0.1999  ...  0.1031  0.1015  0.1003  0.0994  0.0988   \n",
       "2019-08-30  0.2060  0.1968  ...  0.1071  0.1056  0.1044  0.1034  0.1027   \n",
       "\n",
       "            1.1628  1.1744  1.1860  1.1977  1.2093  \n",
       "2019-08-02  0.1350  0.1360  0.1372  0.1384  0.1396  \n",
       "2019-08-09  0.1101  0.1112  0.1123  0.1136  0.1149  \n",
       "2019-08-16  0.0966  0.0964  0.0963  0.0963  0.0965  \n",
       "2019-08-23  0.0983  0.0980  0.0979  0.0978  0.0979  \n",
       "2019-08-30  0.1022  0.1019  0.1018  0.1017  0.1018  \n",
       "\n",
       "[5 rows x 36 columns]"
      ]
     },
     "execution_count": 16,
     "metadata": {},
     "output_type": "execute_result"
    }
   ],
   "source": [
    "df2.head()"
   ]
  },
  {
   "cell_type": "code",
   "execution_count": 17,
   "metadata": {},
   "outputs": [
    {
     "ename": "AttributeError",
     "evalue": "type object 'DOMWidget' has no attribute '_ipython_display_'",
     "output_type": "error",
     "traceback": [
      "\u001b[0;31m---------------------------------------------------------------------------\u001b[0m",
      "\u001b[0;31mAttributeError\u001b[0m                            Traceback (most recent call last)",
      "File \u001b[0;32m~/opt/anaconda3/lib/python3.8/site-packages/IPython/core/formatters.py:921\u001b[0m, in \u001b[0;36mIPythonDisplayFormatter.__call__\u001b[0;34m(self, obj)\u001b[0m\n\u001b[1;32m    919\u001b[0m method \u001b[39m=\u001b[39m get_real_method(obj, \u001b[39mself\u001b[39m\u001b[39m.\u001b[39mprint_method)\n\u001b[1;32m    920\u001b[0m \u001b[39mif\u001b[39;00m method \u001b[39mis\u001b[39;00m \u001b[39mnot\u001b[39;00m \u001b[39mNone\u001b[39;00m:\n\u001b[0;32m--> 921\u001b[0m     method()\n\u001b[1;32m    922\u001b[0m     \u001b[39mreturn\u001b[39;00m \u001b[39mTrue\u001b[39;00m\n",
      "File \u001b[0;32m~/opt/anaconda3/lib/python3.8/site-packages/plotly/basewidget.py:741\u001b[0m, in \u001b[0;36mBaseFigureWidget._ipython_display_\u001b[0;34m(self)\u001b[0m\n\u001b[1;32m    737\u001b[0m \u001b[39m\"\"\"\u001b[39;00m\n\u001b[1;32m    738\u001b[0m \u001b[39mHandle rich display of figures in ipython contexts\u001b[39;00m\n\u001b[1;32m    739\u001b[0m \u001b[39m\"\"\"\u001b[39;00m\n\u001b[1;32m    740\u001b[0m \u001b[39m# Override BaseFigure's display to make sure we display the widget version\u001b[39;00m\n\u001b[0;32m--> 741\u001b[0m widgets\u001b[39m.\u001b[39;49mDOMWidget\u001b[39m.\u001b[39;49m_ipython_display_(\u001b[39mself\u001b[39m)\n",
      "\u001b[0;31mAttributeError\u001b[0m: type object 'DOMWidget' has no attribute '_ipython_display_'"
     ]
    },
    {
     "data": {
      "application/vnd.plotly.v1+json": {
       "config": {
        "plotlyServerURL": "https://plot.ly"
       },
       "data": [
        {
         "type": "surface",
         "uid": "39a8ae0f-e5da-41aa-9d3d-8d3237a5fba5",
         "x": [
          "2019-08-02",
          "2019-08-09",
          "2019-08-16",
          "2019-08-23",
          "2019-08-30",
          "2019-09-06",
          "2019-09-20",
          "2019-10-18",
          "2019-11-15",
          "2019-12-20",
          "2019-12-31",
          "2020-01-17",
          "2020-03-20",
          "2020-03-31",
          "2020-06-19"
         ],
         "y": [
          0.8023,
          0.814,
          0.8256,
          0.8372,
          0.8488,
          0.8605,
          0.8721,
          0.8837,
          0.8953,
          0.907,
          0.9186,
          0.9302,
          0.9419,
          0.9535,
          0.9651,
          0.9767,
          0.9884,
          1,
          1.0116,
          1.0233,
          1.0349,
          1.0465,
          1.0581,
          1.0698,
          1.0814,
          1.093,
          1.1047,
          1.1163,
          1.1279,
          1.1395,
          1.1512,
          1.1628,
          1.1744,
          1.186,
          1.1977,
          1.2093
         ],
         "z": [
          [
           0.4244,
           0.4016,
           0.3796,
           0.3584,
           0.3381,
           0.3187,
           0.3002,
           0.2827,
           0.2662,
           0.2508,
           0.2363,
           0.2229,
           0.2105,
           0.1991,
           0.1888,
           0.1794,
           0.171,
           0.1636,
           0.157,
           0.1513,
           0.1465,
           0.1425,
           0.1393,
           0.1368,
           0.135,
           0.1338,
           0.1331,
           0.1329,
           0.133,
           0.1334,
           0.1341,
           0.135,
           0.136,
           0.1372,
           0.1384,
           0.1396
          ],
          [
           0.4006,
           0.3777,
           0.3556,
           0.3343,
           0.3139,
           0.2944,
           0.2759,
           0.2583,
           0.2418,
           0.2263,
           0.2118,
           0.1983,
           0.1859,
           0.1745,
           0.1641,
           0.1547,
           0.1463,
           0.1388,
           0.1322,
           0.1265,
           0.1216,
           0.1176,
           0.1143,
           0.1118,
           0.11,
           0.1088,
           0.1081,
           0.1078,
           0.108,
           0.1084,
           0.1092,
           0.1101,
           0.1112,
           0.1123,
           0.1136,
           0.1149
          ],
          [
           0.3431,
           0.3257,
           0.3089,
           0.2927,
           0.277,
           0.2621,
           0.2477,
           0.2341,
           0.2212,
           0.2089,
           0.1974,
           0.1866,
           0.1765,
           0.1671,
           0.1584,
           0.1504,
           0.1431,
           0.1364,
           0.1303,
           0.1248,
           0.1198,
           0.1154,
           0.1116,
           0.1083,
           0.1055,
           0.1032,
           0.1013,
           0.0998,
           0.0986,
           0.0977,
           0.0971,
           0.0966,
           0.0964,
           0.0963,
           0.0963,
           0.0965
          ],
          [
           0.3124,
           0.298,
           0.284,
           0.2705,
           0.2574,
           0.2449,
           0.2328,
           0.2213,
           0.2104,
           0.1999,
           0.1901,
           0.1807,
           0.1719,
           0.1637,
           0.156,
           0.1488,
           0.1421,
           0.136,
           0.1304,
           0.1253,
           0.1206,
           0.1165,
           0.1129,
           0.1098,
           0.1072,
           0.1049,
           0.1031,
           0.1015,
           0.1003,
           0.0994,
           0.0988,
           0.0983,
           0.098,
           0.0979,
           0.0978,
           0.0979
          ],
          [
           0.2955,
           0.283,
           0.2708,
           0.259,
           0.2475,
           0.2365,
           0.2259,
           0.2158,
           0.206,
           0.1968,
           0.1879,
           0.1795,
           0.1716,
           0.1641,
           0.1571,
           0.1505,
           0.1443,
           0.1385,
           0.1332,
           0.1284,
           0.124,
           0.1201,
           0.1167,
           0.1137,
           0.1111,
           0.1089,
           0.1071,
           0.1056,
           0.1044,
           0.1034,
           0.1027,
           0.1022,
           0.1019,
           0.1018,
           0.1017,
           0.1018
          ],
          [
           0.2866,
           0.2752,
           0.264,
           0.2532,
           0.2427,
           0.2326,
           0.2228,
           0.2134,
           0.2044,
           0.1958,
           0.1876,
           0.1798,
           0.1724,
           0.1653,
           0.1587,
           0.1524,
           0.1465,
           0.141,
           0.1359,
           0.1313,
           0.1271,
           0.1233,
           0.12,
           0.1171,
           0.1145,
           0.1124,
           0.1106,
           0.1091,
           0.1079,
           0.1069,
           0.1062,
           0.1057,
           0.1054,
           0.1052,
           0.1051,
           0.1051
          ],
          [
           0.2729,
           0.2632,
           0.2538,
           0.2446,
           0.2357,
           0.227,
           0.2187,
           0.2106,
           0.2028,
           0.1954,
           0.1882,
           0.1813,
           0.1748,
           0.1685,
           0.1626,
           0.1569,
           0.1516,
           0.1465,
           0.1418,
           0.1376,
           0.1336,
           0.1301,
           0.127,
           0.1242,
           0.1218,
           0.1197,
           0.1179,
           0.1164,
           0.1152,
           0.1143,
           0.1135,
           0.113,
           0.1126,
           0.1124,
           0.1122,
           0.1122
          ],
          [
           0.2548,
           0.2473,
           0.24,
           0.2329,
           0.226,
           0.2192,
           0.2126,
           0.2063,
           0.2001,
           0.1941,
           0.1883,
           0.1827,
           0.1773,
           0.1721,
           0.167,
           0.1622,
           0.1576,
           0.1532,
           0.149,
           0.1452,
           0.1416,
           0.1383,
           0.1354,
           0.1327,
           0.1303,
           0.1281,
           0.1262,
           0.1246,
           0.1232,
           0.122,
           0.121,
           0.1202,
           0.1195,
           0.119,
           0.1186,
           0.1183
          ],
          [
           0.2482,
           0.242,
           0.2359,
           0.2299,
           0.2241,
           0.2184,
           0.2128,
           0.2074,
           0.2021,
           0.1969,
           0.1919,
           0.187,
           0.1823,
           0.1777,
           0.1733,
           0.169,
           0.1649,
           0.1608,
           0.157,
           0.1535,
           0.1501,
           0.1471,
           0.1442,
           0.1415,
           0.1391,
           0.1369,
           0.135,
           0.1332,
           0.1316,
           0.1303,
           0.1291,
           0.128,
           0.1271,
           0.1263,
           0.1257,
           0.1252
          ],
          [
           0.2331,
           0.2278,
           0.2227,
           0.2176,
           0.2127,
           0.2078,
           0.2031,
           0.1984,
           0.1939,
           0.1895,
           0.1851,
           0.1809,
           0.1768,
           0.1728,
           0.1689,
           0.1652,
           0.1615,
           0.158,
           0.1547,
           0.1516,
           0.1486,
           0.1459,
           0.1433,
           0.1409,
           0.1387,
           0.1367,
           0.1349,
           0.1332,
           0.1317,
           0.1303,
           0.1291,
           0.128,
           0.127,
           0.1261,
           0.1254,
           0.1247
          ],
          [
           0.2313,
           0.2262,
           0.2212,
           0.2163,
           0.2115,
           0.2068,
           0.2022,
           0.1977,
           0.1932,
           0.1889,
           0.1847,
           0.1806,
           0.1766,
           0.1727,
           0.1689,
           0.1653,
           0.1617,
           0.1582,
           0.155,
           0.152,
           0.1491,
           0.1464,
           0.1438,
           0.1415,
           0.1393,
           0.1373,
           0.1354,
           0.1337,
           0.1322,
           0.1308,
           0.1296,
           0.1284,
           0.1274,
           0.1266,
           0.1258,
           0.1251
          ],
          [
           0.2302,
           0.2253,
           0.2206,
           0.216,
           0.2114,
           0.2069,
           0.2026,
           0.1983,
           0.1941,
           0.19,
           0.186,
           0.1821,
           0.1783,
           0.1745,
           0.1709,
           0.1674,
           0.164,
           0.1607,
           0.1576,
           0.1546,
           0.1518,
           0.1492,
           0.1467,
           0.1444,
           0.1423,
           0.1403,
           0.1384,
           0.1367,
           0.1351,
           0.1337,
           0.1324,
           0.1313,
           0.1302,
           0.1293,
           0.1285,
           0.1277
          ],
          [
           0.229,
           0.2249,
           0.2209,
           0.2169,
           0.213,
           0.2091,
           0.2054,
           0.2017,
           0.1981,
           0.1946,
           0.1911,
           0.1877,
           0.1845,
           0.1812,
           0.1781,
           0.175,
           0.172,
           0.1691,
           0.1664,
           0.1637,
           0.1611,
           0.1587,
           0.1563,
           0.1541,
           0.152,
           0.15,
           0.148,
           0.1462,
           0.1445,
           0.143,
           0.1415,
           0.1401,
           0.1388,
           0.1376,
           0.1365,
           0.1355
          ],
          [
           0.2289,
           0.2249,
           0.2209,
           0.2171,
           0.2133,
           0.2096,
           0.2059,
           0.2023,
           0.1988,
           0.1953,
           0.192,
           0.1887,
           0.1855,
           0.1823,
           0.1793,
           0.1763,
           0.1733,
           0.1705,
           0.1678,
           0.1651,
           0.1626,
           0.1602,
           0.1579,
           0.1557,
           0.1535,
           0.1515,
           0.1496,
           0.1478,
           0.1461,
           0.1445,
           0.143,
           0.1415,
           0.1402,
           0.139,
           0.1379,
           0.1368
          ],
          [
           0.2239,
           0.2207,
           0.2175,
           0.2143,
           0.2112,
           0.2082,
           0.2051,
           0.2022,
           0.1993,
           0.1964,
           0.1936,
           0.1909,
           0.1882,
           0.1855,
           0.1829,
           0.1804,
           0.1779,
           0.1755,
           0.1731,
           0.1708,
           0.1685,
           0.1663,
           0.1642,
           0.1622,
           0.1601,
           0.1582,
           0.1563,
           0.1545,
           0.1527,
           0.151,
           0.1494,
           0.1478,
           0.1464,
           0.1449,
           0.1436,
           0.1423
          ]
         ]
        }
       ],
       "layout": {
        "autosize": true,
        "height": 700,
        "margin": {
         "b": 65,
         "l": 65,
         "r": 50,
         "t": 90
        },
        "scene": {
         "aspectratio": {
          "x": 1,
          "y": 1,
          "z": 0.667
         }
        },
        "template": {
         "data": {
          "bar": [
           {
            "error_x": {
             "color": "#2a3f5f"
            },
            "error_y": {
             "color": "#2a3f5f"
            },
            "marker": {
             "line": {
              "color": "#E5ECF6",
              "width": 0.5
             },
             "pattern": {
              "fillmode": "overlay",
              "size": 10,
              "solidity": 0.2
             }
            },
            "type": "bar"
           }
          ],
          "barpolar": [
           {
            "marker": {
             "line": {
              "color": "#E5ECF6",
              "width": 0.5
             },
             "pattern": {
              "fillmode": "overlay",
              "size": 10,
              "solidity": 0.2
             }
            },
            "type": "barpolar"
           }
          ],
          "carpet": [
           {
            "aaxis": {
             "endlinecolor": "#2a3f5f",
             "gridcolor": "white",
             "linecolor": "white",
             "minorgridcolor": "white",
             "startlinecolor": "#2a3f5f"
            },
            "baxis": {
             "endlinecolor": "#2a3f5f",
             "gridcolor": "white",
             "linecolor": "white",
             "minorgridcolor": "white",
             "startlinecolor": "#2a3f5f"
            },
            "type": "carpet"
           }
          ],
          "choropleth": [
           {
            "colorbar": {
             "outlinewidth": 0,
             "ticks": ""
            },
            "type": "choropleth"
           }
          ],
          "contour": [
           {
            "colorbar": {
             "outlinewidth": 0,
             "ticks": ""
            },
            "colorscale": [
             [
              0,
              "#0d0887"
             ],
             [
              0.1111111111111111,
              "#46039f"
             ],
             [
              0.2222222222222222,
              "#7201a8"
             ],
             [
              0.3333333333333333,
              "#9c179e"
             ],
             [
              0.4444444444444444,
              "#bd3786"
             ],
             [
              0.5555555555555556,
              "#d8576b"
             ],
             [
              0.6666666666666666,
              "#ed7953"
             ],
             [
              0.7777777777777778,
              "#fb9f3a"
             ],
             [
              0.8888888888888888,
              "#fdca26"
             ],
             [
              1,
              "#f0f921"
             ]
            ],
            "type": "contour"
           }
          ],
          "contourcarpet": [
           {
            "colorbar": {
             "outlinewidth": 0,
             "ticks": ""
            },
            "type": "contourcarpet"
           }
          ],
          "heatmap": [
           {
            "colorbar": {
             "outlinewidth": 0,
             "ticks": ""
            },
            "colorscale": [
             [
              0,
              "#0d0887"
             ],
             [
              0.1111111111111111,
              "#46039f"
             ],
             [
              0.2222222222222222,
              "#7201a8"
             ],
             [
              0.3333333333333333,
              "#9c179e"
             ],
             [
              0.4444444444444444,
              "#bd3786"
             ],
             [
              0.5555555555555556,
              "#d8576b"
             ],
             [
              0.6666666666666666,
              "#ed7953"
             ],
             [
              0.7777777777777778,
              "#fb9f3a"
             ],
             [
              0.8888888888888888,
              "#fdca26"
             ],
             [
              1,
              "#f0f921"
             ]
            ],
            "type": "heatmap"
           }
          ],
          "heatmapgl": [
           {
            "colorbar": {
             "outlinewidth": 0,
             "ticks": ""
            },
            "colorscale": [
             [
              0,
              "#0d0887"
             ],
             [
              0.1111111111111111,
              "#46039f"
             ],
             [
              0.2222222222222222,
              "#7201a8"
             ],
             [
              0.3333333333333333,
              "#9c179e"
             ],
             [
              0.4444444444444444,
              "#bd3786"
             ],
             [
              0.5555555555555556,
              "#d8576b"
             ],
             [
              0.6666666666666666,
              "#ed7953"
             ],
             [
              0.7777777777777778,
              "#fb9f3a"
             ],
             [
              0.8888888888888888,
              "#fdca26"
             ],
             [
              1,
              "#f0f921"
             ]
            ],
            "type": "heatmapgl"
           }
          ],
          "histogram": [
           {
            "marker": {
             "pattern": {
              "fillmode": "overlay",
              "size": 10,
              "solidity": 0.2
             }
            },
            "type": "histogram"
           }
          ],
          "histogram2d": [
           {
            "colorbar": {
             "outlinewidth": 0,
             "ticks": ""
            },
            "colorscale": [
             [
              0,
              "#0d0887"
             ],
             [
              0.1111111111111111,
              "#46039f"
             ],
             [
              0.2222222222222222,
              "#7201a8"
             ],
             [
              0.3333333333333333,
              "#9c179e"
             ],
             [
              0.4444444444444444,
              "#bd3786"
             ],
             [
              0.5555555555555556,
              "#d8576b"
             ],
             [
              0.6666666666666666,
              "#ed7953"
             ],
             [
              0.7777777777777778,
              "#fb9f3a"
             ],
             [
              0.8888888888888888,
              "#fdca26"
             ],
             [
              1,
              "#f0f921"
             ]
            ],
            "type": "histogram2d"
           }
          ],
          "histogram2dcontour": [
           {
            "colorbar": {
             "outlinewidth": 0,
             "ticks": ""
            },
            "colorscale": [
             [
              0,
              "#0d0887"
             ],
             [
              0.1111111111111111,
              "#46039f"
             ],
             [
              0.2222222222222222,
              "#7201a8"
             ],
             [
              0.3333333333333333,
              "#9c179e"
             ],
             [
              0.4444444444444444,
              "#bd3786"
             ],
             [
              0.5555555555555556,
              "#d8576b"
             ],
             [
              0.6666666666666666,
              "#ed7953"
             ],
             [
              0.7777777777777778,
              "#fb9f3a"
             ],
             [
              0.8888888888888888,
              "#fdca26"
             ],
             [
              1,
              "#f0f921"
             ]
            ],
            "type": "histogram2dcontour"
           }
          ],
          "mesh3d": [
           {
            "colorbar": {
             "outlinewidth": 0,
             "ticks": ""
            },
            "type": "mesh3d"
           }
          ],
          "parcoords": [
           {
            "line": {
             "colorbar": {
              "outlinewidth": 0,
              "ticks": ""
             }
            },
            "type": "parcoords"
           }
          ],
          "pie": [
           {
            "automargin": true,
            "type": "pie"
           }
          ],
          "scatter": [
           {
            "fillpattern": {
             "fillmode": "overlay",
             "size": 10,
             "solidity": 0.2
            },
            "type": "scatter"
           }
          ],
          "scatter3d": [
           {
            "line": {
             "colorbar": {
              "outlinewidth": 0,
              "ticks": ""
             }
            },
            "marker": {
             "colorbar": {
              "outlinewidth": 0,
              "ticks": ""
             }
            },
            "type": "scatter3d"
           }
          ],
          "scattercarpet": [
           {
            "marker": {
             "colorbar": {
              "outlinewidth": 0,
              "ticks": ""
             }
            },
            "type": "scattercarpet"
           }
          ],
          "scattergeo": [
           {
            "marker": {
             "colorbar": {
              "outlinewidth": 0,
              "ticks": ""
             }
            },
            "type": "scattergeo"
           }
          ],
          "scattergl": [
           {
            "marker": {
             "colorbar": {
              "outlinewidth": 0,
              "ticks": ""
             }
            },
            "type": "scattergl"
           }
          ],
          "scattermapbox": [
           {
            "marker": {
             "colorbar": {
              "outlinewidth": 0,
              "ticks": ""
             }
            },
            "type": "scattermapbox"
           }
          ],
          "scatterpolar": [
           {
            "marker": {
             "colorbar": {
              "outlinewidth": 0,
              "ticks": ""
             }
            },
            "type": "scatterpolar"
           }
          ],
          "scatterpolargl": [
           {
            "marker": {
             "colorbar": {
              "outlinewidth": 0,
              "ticks": ""
             }
            },
            "type": "scatterpolargl"
           }
          ],
          "scatterternary": [
           {
            "marker": {
             "colorbar": {
              "outlinewidth": 0,
              "ticks": ""
             }
            },
            "type": "scatterternary"
           }
          ],
          "surface": [
           {
            "colorbar": {
             "outlinewidth": 0,
             "ticks": ""
            },
            "colorscale": [
             [
              0,
              "#0d0887"
             ],
             [
              0.1111111111111111,
              "#46039f"
             ],
             [
              0.2222222222222222,
              "#7201a8"
             ],
             [
              0.3333333333333333,
              "#9c179e"
             ],
             [
              0.4444444444444444,
              "#bd3786"
             ],
             [
              0.5555555555555556,
              "#d8576b"
             ],
             [
              0.6666666666666666,
              "#ed7953"
             ],
             [
              0.7777777777777778,
              "#fb9f3a"
             ],
             [
              0.8888888888888888,
              "#fdca26"
             ],
             [
              1,
              "#f0f921"
             ]
            ],
            "type": "surface"
           }
          ],
          "table": [
           {
            "cells": {
             "fill": {
              "color": "#EBF0F8"
             },
             "line": {
              "color": "white"
             }
            },
            "header": {
             "fill": {
              "color": "#C8D4E3"
             },
             "line": {
              "color": "white"
             }
            },
            "type": "table"
           }
          ]
         },
         "layout": {
          "annotationdefaults": {
           "arrowcolor": "#2a3f5f",
           "arrowhead": 0,
           "arrowwidth": 1
          },
          "autotypenumbers": "strict",
          "coloraxis": {
           "colorbar": {
            "outlinewidth": 0,
            "ticks": ""
           }
          },
          "colorscale": {
           "diverging": [
            [
             0,
             "#8e0152"
            ],
            [
             0.1,
             "#c51b7d"
            ],
            [
             0.2,
             "#de77ae"
            ],
            [
             0.3,
             "#f1b6da"
            ],
            [
             0.4,
             "#fde0ef"
            ],
            [
             0.5,
             "#f7f7f7"
            ],
            [
             0.6,
             "#e6f5d0"
            ],
            [
             0.7,
             "#b8e186"
            ],
            [
             0.8,
             "#7fbc41"
            ],
            [
             0.9,
             "#4d9221"
            ],
            [
             1,
             "#276419"
            ]
           ],
           "sequential": [
            [
             0,
             "#0d0887"
            ],
            [
             0.1111111111111111,
             "#46039f"
            ],
            [
             0.2222222222222222,
             "#7201a8"
            ],
            [
             0.3333333333333333,
             "#9c179e"
            ],
            [
             0.4444444444444444,
             "#bd3786"
            ],
            [
             0.5555555555555556,
             "#d8576b"
            ],
            [
             0.6666666666666666,
             "#ed7953"
            ],
            [
             0.7777777777777778,
             "#fb9f3a"
            ],
            [
             0.8888888888888888,
             "#fdca26"
            ],
            [
             1,
             "#f0f921"
            ]
           ],
           "sequentialminus": [
            [
             0,
             "#0d0887"
            ],
            [
             0.1111111111111111,
             "#46039f"
            ],
            [
             0.2222222222222222,
             "#7201a8"
            ],
            [
             0.3333333333333333,
             "#9c179e"
            ],
            [
             0.4444444444444444,
             "#bd3786"
            ],
            [
             0.5555555555555556,
             "#d8576b"
            ],
            [
             0.6666666666666666,
             "#ed7953"
            ],
            [
             0.7777777777777778,
             "#fb9f3a"
            ],
            [
             0.8888888888888888,
             "#fdca26"
            ],
            [
             1,
             "#f0f921"
            ]
           ]
          },
          "colorway": [
           "#636efa",
           "#EF553B",
           "#00cc96",
           "#ab63fa",
           "#FFA15A",
           "#19d3f3",
           "#FF6692",
           "#B6E880",
           "#FF97FF",
           "#FECB52"
          ],
          "font": {
           "color": "#2a3f5f"
          },
          "geo": {
           "bgcolor": "white",
           "lakecolor": "white",
           "landcolor": "#E5ECF6",
           "showlakes": true,
           "showland": true,
           "subunitcolor": "white"
          },
          "hoverlabel": {
           "align": "left"
          },
          "hovermode": "closest",
          "mapbox": {
           "style": "light"
          },
          "paper_bgcolor": "white",
          "plot_bgcolor": "#E5ECF6",
          "polar": {
           "angularaxis": {
            "gridcolor": "white",
            "linecolor": "white",
            "ticks": ""
           },
           "bgcolor": "#E5ECF6",
           "radialaxis": {
            "gridcolor": "white",
            "linecolor": "white",
            "ticks": ""
           }
          },
          "scene": {
           "xaxis": {
            "backgroundcolor": "#E5ECF6",
            "gridcolor": "white",
            "gridwidth": 2,
            "linecolor": "white",
            "showbackground": true,
            "ticks": "",
            "zerolinecolor": "white"
           },
           "yaxis": {
            "backgroundcolor": "#E5ECF6",
            "gridcolor": "white",
            "gridwidth": 2,
            "linecolor": "white",
            "showbackground": true,
            "ticks": "",
            "zerolinecolor": "white"
           },
           "zaxis": {
            "backgroundcolor": "#E5ECF6",
            "gridcolor": "white",
            "gridwidth": 2,
            "linecolor": "white",
            "showbackground": true,
            "ticks": "",
            "zerolinecolor": "white"
           }
          },
          "shapedefaults": {
           "line": {
            "color": "#2a3f5f"
           }
          },
          "ternary": {
           "aaxis": {
            "gridcolor": "white",
            "linecolor": "white",
            "ticks": ""
           },
           "baxis": {
            "gridcolor": "white",
            "linecolor": "white",
            "ticks": ""
           },
           "bgcolor": "#E5ECF6",
           "caxis": {
            "gridcolor": "white",
            "linecolor": "white",
            "ticks": ""
           }
          },
          "title": {
           "x": 0.05
          },
          "xaxis": {
           "automargin": true,
           "gridcolor": "white",
           "linecolor": "white",
           "ticks": "",
           "title": {
            "standoff": 15
           },
           "zerolinecolor": "white",
           "zerolinewidth": 2
          },
          "yaxis": {
           "automargin": true,
           "gridcolor": "white",
           "linecolor": "white",
           "ticks": "",
           "title": {
            "standoff": 15
           },
           "zerolinecolor": "white",
           "zerolinewidth": 2
          }
         }
        },
        "title": {
         "text": "Vol Surface"
        },
        "width": 900
       }
      },
      "text/html": [
       "<div>                            <div id=\"6b5ac490-f553-40d1-8116-a7764d0eef9e\" class=\"plotly-graph-div\" style=\"height:700px; width:900px;\"></div>            <script type=\"text/javascript\">                require([\"plotly\"], function(Plotly) {                    window.PLOTLYENV=window.PLOTLYENV || {};                                    if (document.getElementById(\"6b5ac490-f553-40d1-8116-a7764d0eef9e\")) {                    Plotly.newPlot(                        \"6b5ac490-f553-40d1-8116-a7764d0eef9e\",                        [{\"x\":[\"2019-08-02\",\"2019-08-09\",\"2019-08-16\",\"2019-08-23\",\"2019-08-30\",\"2019-09-06\",\"2019-09-20\",\"2019-10-18\",\"2019-11-15\",\"2019-12-20\",\"2019-12-31\",\"2020-01-17\",\"2020-03-20\",\"2020-03-31\",\"2020-06-19\"],\"y\":[0.8023,0.814,0.8256,0.8372,0.8488,0.8605,0.8721,0.8837,0.8953,0.907,0.9186,0.9302,0.9419,0.9535,0.9651,0.9767,0.9884,1.0,1.0116,1.0233,1.0349,1.0465,1.0581,1.0698,1.0814,1.093,1.1047,1.1163,1.1279,1.1395,1.1512,1.1628,1.1744,1.186,1.1977,1.2093],\"z\":[[0.4244,0.4016,0.3796,0.3584,0.3381,0.3187,0.3002,0.2827,0.2662,0.2508,0.2363,0.2229,0.2105,0.1991,0.1888,0.1794,0.171,0.1636,0.157,0.1513,0.1465,0.1425,0.1393,0.1368,0.135,0.1338,0.1331,0.1329,0.133,0.1334,0.1341,0.135,0.136,0.1372,0.1384,0.1396],[0.4006,0.3777,0.3556,0.3343,0.3139,0.2944,0.2759,0.2583,0.2418,0.2263,0.2118,0.1983,0.1859,0.1745,0.1641,0.1547,0.1463,0.1388,0.1322,0.1265,0.1216,0.1176,0.1143,0.1118,0.11,0.1088,0.1081,0.1078,0.108,0.1084,0.1092,0.1101,0.1112,0.1123,0.1136,0.1149],[0.3431,0.3257,0.3089,0.2927,0.277,0.2621,0.2477,0.2341,0.2212,0.2089,0.1974,0.1866,0.1765,0.1671,0.1584,0.1504,0.1431,0.1364,0.1303,0.1248,0.1198,0.1154,0.1116,0.1083,0.1055,0.1032,0.1013,0.0998,0.0986,0.0977,0.0971,0.0966,0.0964,0.0963,0.0963,0.0965],[0.3124,0.298,0.284,0.2705,0.2574,0.2449,0.2328,0.2213,0.2104,0.1999,0.1901,0.1807,0.1719,0.1637,0.156,0.1488,0.1421,0.136,0.1304,0.1253,0.1206,0.1165,0.1129,0.1098,0.1072,0.1049,0.1031,0.1015,0.1003,0.0994,0.0988,0.0983,0.098,0.0979,0.0978,0.0979],[0.2955,0.283,0.2708,0.259,0.2475,0.2365,0.2259,0.2158,0.206,0.1968,0.1879,0.1795,0.1716,0.1641,0.1571,0.1505,0.1443,0.1385,0.1332,0.1284,0.124,0.1201,0.1167,0.1137,0.1111,0.1089,0.1071,0.1056,0.1044,0.1034,0.1027,0.1022,0.1019,0.1018,0.1017,0.1018],[0.2866,0.2752,0.264,0.2532,0.2427,0.2326,0.2228,0.2134,0.2044,0.1958,0.1876,0.1798,0.1724,0.1653,0.1587,0.1524,0.1465,0.141,0.1359,0.1313,0.1271,0.1233,0.12,0.1171,0.1145,0.1124,0.1106,0.1091,0.1079,0.1069,0.1062,0.1057,0.1054,0.1052,0.1051,0.1051],[0.2729,0.2632,0.2538,0.2446,0.2357,0.227,0.2187,0.2106,0.2028,0.1954,0.1882,0.1813,0.1748,0.1685,0.1626,0.1569,0.1516,0.1465,0.1418,0.1376,0.1336,0.1301,0.127,0.1242,0.1218,0.1197,0.1179,0.1164,0.1152,0.1143,0.1135,0.113,0.1126,0.1124,0.1122,0.1122],[0.2548,0.2473,0.24,0.2329,0.226,0.2192,0.2126,0.2063,0.2001,0.1941,0.1883,0.1827,0.1773,0.1721,0.167,0.1622,0.1576,0.1532,0.149,0.1452,0.1416,0.1383,0.1354,0.1327,0.1303,0.1281,0.1262,0.1246,0.1232,0.122,0.121,0.1202,0.1195,0.119,0.1186,0.1183],[0.2482,0.242,0.2359,0.2299,0.2241,0.2184,0.2128,0.2074,0.2021,0.1969,0.1919,0.187,0.1823,0.1777,0.1733,0.169,0.1649,0.1608,0.157,0.1535,0.1501,0.1471,0.1442,0.1415,0.1391,0.1369,0.135,0.1332,0.1316,0.1303,0.1291,0.128,0.1271,0.1263,0.1257,0.1252],[0.2331,0.2278,0.2227,0.2176,0.2127,0.2078,0.2031,0.1984,0.1939,0.1895,0.1851,0.1809,0.1768,0.1728,0.1689,0.1652,0.1615,0.158,0.1547,0.1516,0.1486,0.1459,0.1433,0.1409,0.1387,0.1367,0.1349,0.1332,0.1317,0.1303,0.1291,0.128,0.127,0.1261,0.1254,0.1247],[0.2313,0.2262,0.2212,0.2163,0.2115,0.2068,0.2022,0.1977,0.1932,0.1889,0.1847,0.1806,0.1766,0.1727,0.1689,0.1653,0.1617,0.1582,0.155,0.152,0.1491,0.1464,0.1438,0.1415,0.1393,0.1373,0.1354,0.1337,0.1322,0.1308,0.1296,0.1284,0.1274,0.1266,0.1258,0.1251],[0.2302,0.2253,0.2206,0.216,0.2114,0.2069,0.2026,0.1983,0.1941,0.19,0.186,0.1821,0.1783,0.1745,0.1709,0.1674,0.164,0.1607,0.1576,0.1546,0.1518,0.1492,0.1467,0.1444,0.1423,0.1403,0.1384,0.1367,0.1351,0.1337,0.1324,0.1313,0.1302,0.1293,0.1285,0.1277],[0.229,0.2249,0.2209,0.2169,0.213,0.2091,0.2054,0.2017,0.1981,0.1946,0.1911,0.1877,0.1845,0.1812,0.1781,0.175,0.172,0.1691,0.1664,0.1637,0.1611,0.1587,0.1563,0.1541,0.152,0.15,0.148,0.1462,0.1445,0.143,0.1415,0.1401,0.1388,0.1376,0.1365,0.1355],[0.2289,0.2249,0.2209,0.2171,0.2133,0.2096,0.2059,0.2023,0.1988,0.1953,0.192,0.1887,0.1855,0.1823,0.1793,0.1763,0.1733,0.1705,0.1678,0.1651,0.1626,0.1602,0.1579,0.1557,0.1535,0.1515,0.1496,0.1478,0.1461,0.1445,0.143,0.1415,0.1402,0.139,0.1379,0.1368],[0.2239,0.2207,0.2175,0.2143,0.2112,0.2082,0.2051,0.2022,0.1993,0.1964,0.1936,0.1909,0.1882,0.1855,0.1829,0.1804,0.1779,0.1755,0.1731,0.1708,0.1685,0.1663,0.1642,0.1622,0.1601,0.1582,0.1563,0.1545,0.1527,0.151,0.1494,0.1478,0.1464,0.1449,0.1436,0.1423]],\"type\":\"surface\",\"uid\":\"39a8ae0f-e5da-41aa-9d3d-8d3237a5fba5\"}],                        {\"autosize\":true,\"height\":700,\"margin\":{\"b\":65,\"l\":65,\"r\":50,\"t\":90},\"scene\":{\"aspectratio\":{\"x\":1,\"y\":1,\"z\":0.667}},\"template\":{\"data\":{\"barpolar\":[{\"marker\":{\"line\":{\"color\":\"#E5ECF6\",\"width\":0.5},\"pattern\":{\"fillmode\":\"overlay\",\"size\":10,\"solidity\":0.2}},\"type\":\"barpolar\"}],\"bar\":[{\"error_x\":{\"color\":\"#2a3f5f\"},\"error_y\":{\"color\":\"#2a3f5f\"},\"marker\":{\"line\":{\"color\":\"#E5ECF6\",\"width\":0.5},\"pattern\":{\"fillmode\":\"overlay\",\"size\":10,\"solidity\":0.2}},\"type\":\"bar\"}],\"carpet\":[{\"aaxis\":{\"endlinecolor\":\"#2a3f5f\",\"gridcolor\":\"white\",\"linecolor\":\"white\",\"minorgridcolor\":\"white\",\"startlinecolor\":\"#2a3f5f\"},\"baxis\":{\"endlinecolor\":\"#2a3f5f\",\"gridcolor\":\"white\",\"linecolor\":\"white\",\"minorgridcolor\":\"white\",\"startlinecolor\":\"#2a3f5f\"},\"type\":\"carpet\"}],\"choropleth\":[{\"colorbar\":{\"outlinewidth\":0,\"ticks\":\"\"},\"type\":\"choropleth\"}],\"contourcarpet\":[{\"colorbar\":{\"outlinewidth\":0,\"ticks\":\"\"},\"type\":\"contourcarpet\"}],\"contour\":[{\"colorbar\":{\"outlinewidth\":0,\"ticks\":\"\"},\"colorscale\":[[0.0,\"#0d0887\"],[0.1111111111111111,\"#46039f\"],[0.2222222222222222,\"#7201a8\"],[0.3333333333333333,\"#9c179e\"],[0.4444444444444444,\"#bd3786\"],[0.5555555555555556,\"#d8576b\"],[0.6666666666666666,\"#ed7953\"],[0.7777777777777778,\"#fb9f3a\"],[0.8888888888888888,\"#fdca26\"],[1.0,\"#f0f921\"]],\"type\":\"contour\"}],\"heatmapgl\":[{\"colorbar\":{\"outlinewidth\":0,\"ticks\":\"\"},\"colorscale\":[[0.0,\"#0d0887\"],[0.1111111111111111,\"#46039f\"],[0.2222222222222222,\"#7201a8\"],[0.3333333333333333,\"#9c179e\"],[0.4444444444444444,\"#bd3786\"],[0.5555555555555556,\"#d8576b\"],[0.6666666666666666,\"#ed7953\"],[0.7777777777777778,\"#fb9f3a\"],[0.8888888888888888,\"#fdca26\"],[1.0,\"#f0f921\"]],\"type\":\"heatmapgl\"}],\"heatmap\":[{\"colorbar\":{\"outlinewidth\":0,\"ticks\":\"\"},\"colorscale\":[[0.0,\"#0d0887\"],[0.1111111111111111,\"#46039f\"],[0.2222222222222222,\"#7201a8\"],[0.3333333333333333,\"#9c179e\"],[0.4444444444444444,\"#bd3786\"],[0.5555555555555556,\"#d8576b\"],[0.6666666666666666,\"#ed7953\"],[0.7777777777777778,\"#fb9f3a\"],[0.8888888888888888,\"#fdca26\"],[1.0,\"#f0f921\"]],\"type\":\"heatmap\"}],\"histogram2dcontour\":[{\"colorbar\":{\"outlinewidth\":0,\"ticks\":\"\"},\"colorscale\":[[0.0,\"#0d0887\"],[0.1111111111111111,\"#46039f\"],[0.2222222222222222,\"#7201a8\"],[0.3333333333333333,\"#9c179e\"],[0.4444444444444444,\"#bd3786\"],[0.5555555555555556,\"#d8576b\"],[0.6666666666666666,\"#ed7953\"],[0.7777777777777778,\"#fb9f3a\"],[0.8888888888888888,\"#fdca26\"],[1.0,\"#f0f921\"]],\"type\":\"histogram2dcontour\"}],\"histogram2d\":[{\"colorbar\":{\"outlinewidth\":0,\"ticks\":\"\"},\"colorscale\":[[0.0,\"#0d0887\"],[0.1111111111111111,\"#46039f\"],[0.2222222222222222,\"#7201a8\"],[0.3333333333333333,\"#9c179e\"],[0.4444444444444444,\"#bd3786\"],[0.5555555555555556,\"#d8576b\"],[0.6666666666666666,\"#ed7953\"],[0.7777777777777778,\"#fb9f3a\"],[0.8888888888888888,\"#fdca26\"],[1.0,\"#f0f921\"]],\"type\":\"histogram2d\"}],\"histogram\":[{\"marker\":{\"pattern\":{\"fillmode\":\"overlay\",\"size\":10,\"solidity\":0.2}},\"type\":\"histogram\"}],\"mesh3d\":[{\"colorbar\":{\"outlinewidth\":0,\"ticks\":\"\"},\"type\":\"mesh3d\"}],\"parcoords\":[{\"line\":{\"colorbar\":{\"outlinewidth\":0,\"ticks\":\"\"}},\"type\":\"parcoords\"}],\"pie\":[{\"automargin\":true,\"type\":\"pie\"}],\"scatter3d\":[{\"line\":{\"colorbar\":{\"outlinewidth\":0,\"ticks\":\"\"}},\"marker\":{\"colorbar\":{\"outlinewidth\":0,\"ticks\":\"\"}},\"type\":\"scatter3d\"}],\"scattercarpet\":[{\"marker\":{\"colorbar\":{\"outlinewidth\":0,\"ticks\":\"\"}},\"type\":\"scattercarpet\"}],\"scattergeo\":[{\"marker\":{\"colorbar\":{\"outlinewidth\":0,\"ticks\":\"\"}},\"type\":\"scattergeo\"}],\"scattergl\":[{\"marker\":{\"colorbar\":{\"outlinewidth\":0,\"ticks\":\"\"}},\"type\":\"scattergl\"}],\"scattermapbox\":[{\"marker\":{\"colorbar\":{\"outlinewidth\":0,\"ticks\":\"\"}},\"type\":\"scattermapbox\"}],\"scatterpolargl\":[{\"marker\":{\"colorbar\":{\"outlinewidth\":0,\"ticks\":\"\"}},\"type\":\"scatterpolargl\"}],\"scatterpolar\":[{\"marker\":{\"colorbar\":{\"outlinewidth\":0,\"ticks\":\"\"}},\"type\":\"scatterpolar\"}],\"scatter\":[{\"fillpattern\":{\"fillmode\":\"overlay\",\"size\":10,\"solidity\":0.2},\"type\":\"scatter\"}],\"scatterternary\":[{\"marker\":{\"colorbar\":{\"outlinewidth\":0,\"ticks\":\"\"}},\"type\":\"scatterternary\"}],\"surface\":[{\"colorbar\":{\"outlinewidth\":0,\"ticks\":\"\"},\"colorscale\":[[0.0,\"#0d0887\"],[0.1111111111111111,\"#46039f\"],[0.2222222222222222,\"#7201a8\"],[0.3333333333333333,\"#9c179e\"],[0.4444444444444444,\"#bd3786\"],[0.5555555555555556,\"#d8576b\"],[0.6666666666666666,\"#ed7953\"],[0.7777777777777778,\"#fb9f3a\"],[0.8888888888888888,\"#fdca26\"],[1.0,\"#f0f921\"]],\"type\":\"surface\"}],\"table\":[{\"cells\":{\"fill\":{\"color\":\"#EBF0F8\"},\"line\":{\"color\":\"white\"}},\"header\":{\"fill\":{\"color\":\"#C8D4E3\"},\"line\":{\"color\":\"white\"}},\"type\":\"table\"}]},\"layout\":{\"annotationdefaults\":{\"arrowcolor\":\"#2a3f5f\",\"arrowhead\":0,\"arrowwidth\":1},\"autotypenumbers\":\"strict\",\"coloraxis\":{\"colorbar\":{\"outlinewidth\":0,\"ticks\":\"\"}},\"colorscale\":{\"diverging\":[[0,\"#8e0152\"],[0.1,\"#c51b7d\"],[0.2,\"#de77ae\"],[0.3,\"#f1b6da\"],[0.4,\"#fde0ef\"],[0.5,\"#f7f7f7\"],[0.6,\"#e6f5d0\"],[0.7,\"#b8e186\"],[0.8,\"#7fbc41\"],[0.9,\"#4d9221\"],[1,\"#276419\"]],\"sequential\":[[0.0,\"#0d0887\"],[0.1111111111111111,\"#46039f\"],[0.2222222222222222,\"#7201a8\"],[0.3333333333333333,\"#9c179e\"],[0.4444444444444444,\"#bd3786\"],[0.5555555555555556,\"#d8576b\"],[0.6666666666666666,\"#ed7953\"],[0.7777777777777778,\"#fb9f3a\"],[0.8888888888888888,\"#fdca26\"],[1.0,\"#f0f921\"]],\"sequentialminus\":[[0.0,\"#0d0887\"],[0.1111111111111111,\"#46039f\"],[0.2222222222222222,\"#7201a8\"],[0.3333333333333333,\"#9c179e\"],[0.4444444444444444,\"#bd3786\"],[0.5555555555555556,\"#d8576b\"],[0.6666666666666666,\"#ed7953\"],[0.7777777777777778,\"#fb9f3a\"],[0.8888888888888888,\"#fdca26\"],[1.0,\"#f0f921\"]]},\"colorway\":[\"#636efa\",\"#EF553B\",\"#00cc96\",\"#ab63fa\",\"#FFA15A\",\"#19d3f3\",\"#FF6692\",\"#B6E880\",\"#FF97FF\",\"#FECB52\"],\"font\":{\"color\":\"#2a3f5f\"},\"geo\":{\"bgcolor\":\"white\",\"lakecolor\":\"white\",\"landcolor\":\"#E5ECF6\",\"showlakes\":true,\"showland\":true,\"subunitcolor\":\"white\"},\"hoverlabel\":{\"align\":\"left\"},\"hovermode\":\"closest\",\"mapbox\":{\"style\":\"light\"},\"paper_bgcolor\":\"white\",\"plot_bgcolor\":\"#E5ECF6\",\"polar\":{\"angularaxis\":{\"gridcolor\":\"white\",\"linecolor\":\"white\",\"ticks\":\"\"},\"bgcolor\":\"#E5ECF6\",\"radialaxis\":{\"gridcolor\":\"white\",\"linecolor\":\"white\",\"ticks\":\"\"}},\"scene\":{\"xaxis\":{\"backgroundcolor\":\"#E5ECF6\",\"gridcolor\":\"white\",\"gridwidth\":2,\"linecolor\":\"white\",\"showbackground\":true,\"ticks\":\"\",\"zerolinecolor\":\"white\"},\"yaxis\":{\"backgroundcolor\":\"#E5ECF6\",\"gridcolor\":\"white\",\"gridwidth\":2,\"linecolor\":\"white\",\"showbackground\":true,\"ticks\":\"\",\"zerolinecolor\":\"white\"},\"zaxis\":{\"backgroundcolor\":\"#E5ECF6\",\"gridcolor\":\"white\",\"gridwidth\":2,\"linecolor\":\"white\",\"showbackground\":true,\"ticks\":\"\",\"zerolinecolor\":\"white\"}},\"shapedefaults\":{\"line\":{\"color\":\"#2a3f5f\"}},\"ternary\":{\"aaxis\":{\"gridcolor\":\"white\",\"linecolor\":\"white\",\"ticks\":\"\"},\"baxis\":{\"gridcolor\":\"white\",\"linecolor\":\"white\",\"ticks\":\"\"},\"bgcolor\":\"#E5ECF6\",\"caxis\":{\"gridcolor\":\"white\",\"linecolor\":\"white\",\"ticks\":\"\"}},\"title\":{\"x\":0.05},\"xaxis\":{\"automargin\":true,\"gridcolor\":\"white\",\"linecolor\":\"white\",\"ticks\":\"\",\"title\":{\"standoff\":15},\"zerolinecolor\":\"white\",\"zerolinewidth\":2},\"yaxis\":{\"automargin\":true,\"gridcolor\":\"white\",\"linecolor\":\"white\",\"ticks\":\"\",\"title\":{\"standoff\":15},\"zerolinecolor\":\"white\",\"zerolinewidth\":2}}},\"title\":{\"text\":\"Vol Surface\"},\"width\":900},                        {\"responsive\": true}                    ).then(function(){\n",
       "                            \n",
       "var gd = document.getElementById('6b5ac490-f553-40d1-8116-a7764d0eef9e');\n",
       "var x = new MutationObserver(function (mutations, observer) {{\n",
       "        var display = window.getComputedStyle(gd).display;\n",
       "        if (!display || display === 'none') {{\n",
       "            console.log([gd, 'removed!']);\n",
       "            Plotly.purge(gd);\n",
       "            observer.disconnect();\n",
       "        }}\n",
       "}});\n",
       "\n",
       "// Listen for the removal of the full notebook cells\n",
       "var notebookContainer = gd.closest('#notebook-container');\n",
       "if (notebookContainer) {{\n",
       "    x.observe(notebookContainer, {childList: true});\n",
       "}}\n",
       "\n",
       "// Listen for the clearing of the current output cell\n",
       "var outputEl = gd.closest('.output');\n",
       "if (outputEl) {{\n",
       "    x.observe(outputEl, {childList: true});\n",
       "}}\n",
       "\n",
       "                        })                };                });            </script>        </div>"
      ],
      "text/plain": [
       "FigureWidget({\n",
       "    'data': [{'type': 'surface',\n",
       "              'uid': '39a8ae0f-e5da-41aa-9d3d-8d3237a5fba5',\n",
       "              'x': [2019-08-02, 2019-08-09, 2019-08-16, 2019-08-23, 2019-08-30,\n",
       "                    2019-09-06, 2019-09-20, 2019-10-18, 2019-11-15, 2019-12-20,\n",
       "                    2019-12-31, 2020-01-17, 2020-03-20, 2020-03-31, 2020-06-19],\n",
       "              'y': array([0.8023, 0.814 , 0.8256, 0.8372, 0.8488, 0.8605, 0.8721, 0.8837, 0.8953,\n",
       "                          0.907 , 0.9186, 0.9302, 0.9419, 0.9535, 0.9651, 0.9767, 0.9884, 1.    ,\n",
       "                          1.0116, 1.0233, 1.0349, 1.0465, 1.0581, 1.0698, 1.0814, 1.093 , 1.1047,\n",
       "                          1.1163, 1.1279, 1.1395, 1.1512, 1.1628, 1.1744, 1.186 , 1.1977, 1.2093]),\n",
       "              'z': [[0.4244, 0.4016, 0.3796, 0.3584, 0.3381, 0.3187, 0.3002,\n",
       "                    0.2827, 0.2662, 0.2508, 0.2363, 0.2229, 0.2105, 0.1991, 0.1888,\n",
       "                    0.1794, 0.171, 0.1636, 0.157, 0.1513, 0.1465, 0.1425, 0.1393,\n",
       "                    0.1368, 0.135, 0.1338, 0.1331, 0.1329, 0.133, 0.1334, 0.1341,\n",
       "                    0.135, 0.136, 0.1372, 0.1384, 0.1396], [0.4006, 0.3777, 0.3556,\n",
       "                    0.3343, 0.3139, 0.2944, 0.2759, 0.2583, 0.2418, 0.2263, 0.2118,\n",
       "                    0.1983, 0.1859, 0.1745, 0.1641, 0.1547, 0.1463, 0.1388, 0.1322,\n",
       "                    0.1265, 0.1216, 0.1176, 0.1143, 0.1118, 0.11, 0.1088, 0.1081,\n",
       "                    0.1078, 0.108, 0.1084, 0.1092, 0.1101, 0.1112, 0.1123, 0.1136,\n",
       "                    0.1149], [0.3431, 0.3257, 0.3089, 0.2927, 0.277, 0.2621,\n",
       "                    0.2477, 0.2341, 0.2212, 0.2089, 0.1974, 0.1866, 0.1765, 0.1671,\n",
       "                    0.1584, 0.1504, 0.1431, 0.1364, 0.1303, 0.1248, 0.1198, 0.1154,\n",
       "                    0.1116, 0.1083, 0.1055, 0.1032, 0.1013, 0.0998, 0.0986, 0.0977,\n",
       "                    0.0971, 0.0966, 0.0964, 0.0963, 0.0963, 0.0965], [0.3124,\n",
       "                    0.298, 0.284, 0.2705, 0.2574, 0.2449, 0.2328, 0.2213, 0.2104,\n",
       "                    0.1999, 0.1901, 0.1807, 0.1719, 0.1637, 0.156, 0.1488, 0.1421,\n",
       "                    0.136, 0.1304, 0.1253, 0.1206, 0.1165, 0.1129, 0.1098, 0.1072,\n",
       "                    0.1049, 0.1031, 0.1015, 0.1003, 0.0994, 0.0988, 0.0983, 0.098,\n",
       "                    0.0979, 0.0978, 0.0979], [0.2955, 0.283, 0.2708, 0.259, 0.2475,\n",
       "                    0.2365, 0.2259, 0.2158, 0.206, 0.1968, 0.1879, 0.1795, 0.1716,\n",
       "                    0.1641, 0.1571, 0.1505, 0.1443, 0.1385, 0.1332, 0.1284, 0.124,\n",
       "                    0.1201, 0.1167, 0.1137, 0.1111, 0.1089, 0.1071, 0.1056, 0.1044,\n",
       "                    0.1034, 0.1027, 0.1022, 0.1019, 0.1018, 0.1017, 0.1018],\n",
       "                    [0.2866, 0.2752, 0.264, 0.2532, 0.2427, 0.2326, 0.2228, 0.2134,\n",
       "                    0.2044, 0.1958, 0.1876, 0.1798, 0.1724, 0.1653, 0.1587, 0.1524,\n",
       "                    0.1465, 0.141, 0.1359, 0.1313, 0.1271, 0.1233, 0.12, 0.1171,\n",
       "                    0.1145, 0.1124, 0.1106, 0.1091, 0.1079, 0.1069, 0.1062, 0.1057,\n",
       "                    0.1054, 0.1052, 0.1051, 0.1051], [0.2729, 0.2632, 0.2538,\n",
       "                    0.2446, 0.2357, 0.227, 0.2187, 0.2106, 0.2028, 0.1954, 0.1882,\n",
       "                    0.1813, 0.1748, 0.1685, 0.1626, 0.1569, 0.1516, 0.1465, 0.1418,\n",
       "                    0.1376, 0.1336, 0.1301, 0.127, 0.1242, 0.1218, 0.1197, 0.1179,\n",
       "                    0.1164, 0.1152, 0.1143, 0.1135, 0.113, 0.1126, 0.1124, 0.1122,\n",
       "                    0.1122], [0.2548, 0.2473, 0.24, 0.2329, 0.226, 0.2192, 0.2126,\n",
       "                    0.2063, 0.2001, 0.1941, 0.1883, 0.1827, 0.1773, 0.1721, 0.167,\n",
       "                    0.1622, 0.1576, 0.1532, 0.149, 0.1452, 0.1416, 0.1383, 0.1354,\n",
       "                    0.1327, 0.1303, 0.1281, 0.1262, 0.1246, 0.1232, 0.122, 0.121,\n",
       "                    0.1202, 0.1195, 0.119, 0.1186, 0.1183], [0.2482, 0.242, 0.2359,\n",
       "                    0.2299, 0.2241, 0.2184, 0.2128, 0.2074, 0.2021, 0.1969, 0.1919,\n",
       "                    0.187, 0.1823, 0.1777, 0.1733, 0.169, 0.1649, 0.1608, 0.157,\n",
       "                    0.1535, 0.1501, 0.1471, 0.1442, 0.1415, 0.1391, 0.1369, 0.135,\n",
       "                    0.1332, 0.1316, 0.1303, 0.1291, 0.128, 0.1271, 0.1263, 0.1257,\n",
       "                    0.1252], [0.2331, 0.2278, 0.2227, 0.2176, 0.2127, 0.2078,\n",
       "                    0.2031, 0.1984, 0.1939, 0.1895, 0.1851, 0.1809, 0.1768, 0.1728,\n",
       "                    0.1689, 0.1652, 0.1615, 0.158, 0.1547, 0.1516, 0.1486, 0.1459,\n",
       "                    0.1433, 0.1409, 0.1387, 0.1367, 0.1349, 0.1332, 0.1317, 0.1303,\n",
       "                    0.1291, 0.128, 0.127, 0.1261, 0.1254, 0.1247], [0.2313, 0.2262,\n",
       "                    0.2212, 0.2163, 0.2115, 0.2068, 0.2022, 0.1977, 0.1932, 0.1889,\n",
       "                    0.1847, 0.1806, 0.1766, 0.1727, 0.1689, 0.1653, 0.1617, 0.1582,\n",
       "                    0.155, 0.152, 0.1491, 0.1464, 0.1438, 0.1415, 0.1393, 0.1373,\n",
       "                    0.1354, 0.1337, 0.1322, 0.1308, 0.1296, 0.1284, 0.1274, 0.1266,\n",
       "                    0.1258, 0.1251], [0.2302, 0.2253, 0.2206, 0.216, 0.2114,\n",
       "                    0.2069, 0.2026, 0.1983, 0.1941, 0.19, 0.186, 0.1821, 0.1783,\n",
       "                    0.1745, 0.1709, 0.1674, 0.164, 0.1607, 0.1576, 0.1546, 0.1518,\n",
       "                    0.1492, 0.1467, 0.1444, 0.1423, 0.1403, 0.1384, 0.1367, 0.1351,\n",
       "                    0.1337, 0.1324, 0.1313, 0.1302, 0.1293, 0.1285, 0.1277],\n",
       "                    [0.229, 0.2249, 0.2209, 0.2169, 0.213, 0.2091, 0.2054, 0.2017,\n",
       "                    0.1981, 0.1946, 0.1911, 0.1877, 0.1845, 0.1812, 0.1781, 0.175,\n",
       "                    0.172, 0.1691, 0.1664, 0.1637, 0.1611, 0.1587, 0.1563, 0.1541,\n",
       "                    0.152, 0.15, 0.148, 0.1462, 0.1445, 0.143, 0.1415, 0.1401,\n",
       "                    0.1388, 0.1376, 0.1365, 0.1355], [0.2289, 0.2249, 0.2209,\n",
       "                    0.2171, 0.2133, 0.2096, 0.2059, 0.2023, 0.1988, 0.1953, 0.192,\n",
       "                    0.1887, 0.1855, 0.1823, 0.1793, 0.1763, 0.1733, 0.1705, 0.1678,\n",
       "                    0.1651, 0.1626, 0.1602, 0.1579, 0.1557, 0.1535, 0.1515, 0.1496,\n",
       "                    0.1478, 0.1461, 0.1445, 0.143, 0.1415, 0.1402, 0.139, 0.1379,\n",
       "                    0.1368], [0.2239, 0.2207, 0.2175, 0.2143, 0.2112, 0.2082,\n",
       "                    0.2051, 0.2022, 0.1993, 0.1964, 0.1936, 0.1909, 0.1882, 0.1855,\n",
       "                    0.1829, 0.1804, 0.1779, 0.1755, 0.1731, 0.1708, 0.1685, 0.1663,\n",
       "                    0.1642, 0.1622, 0.1601, 0.1582, 0.1563, 0.1545, 0.1527, 0.151,\n",
       "                    0.1494, 0.1478, 0.1464, 0.1449, 0.1436, 0.1423]]}],\n",
       "    'layout': {'autosize': True,\n",
       "               'height': 700,\n",
       "               'margin': {'b': 65, 'l': 65, 'r': 50, 't': 90},\n",
       "               'scene': {'aspectratio': {'x': 1, 'y': 1, 'z': 0.667}},\n",
       "               'template': '...',\n",
       "               'title': {'text': 'Vol Surface'},\n",
       "               'width': 900}\n",
       "})"
      ]
     },
     "execution_count": 17,
     "metadata": {},
     "output_type": "execute_result"
    }
   ],
   "source": [
    "import plotly.graph_objs as go\n",
    "\n",
    "fig = go.Figure(\n",
    "    data=[ go.Surface(\n",
    "        z=df2.values.tolist(),\n",
    "        y=df2.columns.values,\n",
    "        x=df2.index.astype(str).values.tolist()\n",
    "    )],\n",
    "    layout=dict(\n",
    "        title = 'Vol Surface', \n",
    "        autosize = True,\n",
    "        width = 900,\n",
    "        height = 700,\n",
    "        margin = dict(\n",
    "            l = 65,\n",
    "            r = 50,\n",
    "            b = 65,\n",
    "            t = 90\n",
    "        ),\n",
    "        scene = dict(\n",
    "            aspectratio = dict(\n",
    "                x = 1,\n",
    "                y = 1,\n",
    "                z = 0.667\n",
    "            )\n",
    "        )\n",
    "    ))\n",
    "\n",
    "go.FigureWidget(fig)"
   ]
  },
  {
   "cell_type": "code",
   "execution_count": 18,
   "metadata": {},
   "outputs": [
    {
     "name": "stdout",
     "output_type": "stream",
     "text": [
      "2023-04-09 02:09:37.974726\n"
     ]
    }
   ],
   "source": [
    "import datetime\n",
    "print(datetime.datetime.now())"
   ]
  },
  {
   "attachments": {},
   "cell_type": "markdown",
   "metadata": {},
   "source": [
    "I have done reading this passage now. 2023-04-09 02:09:37.974726"
   ]
  }
 ],
 "metadata": {
  "kernelspec": {
   "display_name": "Python 3",
   "language": "python",
   "name": "python3"
  },
  "language_info": {
   "codemirror_mode": {
    "name": "ipython",
    "version": 3
   },
   "file_extension": ".py",
   "mimetype": "text/x-python",
   "name": "python",
   "nbconvert_exporter": "python",
   "pygments_lexer": "ipython3",
   "version": "3.8.16"
  }
 },
 "nbformat": 4,
 "nbformat_minor": 4
}
