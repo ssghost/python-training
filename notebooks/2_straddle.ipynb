{
 "cells": [
  {
   "cell_type": "markdown",
   "metadata": {},
   "source": [
    "# Example #1 - pricing a straddle"
   ]
  },
  {
   "cell_type": "markdown",
   "metadata": {},
   "source": [
    "Using some more complex (but still simple) operations, we can approximate the price of an ATMF straddle."
   ]
  },
  {
   "cell_type": "markdown",
   "metadata": {},
   "source": [
    "$$ STRADDLE_{ATMF} \\approx \\frac{2}{\\sqrt{2\\pi}} F \\times \\sigma \\sqrt(T) $$\n",
    "$$ \\sigma = implied volatility $$\n",
    "$$ T = time-to-maturity $$\n",
    "$$ F = forward of the underlier $$"
   ]
  },
  {
   "cell_type": "markdown",
   "metadata": {},
   "source": [
    "Let's start with defining the straddle's implied volatility and time-to-maturity. Note, we will assume F is equal to 1 and the straddle price can be scaled accordingly. "
   ]
  },
  {
   "cell_type": "code",
   "execution_count": 1,
   "metadata": {},
   "outputs": [],
   "source": [
    "vol = 0.2\n",
    "time = 1."
   ]
  },
  {
   "cell_type": "code",
   "execution_count": 2,
   "metadata": {},
   "outputs": [
    {
     "data": {
      "text/plain": [
       "0.15961737689352445"
      ]
     },
     "execution_count": 2,
     "metadata": {},
     "output_type": "execute_result"
    }
   ],
   "source": [
    "2. * ( (1 / ( 2 * 3.14 ) ** 0.5 ) * vol * time ** 0.5 )"
   ]
  },
  {
   "cell_type": "markdown",
   "metadata": {},
   "source": [
    "This is a lot to type again and again if you want to price several straddles, which is really annoying and error prone. Let's define a function for this so that we can use it over and over"
   ]
  },
  {
   "cell_type": "code",
   "execution_count": 3,
   "metadata": {},
   "outputs": [],
   "source": [
    "def straddlePricer( vol, time ):\n",
    "    return 2. * ( ( 1. / ( 2 * 3.14 ) ** 0.5 ) * vol * time ** 0.5 )"
   ]
  },
  {
   "cell_type": "markdown",
   "metadata": {},
   "source": [
    "Notice this doesn't immediately return anything to the output area. Rest assured the function is defined and we can begin using it. Below, we can compare the function's output to the output of the cell above."
   ]
  },
  {
   "cell_type": "code",
   "execution_count": 4,
   "metadata": {},
   "outputs": [
    {
     "name": "stdout",
     "output_type": "stream",
     "text": [
      "0.15961737689352445\n",
      "0.15961737689352445\n",
      "True\n"
     ]
    }
   ],
   "source": [
    "print( straddlePricer( 0.2, 1.0 ) )\n",
    "print( 2. * ( ( 1. / ( 2 * 3.14 ) ** 0.5 ) * vol * time ** 0.5 ) )\n",
    "print( straddlePricer( 0.2, 1.0 ) == ( 2. * ( ( 1. / ( 2 * 3.14 ) ** 0.5 ) * vol * time ** 0.5 ) ) )"
   ]
  },
  {
   "cell_type": "markdown",
   "metadata": {},
   "source": [
    "Input order doesn't matter as long as we let the function know what we're using as inputs"
   ]
  },
  {
   "cell_type": "code",
   "execution_count": 5,
   "metadata": {},
   "outputs": [
    {
     "name": "stdout",
     "output_type": "stream",
     "text": [
      "0.15961737689352445\n",
      "0.15961737689352445\n"
     ]
    }
   ],
   "source": [
    "print( straddlePricer( time=1.0, vol=0.2 ) )\n",
    "print( straddlePricer( vol=0.2, time=1.0 ) )"
   ]
  },
  {
   "cell_type": "markdown",
   "metadata": {},
   "source": [
    "This is nice, but what if I want to default to certain inputs? By setting the initial inputs below we're implictly calling each of these arguments \"optional\". Initially, we'll make only `time` and optional arguement (input).  "
   ]
  },
  {
   "cell_type": "code",
   "execution_count": 6,
   "metadata": {},
   "outputs": [],
   "source": [
    "def straddlePricer( vol, time=1.0 ):\n",
    "    return 2. * ( ( 1 / ( 2 * 3.14 ) ** 0.5 ) * vol * time ** 0.5 )"
   ]
  },
  {
   "cell_type": "code",
   "execution_count": 7,
   "metadata": {},
   "outputs": [
    {
     "data": {
      "text/plain": [
       "0.15961737689352445"
      ]
     },
     "execution_count": 7,
     "metadata": {},
     "output_type": "execute_result"
    }
   ],
   "source": [
    "straddlePricer( 0.2 )"
   ]
  },
  {
   "cell_type": "markdown",
   "metadata": {},
   "source": [
    "Now, we'll make both `vol` and `time` optional."
   ]
  },
  {
   "cell_type": "code",
   "execution_count": 8,
   "metadata": {},
   "outputs": [],
   "source": [
    "def straddlePricer( vol=0.2, time=1.0 ):\n",
    "    return 2. * ( ( 1 / ( 2 * 3.14 ) ** 0.5 ) * vol * time ** 0.5 )"
   ]
  },
  {
   "cell_type": "markdown",
   "metadata": {},
   "source": [
    "In other words, we don't need to pass these arguments to call the function. It will use 0.2 for `vol` and 1.0 for `time` by default unless instructed otherwise."
   ]
  },
  {
   "cell_type": "code",
   "execution_count": 9,
   "metadata": {},
   "outputs": [
    {
     "data": {
      "text/plain": [
       "0.15961737689352445"
      ]
     },
     "execution_count": 9,
     "metadata": {},
     "output_type": "execute_result"
    }
   ],
   "source": [
    "straddlePricer()"
   ]
  },
  {
   "cell_type": "code",
   "execution_count": 10,
   "metadata": {},
   "outputs": [
    {
     "data": {
      "text/plain": [
       "0.1755791145828769"
      ]
     },
     "execution_count": 10,
     "metadata": {},
     "output_type": "execute_result"
    }
   ],
   "source": [
    "straddlePricer( 0.22 )"
   ]
  },
  {
   "cell_type": "markdown",
   "metadata": {},
   "source": [
    "Notice, there's π in the denominator of the straddle price formula, but the value we used above (3.14) is an rough approximation. Is there a more precise value we could use? Yes, we can use a library called `numpy`. Let's import it first below."
   ]
  },
  {
   "cell_type": "code",
   "execution_count": 11,
   "metadata": {},
   "outputs": [],
   "source": [
    "import numpy"
   ]
  },
  {
   "cell_type": "markdown",
   "metadata": {},
   "source": [
    "You can access functions of numpy by entering `numpy.xxxxx`, where `xxxxx` is the function you would like to use. `numpy`'s implementation of `pi` is simply `numpy.pi`."
   ]
  },
  {
   "cell_type": "code",
   "execution_count": 12,
   "metadata": {},
   "outputs": [
    {
     "data": {
      "text/plain": [
       "3.141592653589793"
      ]
     },
     "execution_count": 12,
     "metadata": {},
     "output_type": "execute_result"
    }
   ],
   "source": [
    "numpy.pi"
   ]
  },
  {
   "cell_type": "markdown",
   "metadata": {},
   "source": [
    "Typing `numpy` over and over again can get pretty tedious. Let's make it easier for ourselves by abbreviating the name. Python convention for `numpy` abbreviation is `np`."
   ]
  },
  {
   "cell_type": "code",
   "execution_count": 4,
   "metadata": {},
   "outputs": [],
   "source": [
    "import numpy as np\n",
    "import pandas as pd\n",
    "import datetime as dt"
   ]
  },
  {
   "cell_type": "code",
   "execution_count": 14,
   "metadata": {},
   "outputs": [
    {
     "data": {
      "text/plain": [
       "3.141592653589793"
      ]
     },
     "execution_count": 14,
     "metadata": {},
     "output_type": "execute_result"
    }
   ],
   "source": [
    "np.pi"
   ]
  },
  {
   "cell_type": "markdown",
   "metadata": {},
   "source": [
    "`numpy` also has a handy square root function (`np.sqrt`)"
   ]
  },
  {
   "cell_type": "code",
   "execution_count": 15,
   "metadata": {},
   "outputs": [
    {
     "data": {
      "text/plain": [
       "2.0"
      ]
     },
     "execution_count": 15,
     "metadata": {},
     "output_type": "execute_result"
    }
   ],
   "source": [
    "np.sqrt( 4 )"
   ]
  },
  {
   "cell_type": "markdown",
   "metadata": {},
   "source": [
    "Let's incorporate `np.pi` and `np.sqrt` into our simple straddle pricer to make things a little more precise and easier to read."
   ]
  },
  {
   "cell_type": "code",
   "execution_count": 16,
   "metadata": {},
   "outputs": [
    {
     "data": {
      "text/plain": [
       "0.1595769121605731"
      ]
     },
     "execution_count": 16,
     "metadata": {},
     "output_type": "execute_result"
    }
   ],
   "source": [
    "def straddlePricer( vol=0.2, time=1.0 ):\n",
    "    return 2. * ( ( 1 / np.sqrt( 2 * np.pi ) ) * vol * np.sqrt( time ) )\n",
    "\n",
    "straddlePricer()"
   ]
  },
  {
   "cell_type": "markdown",
   "metadata": {},
   "source": [
    "Let's see what the difference is between our original implementation and our new and improved implemenation."
   ]
  },
  {
   "cell_type": "code",
   "execution_count": 17,
   "metadata": {},
   "outputs": [
    {
     "data": {
      "text/plain": [
       "-4.046473295135633e-05"
      ]
     },
     "execution_count": 17,
     "metadata": {},
     "output_type": "execute_result"
    }
   ],
   "source": [
    "straddlePricer() - ( 2. * ( ( 1 / ( 2 * 3.14 ) ** 0.5 ) * vol * time ** 0.5 ) )"
   ]
  },
  {
   "cell_type": "markdown",
   "metadata": {},
   "source": [
    "In this case, the difference in precision and readability isn't huge, but that difference can be valuable at times. In addition to the functionality above, `numpy` can do a lot of other things. For instance, we can generate some random numbers."
   ]
  },
  {
   "cell_type": "code",
   "execution_count": 18,
   "metadata": {},
   "outputs": [
    {
     "data": {
      "text/plain": [
       "0.6411511501394276"
      ]
     },
     "execution_count": 18,
     "metadata": {},
     "output_type": "execute_result"
    }
   ],
   "source": [
    "np.random.rand()"
   ]
  },
  {
   "cell_type": "markdown",
   "metadata": {},
   "source": [
    "Is there a way to see what functions are available? Yes, just tab after `np.`"
   ]
  },
  {
   "cell_type": "code",
   "execution_count": 19,
   "metadata": {},
   "outputs": [],
   "source": [
    "#np."
   ]
  },
  {
   "cell_type": "markdown",
   "metadata": {},
   "source": [
    "Alternatively, we can call `dir` on `np` to see what is included."
   ]
  },
  {
   "cell_type": "code",
   "execution_count": 20,
   "metadata": {},
   "outputs": [
    {
     "data": {
      "text/plain": [
       "['ALLOW_THREADS',\n",
       " 'AxisError',\n",
       " 'BUFSIZE',\n",
       " 'CLIP',\n",
       " 'ComplexWarning',\n",
       " 'DataSource',\n",
       " 'ERR_CALL',\n",
       " 'ERR_DEFAULT',\n",
       " 'ERR_IGNORE',\n",
       " 'ERR_LOG',\n",
       " 'ERR_PRINT',\n",
       " 'ERR_RAISE',\n",
       " 'ERR_WARN',\n",
       " 'FLOATING_POINT_SUPPORT',\n",
       " 'FPE_DIVIDEBYZERO',\n",
       " 'FPE_INVALID',\n",
       " 'FPE_OVERFLOW',\n",
       " 'FPE_UNDERFLOW',\n",
       " 'False_',\n",
       " 'Inf',\n",
       " 'Infinity',\n",
       " 'MAXDIMS',\n",
       " 'MAY_SHARE_BOUNDS',\n",
       " 'MAY_SHARE_EXACT',\n",
       " 'ModuleDeprecationWarning',\n",
       " 'NAN',\n",
       " 'NINF',\n",
       " 'NZERO',\n",
       " 'NaN',\n",
       " 'PINF',\n",
       " 'PZERO',\n",
       " 'RAISE',\n",
       " 'RankWarning',\n",
       " 'SHIFT_DIVIDEBYZERO',\n",
       " 'SHIFT_INVALID',\n",
       " 'SHIFT_OVERFLOW',\n",
       " 'SHIFT_UNDERFLOW',\n",
       " 'ScalarType',\n",
       " 'Tester',\n",
       " 'TooHardError',\n",
       " 'True_',\n",
       " 'UFUNC_BUFSIZE_DEFAULT',\n",
       " 'UFUNC_PYVALS_NAME',\n",
       " 'VisibleDeprecationWarning',\n",
       " 'WRAP',\n",
       " '_CopyMode',\n",
       " '_NoValue',\n",
       " '_UFUNC_API',\n",
       " '__NUMPY_SETUP__',\n",
       " '__all__',\n",
       " '__builtins__',\n",
       " '__cached__',\n",
       " '__config__',\n",
       " '__deprecated_attrs__',\n",
       " '__dir__',\n",
       " '__doc__',\n",
       " '__expired_functions__',\n",
       " '__file__',\n",
       " '__getattr__',\n",
       " '__git_version__',\n",
       " '__loader__',\n",
       " '__name__',\n",
       " '__package__',\n",
       " '__path__',\n",
       " '__spec__',\n",
       " '__version__',\n",
       " '_add_newdoc_ufunc',\n",
       " '_distributor_init',\n",
       " '_financial_names',\n",
       " '_globals',\n",
       " '_mat',\n",
       " '_pyinstaller_hooks_dir',\n",
       " '_pytesttester',\n",
       " '_version',\n",
       " 'abs',\n",
       " 'absolute',\n",
       " 'add',\n",
       " 'add_docstring',\n",
       " 'add_newdoc',\n",
       " 'add_newdoc_ufunc',\n",
       " 'all',\n",
       " 'allclose',\n",
       " 'alltrue',\n",
       " 'amax',\n",
       " 'amin',\n",
       " 'angle',\n",
       " 'any',\n",
       " 'append',\n",
       " 'apply_along_axis',\n",
       " 'apply_over_axes',\n",
       " 'arange',\n",
       " 'arccos',\n",
       " 'arccosh',\n",
       " 'arcsin',\n",
       " 'arcsinh',\n",
       " 'arctan',\n",
       " 'arctan2',\n",
       " 'arctanh',\n",
       " 'argmax',\n",
       " 'argmin',\n",
       " 'argpartition',\n",
       " 'argsort',\n",
       " 'argwhere',\n",
       " 'around',\n",
       " 'array',\n",
       " 'array2string',\n",
       " 'array_equal',\n",
       " 'array_equiv',\n",
       " 'array_repr',\n",
       " 'array_split',\n",
       " 'array_str',\n",
       " 'asanyarray',\n",
       " 'asarray',\n",
       " 'asarray_chkfinite',\n",
       " 'ascontiguousarray',\n",
       " 'asfarray',\n",
       " 'asfortranarray',\n",
       " 'asmatrix',\n",
       " 'atleast_1d',\n",
       " 'atleast_2d',\n",
       " 'atleast_3d',\n",
       " 'average',\n",
       " 'bartlett',\n",
       " 'base_repr',\n",
       " 'binary_repr',\n",
       " 'bincount',\n",
       " 'bitwise_and',\n",
       " 'bitwise_not',\n",
       " 'bitwise_or',\n",
       " 'bitwise_xor',\n",
       " 'blackman',\n",
       " 'block',\n",
       " 'bmat',\n",
       " 'bool8',\n",
       " 'bool_',\n",
       " 'broadcast',\n",
       " 'broadcast_arrays',\n",
       " 'broadcast_shapes',\n",
       " 'broadcast_to',\n",
       " 'busday_count',\n",
       " 'busday_offset',\n",
       " 'busdaycalendar',\n",
       " 'byte',\n",
       " 'byte_bounds',\n",
       " 'bytes0',\n",
       " 'bytes_',\n",
       " 'c_',\n",
       " 'can_cast',\n",
       " 'cast',\n",
       " 'cbrt',\n",
       " 'cdouble',\n",
       " 'ceil',\n",
       " 'cfloat',\n",
       " 'char',\n",
       " 'character',\n",
       " 'chararray',\n",
       " 'choose',\n",
       " 'clip',\n",
       " 'clongdouble',\n",
       " 'clongfloat',\n",
       " 'column_stack',\n",
       " 'common_type',\n",
       " 'compare_chararrays',\n",
       " 'compat',\n",
       " 'complex128',\n",
       " 'complex256',\n",
       " 'complex64',\n",
       " 'complex_',\n",
       " 'complexfloating',\n",
       " 'compress',\n",
       " 'concatenate',\n",
       " 'conj',\n",
       " 'conjugate',\n",
       " 'convolve',\n",
       " 'copy',\n",
       " 'copysign',\n",
       " 'copyto',\n",
       " 'core',\n",
       " 'corrcoef',\n",
       " 'correlate',\n",
       " 'cos',\n",
       " 'cosh',\n",
       " 'count_nonzero',\n",
       " 'cov',\n",
       " 'cross',\n",
       " 'csingle',\n",
       " 'ctypeslib',\n",
       " 'cumprod',\n",
       " 'cumproduct',\n",
       " 'cumsum',\n",
       " 'datetime64',\n",
       " 'datetime_as_string',\n",
       " 'datetime_data',\n",
       " 'deg2rad',\n",
       " 'degrees',\n",
       " 'delete',\n",
       " 'deprecate',\n",
       " 'deprecate_with_doc',\n",
       " 'diag',\n",
       " 'diag_indices',\n",
       " 'diag_indices_from',\n",
       " 'diagflat',\n",
       " 'diagonal',\n",
       " 'diff',\n",
       " 'digitize',\n",
       " 'disp',\n",
       " 'divide',\n",
       " 'divmod',\n",
       " 'dot',\n",
       " 'double',\n",
       " 'dsplit',\n",
       " 'dstack',\n",
       " 'dtype',\n",
       " 'e',\n",
       " 'ediff1d',\n",
       " 'einsum',\n",
       " 'einsum_path',\n",
       " 'emath',\n",
       " 'empty',\n",
       " 'empty_like',\n",
       " 'equal',\n",
       " 'error_message',\n",
       " 'errstate',\n",
       " 'euler_gamma',\n",
       " 'exp',\n",
       " 'exp2',\n",
       " 'expand_dims',\n",
       " 'expm1',\n",
       " 'expm1x',\n",
       " 'extract',\n",
       " 'eye',\n",
       " 'fabs',\n",
       " 'fastCopyAndTranspose',\n",
       " 'fft',\n",
       " 'fill_diagonal',\n",
       " 'find_common_type',\n",
       " 'finfo',\n",
       " 'fix',\n",
       " 'flatiter',\n",
       " 'flatnonzero',\n",
       " 'flexible',\n",
       " 'flip',\n",
       " 'fliplr',\n",
       " 'flipud',\n",
       " 'float128',\n",
       " 'float16',\n",
       " 'float32',\n",
       " 'float64',\n",
       " 'float_',\n",
       " 'float_power',\n",
       " 'floating',\n",
       " 'floor',\n",
       " 'floor_divide',\n",
       " 'fmax',\n",
       " 'fmin',\n",
       " 'fmod',\n",
       " 'format_float_positional',\n",
       " 'format_float_scientific',\n",
       " 'format_parser',\n",
       " 'frexp',\n",
       " 'from_dlpack',\n",
       " 'frombuffer',\n",
       " 'fromfile',\n",
       " 'fromfunction',\n",
       " 'fromiter',\n",
       " 'frompyfunc',\n",
       " 'fromregex',\n",
       " 'fromstring',\n",
       " 'full',\n",
       " 'full_like',\n",
       " 'gcd',\n",
       " 'generic',\n",
       " 'genfromtxt',\n",
       " 'geomspace',\n",
       " 'get_array_wrap',\n",
       " 'get_include',\n",
       " 'get_printoptions',\n",
       " 'getbufsize',\n",
       " 'geterr',\n",
       " 'geterrcall',\n",
       " 'geterrobj',\n",
       " 'gradient',\n",
       " 'greater',\n",
       " 'greater_equal',\n",
       " 'half',\n",
       " 'hamming',\n",
       " 'hanning',\n",
       " 'heaviside',\n",
       " 'histogram',\n",
       " 'histogram2d',\n",
       " 'histogram_bin_edges',\n",
       " 'histogramdd',\n",
       " 'hsplit',\n",
       " 'hstack',\n",
       " 'hypot',\n",
       " 'i0',\n",
       " 'identity',\n",
       " 'iinfo',\n",
       " 'imag',\n",
       " 'in1d',\n",
       " 'index_exp',\n",
       " 'indices',\n",
       " 'inexact',\n",
       " 'inf',\n",
       " 'info',\n",
       " 'infty',\n",
       " 'inner',\n",
       " 'insert',\n",
       " 'int0',\n",
       " 'int16',\n",
       " 'int32',\n",
       " 'int64',\n",
       " 'int8',\n",
       " 'int_',\n",
       " 'intc',\n",
       " 'integer',\n",
       " 'interp',\n",
       " 'intersect1d',\n",
       " 'intp',\n",
       " 'invert',\n",
       " 'is_busday',\n",
       " 'isclose',\n",
       " 'iscomplex',\n",
       " 'iscomplexobj',\n",
       " 'isfinite',\n",
       " 'isfortran',\n",
       " 'isin',\n",
       " 'isinf',\n",
       " 'isnan',\n",
       " 'isnat',\n",
       " 'isneginf',\n",
       " 'isposinf',\n",
       " 'isreal',\n",
       " 'isrealobj',\n",
       " 'isscalar',\n",
       " 'issctype',\n",
       " 'issubclass_',\n",
       " 'issubdtype',\n",
       " 'issubsctype',\n",
       " 'iterable',\n",
       " 'ix_',\n",
       " 'kaiser',\n",
       " 'kron',\n",
       " 'lcm',\n",
       " 'ldexp',\n",
       " 'left_shift',\n",
       " 'less',\n",
       " 'less_equal',\n",
       " 'lexsort',\n",
       " 'lib',\n",
       " 'linalg',\n",
       " 'linspace',\n",
       " 'little_endian',\n",
       " 'load',\n",
       " 'loadtxt',\n",
       " 'log',\n",
       " 'log10',\n",
       " 'log1p',\n",
       " 'log2',\n",
       " 'logaddexp',\n",
       " 'logaddexp2',\n",
       " 'logical_and',\n",
       " 'logical_not',\n",
       " 'logical_or',\n",
       " 'logical_xor',\n",
       " 'logspace',\n",
       " 'longcomplex',\n",
       " 'longdouble',\n",
       " 'longfloat',\n",
       " 'longlong',\n",
       " 'lookfor',\n",
       " 'ma',\n",
       " 'mask_indices',\n",
       " 'mat',\n",
       " 'math',\n",
       " 'matmul',\n",
       " 'matrix',\n",
       " 'matrixlib',\n",
       " 'max',\n",
       " 'maximum',\n",
       " 'maximum_sctype',\n",
       " 'may_share_memory',\n",
       " 'mean',\n",
       " 'median',\n",
       " 'memmap',\n",
       " 'meshgrid',\n",
       " 'mgrid',\n",
       " 'min',\n",
       " 'min_scalar_type',\n",
       " 'minimum',\n",
       " 'mintypecode',\n",
       " 'mod',\n",
       " 'modf',\n",
       " 'moveaxis',\n",
       " 'msort',\n",
       " 'multiply',\n",
       " 'nan',\n",
       " 'nan_to_num',\n",
       " 'nanargmax',\n",
       " 'nanargmin',\n",
       " 'nancumprod',\n",
       " 'nancumsum',\n",
       " 'nanmax',\n",
       " 'nanmean',\n",
       " 'nanmedian',\n",
       " 'nanmin',\n",
       " 'nanpercentile',\n",
       " 'nanprod',\n",
       " 'nanquantile',\n",
       " 'nanstd',\n",
       " 'nansum',\n",
       " 'nanvar',\n",
       " 'nbytes',\n",
       " 'ndarray',\n",
       " 'ndenumerate',\n",
       " 'ndim',\n",
       " 'ndindex',\n",
       " 'nditer',\n",
       " 'negative',\n",
       " 'nested_iters',\n",
       " 'newaxis',\n",
       " 'nextafter',\n",
       " 'nonzero',\n",
       " 'not_equal',\n",
       " 'numarray',\n",
       " 'number',\n",
       " 'obj2sctype',\n",
       " 'object0',\n",
       " 'object_',\n",
       " 'ogrid',\n",
       " 'oldnumeric',\n",
       " 'ones',\n",
       " 'ones_like',\n",
       " 'os',\n",
       " 'outer',\n",
       " 'packbits',\n",
       " 'pad',\n",
       " 'partition',\n",
       " 'percentile',\n",
       " 'pi',\n",
       " 'piecewise',\n",
       " 'place',\n",
       " 'poly',\n",
       " 'poly1d',\n",
       " 'polyadd',\n",
       " 'polyder',\n",
       " 'polydiv',\n",
       " 'polyfit',\n",
       " 'polyint',\n",
       " 'polymul',\n",
       " 'polynomial',\n",
       " 'polysub',\n",
       " 'polyval',\n",
       " 'positive',\n",
       " 'power',\n",
       " 'printoptions',\n",
       " 'prod',\n",
       " 'product',\n",
       " 'promote_types',\n",
       " 'ptp',\n",
       " 'put',\n",
       " 'put_along_axis',\n",
       " 'putmask',\n",
       " 'quantile',\n",
       " 'r_',\n",
       " 'rad2deg',\n",
       " 'radians',\n",
       " 'random',\n",
       " 'ravel',\n",
       " 'ravel_multi_index',\n",
       " 'real',\n",
       " 'real_if_close',\n",
       " 'rec',\n",
       " 'recarray',\n",
       " 'recfromcsv',\n",
       " 'recfromtxt',\n",
       " 'reciprocal',\n",
       " 'record',\n",
       " 'remainder',\n",
       " 'repeat',\n",
       " 'require',\n",
       " 'reshape',\n",
       " 'resize',\n",
       " 'result_type',\n",
       " 'right_shift',\n",
       " 'rint',\n",
       " 'roll',\n",
       " 'rollaxis',\n",
       " 'roots',\n",
       " 'rot90',\n",
       " 'round',\n",
       " 'round_',\n",
       " 'row_stack',\n",
       " 's_',\n",
       " 'safe_eval',\n",
       " 'save',\n",
       " 'savetxt',\n",
       " 'savez',\n",
       " 'savez_compressed',\n",
       " 'sctype2char',\n",
       " 'sctypeDict',\n",
       " 'sctypes',\n",
       " 'searchsorted',\n",
       " 'select',\n",
       " 'set_numeric_ops',\n",
       " 'set_printoptions',\n",
       " 'set_string_function',\n",
       " 'setbufsize',\n",
       " 'setdiff1d',\n",
       " 'seterr',\n",
       " 'seterrcall',\n",
       " 'seterrobj',\n",
       " 'setxor1d',\n",
       " 'shape',\n",
       " 'shares_memory',\n",
       " 'short',\n",
       " 'show_config',\n",
       " 'sign',\n",
       " 'signbit',\n",
       " 'signedinteger',\n",
       " 'sin',\n",
       " 'sinc',\n",
       " 'single',\n",
       " 'singlecomplex',\n",
       " 'sinh',\n",
       " 'size',\n",
       " 'sometrue',\n",
       " 'sort',\n",
       " 'sort_complex',\n",
       " 'source',\n",
       " 'spacing',\n",
       " 'split',\n",
       " 'sqrt',\n",
       " 'square',\n",
       " 'squeeze',\n",
       " 'stack',\n",
       " 'std',\n",
       " 'str0',\n",
       " 'str_',\n",
       " 'string_',\n",
       " 'subtract',\n",
       " 'sum',\n",
       " 'swapaxes',\n",
       " 'sys',\n",
       " 'take',\n",
       " 'take_along_axis',\n",
       " 'tan',\n",
       " 'tanh',\n",
       " 'tensordot',\n",
       " 'test',\n",
       " 'testing',\n",
       " 'tile',\n",
       " 'timedelta64',\n",
       " 'trace',\n",
       " 'tracemalloc_domain',\n",
       " 'transpose',\n",
       " 'trapz',\n",
       " 'tri',\n",
       " 'tril',\n",
       " 'tril_indices',\n",
       " 'tril_indices_from',\n",
       " 'trim_zeros',\n",
       " 'triu',\n",
       " 'triu_indices',\n",
       " 'triu_indices_from',\n",
       " 'true_divide',\n",
       " 'trunc',\n",
       " 'typecodes',\n",
       " 'typename',\n",
       " 'ubyte',\n",
       " 'ufunc',\n",
       " 'uint',\n",
       " 'uint0',\n",
       " 'uint16',\n",
       " 'uint32',\n",
       " 'uint64',\n",
       " 'uint8',\n",
       " 'uintc',\n",
       " 'uintp',\n",
       " 'ulonglong',\n",
       " 'unicode_',\n",
       " 'union1d',\n",
       " 'unique',\n",
       " 'unpackbits',\n",
       " 'unravel_index',\n",
       " 'unsignedinteger',\n",
       " 'unwrap',\n",
       " 'use_hugepage',\n",
       " 'ushort',\n",
       " 'vander',\n",
       " 'var',\n",
       " 'vdot',\n",
       " 'vectorize',\n",
       " 'version',\n",
       " 'void',\n",
       " 'void0',\n",
       " 'vsplit',\n",
       " 'vstack',\n",
       " 'w',\n",
       " 'warnings',\n",
       " 'where',\n",
       " 'who',\n",
       " 'zeros',\n",
       " 'zeros_like']"
      ]
     },
     "execution_count": 20,
     "metadata": {},
     "output_type": "execute_result"
    }
   ],
   "source": [
    "dir(np)"
   ]
  },
  {
   "cell_type": "markdown",
   "metadata": {},
   "source": [
    "Continuing with the prior example of pricing our straddle, we can also price the straddle using the Monte Carlo method. We need to generate a normally distributed set of random numbers to simulate the asset's movement through time."
   ]
  },
  {
   "cell_type": "code",
   "execution_count": 21,
   "metadata": {},
   "outputs": [
    {
     "data": {
      "text/plain": [
       "0.17796553797347708"
      ]
     },
     "execution_count": 21,
     "metadata": {},
     "output_type": "execute_result"
    }
   ],
   "source": [
    "def straddlePricerMC(vol=0.2, time=1.0, mcPaths=100):\n",
    "    dailyVol = vol / np.sqrt( 252. )\n",
    "    resultSum = 0\n",
    "    for p in range( mcPaths ):\n",
    "        resultSum += np.abs( np.prod( ( 1 + np.random.normal( 0, dailyVol, int( round( time * 252 ) ) ) ) ) - 1 )\n",
    "    return resultSum / mcPaths\n",
    "\n",
    "straddlePricerMC()"
   ]
  },
  {
   "cell_type": "markdown",
   "metadata": {},
   "source": [
    "There's a lot of new things going on here. Let's unpack it one line at a time."
   ]
  },
  {
   "cell_type": "markdown",
   "metadata": {},
   "source": [
    "We know the variance scales linearly with time, so we can either\n",
    "\n",
    "1. divide the variance by time and take the square root to get a daily volatility, or\n",
    "2. take the square root of variance (volatility) and divide by the root of time\n",
    "    \n",
    "Generally, the latter is clearer and simpler to understand since we typically think in vol terms, but you are free to use whichever method you want."
   ]
  },
  {
   "cell_type": "code",
   "execution_count": 22,
   "metadata": {},
   "outputs": [
    {
     "data": {
      "text/plain": [
       "0.012598815766974242"
      ]
     },
     "execution_count": 22,
     "metadata": {},
     "output_type": "execute_result"
    }
   ],
   "source": [
    "# Option #1 above\n",
    "np.sqrt( vol ** 2 / 252 )"
   ]
  },
  {
   "cell_type": "code",
   "execution_count": 23,
   "metadata": {},
   "outputs": [
    {
     "name": "stdout",
     "output_type": "stream",
     "text": [
      "sqrtVarOverTime = 0.012598815766974242\n",
      "volOverSqrtTime = 0.01259881576697424\n",
      "Are they close? True\n"
     ]
    }
   ],
   "source": [
    "# Comparing the two methods\n",
    "vol = 0.2\n",
    "var = vol ** 2\n",
    "sqrtVarOverTime = np.sqrt( var / 252 )\n",
    "volOverSqrtTime = vol / np.sqrt( 252 )\n",
    "valuesEqual = np.isclose( sqrtVarOverTime, volOverSqrtTime )\n",
    "print( f'sqrtVarOverTime = {sqrtVarOverTime}\\nvolOverSqrtTime = {volOverSqrtTime}\\nAre they close? {valuesEqual}' )"
   ]
  },
  {
   "cell_type": "markdown",
   "metadata": {},
   "source": [
    "The next line isn't super exciting, but we set the default value of our cumulative sum to be 0. So we're just defining resultSum and setting it equal to 0. If we don't do this we'll get an error. "
   ]
  },
  {
   "cell_type": "code",
   "execution_count": 24,
   "metadata": {},
   "outputs": [],
   "source": [
    "resultSum = 0"
   ]
  },
  {
   "cell_type": "markdown",
   "metadata": {},
   "source": [
    "Next we have a loop. There are different types of loops we can use. Here we use a `for` loop, which says \"iterate over each element in `range(mcPaths)`\". But wait...what's `range(mcPaths)`? `range` is a native python function that will return an iterator over a list of ints starting at 0 and going to x-1."
   ]
  },
  {
   "cell_type": "code",
   "execution_count": 25,
   "metadata": {},
   "outputs": [
    {
     "name": "stdout",
     "output_type": "stream",
     "text": [
      "[0, 1, 2, 3, 4, 5, 6, 7, 8, 9]\n",
      "10\n"
     ]
    }
   ],
   "source": [
    "range10 = range( 10 )\n",
    "lst = list( range10 )\n",
    "print( lst )\n",
    "print( len( lst ) )"
   ]
  },
  {
   "cell_type": "markdown",
   "metadata": {},
   "source": [
    "In our case, we don't really want to do anything with `p`, so it is good practice to set it to `_`. We just want to iterate through the loop `mcPaths` times. In the default case, the function runs through the loop 100 times."
   ]
  },
  {
   "cell_type": "code",
   "execution_count": 26,
   "metadata": {},
   "outputs": [
    {
     "data": {
      "text/plain": [
       "0.15322385728145196"
      ]
     },
     "execution_count": 26,
     "metadata": {},
     "output_type": "execute_result"
    }
   ],
   "source": [
    "def straddlePricerMC( vol=0.2, time=1.0, mcPaths=100 ):\n",
    "    dailyVol = vol / np.sqrt( 252. )\n",
    "    resultSum = 0\n",
    "    for _ in range( mcPaths ):\n",
    "        resultSum += np.abs( np.prod( 1 + ( np.random.normal( 0, dailyVol, int( round( time * 252 ) ) ) ) ) - 1 )\n",
    "    return resultSum / mcPaths\n",
    "\n",
    "straddlePricerMC()"
   ]
  },
  {
   "cell_type": "markdown",
   "metadata": {},
   "source": [
    "To unpack what the function does at each iteration of the loop, let's unpack this one step at a time. We start with the innermost function call and work backwards from there. Let's ask for help to see what the `np.random.normal` method actually does. Thankfully, there are two handy ways to see a function's documentation.\n",
    "\n",
    "1. help\n",
    "2. ?"
   ]
  },
  {
   "cell_type": "code",
   "execution_count": 27,
   "metadata": {},
   "outputs": [
    {
     "name": "stdout",
     "output_type": "stream",
     "text": [
      "Help on built-in function normal:\n",
      "\n",
      "normal(...) method of numpy.random.mtrand.RandomState instance\n",
      "    normal(loc=0.0, scale=1.0, size=None)\n",
      "    \n",
      "    Draw random samples from a normal (Gaussian) distribution.\n",
      "    \n",
      "    The probability density function of the normal distribution, first\n",
      "    derived by De Moivre and 200 years later by both Gauss and Laplace\n",
      "    independently [2]_, is often called the bell curve because of\n",
      "    its characteristic shape (see the example below).\n",
      "    \n",
      "    The normal distributions occurs often in nature.  For example, it\n",
      "    describes the commonly occurring distribution of samples influenced\n",
      "    by a large number of tiny, random disturbances, each with its own\n",
      "    unique distribution [2]_.\n",
      "    \n",
      "    .. note::\n",
      "        New code should use the ``normal`` method of a ``default_rng()``\n",
      "        instance instead; please see the :ref:`random-quick-start`.\n",
      "    \n",
      "    Parameters\n",
      "    ----------\n",
      "    loc : float or array_like of floats\n",
      "        Mean (\"centre\") of the distribution.\n",
      "    scale : float or array_like of floats\n",
      "        Standard deviation (spread or \"width\") of the distribution. Must be\n",
      "        non-negative.\n",
      "    size : int or tuple of ints, optional\n",
      "        Output shape.  If the given shape is, e.g., ``(m, n, k)``, then\n",
      "        ``m * n * k`` samples are drawn.  If size is ``None`` (default),\n",
      "        a single value is returned if ``loc`` and ``scale`` are both scalars.\n",
      "        Otherwise, ``np.broadcast(loc, scale).size`` samples are drawn.\n",
      "    \n",
      "    Returns\n",
      "    -------\n",
      "    out : ndarray or scalar\n",
      "        Drawn samples from the parameterized normal distribution.\n",
      "    \n",
      "    See Also\n",
      "    --------\n",
      "    scipy.stats.norm : probability density function, distribution or\n",
      "        cumulative density function, etc.\n",
      "    random.Generator.normal: which should be used for new code.\n",
      "    \n",
      "    Notes\n",
      "    -----\n",
      "    The probability density for the Gaussian distribution is\n",
      "    \n",
      "    .. math:: p(x) = \\frac{1}{\\sqrt{ 2 \\pi \\sigma^2 }}\n",
      "                     e^{ - \\frac{ (x - \\mu)^2 } {2 \\sigma^2} },\n",
      "    \n",
      "    where :math:`\\mu` is the mean and :math:`\\sigma` the standard\n",
      "    deviation. The square of the standard deviation, :math:`\\sigma^2`,\n",
      "    is called the variance.\n",
      "    \n",
      "    The function has its peak at the mean, and its \"spread\" increases with\n",
      "    the standard deviation (the function reaches 0.607 times its maximum at\n",
      "    :math:`x + \\sigma` and :math:`x - \\sigma` [2]_).  This implies that\n",
      "    normal is more likely to return samples lying close to the mean, rather\n",
      "    than those far away.\n",
      "    \n",
      "    References\n",
      "    ----------\n",
      "    .. [1] Wikipedia, \"Normal distribution\",\n",
      "           https://en.wikipedia.org/wiki/Normal_distribution\n",
      "    .. [2] P. R. Peebles Jr., \"Central Limit Theorem\" in \"Probability,\n",
      "           Random Variables and Random Signal Principles\", 4th ed., 2001,\n",
      "           pp. 51, 51, 125.\n",
      "    \n",
      "    Examples\n",
      "    --------\n",
      "    Draw samples from the distribution:\n",
      "    \n",
      "    >>> mu, sigma = 0, 0.1 # mean and standard deviation\n",
      "    >>> s = np.random.normal(mu, sigma, 1000)\n",
      "    \n",
      "    Verify the mean and the variance:\n",
      "    \n",
      "    >>> abs(mu - np.mean(s))\n",
      "    0.0  # may vary\n",
      "    \n",
      "    >>> abs(sigma - np.std(s, ddof=1))\n",
      "    0.1  # may vary\n",
      "    \n",
      "    Display the histogram of the samples, along with\n",
      "    the probability density function:\n",
      "    \n",
      "    >>> import matplotlib.pyplot as plt\n",
      "    >>> count, bins, ignored = plt.hist(s, 30, density=True)\n",
      "    >>> plt.plot(bins, 1/(sigma * np.sqrt(2 * np.pi)) *\n",
      "    ...                np.exp( - (bins - mu)**2 / (2 * sigma**2) ),\n",
      "    ...          linewidth=2, color='r')\n",
      "    >>> plt.show()\n",
      "    \n",
      "    Two-by-four array of samples from N(3, 6.25):\n",
      "    \n",
      "    >>> np.random.normal(3, 2.5, size=(2, 4))\n",
      "    array([[-4.49401501,  4.00950034, -1.81814867,  7.29718677],   # random\n",
      "           [ 0.39924804,  4.68456316,  4.99394529,  4.84057254]])  # random\n",
      "\n"
     ]
    }
   ],
   "source": [
    "help(np.random.normal)\n",
    "# np.random.normal?"
   ]
  },
  {
   "cell_type": "markdown",
   "metadata": {},
   "source": [
    "Ok, so we know from the help function that the `np.random.normal` method takes three optional inputs: mean, standard deviation, and size of the array to generate multiple random numbers. It defaults to a distribution with a mean of zero and a standard deviation of 1, returning only 1 random number."
   ]
  },
  {
   "cell_type": "code",
   "execution_count": 28,
   "metadata": {},
   "outputs": [
    {
     "data": {
      "text/plain": [
       "0.48925864502016436"
      ]
     },
     "execution_count": 28,
     "metadata": {},
     "output_type": "execute_result"
    }
   ],
   "source": [
    "np.random.normal()"
   ]
  },
  {
   "cell_type": "markdown",
   "metadata": {},
   "source": [
    "Below we're going to call this method with a mean of zero (no drift) and a standard deviation of our daily vol, so that we can generate multiple days of returns. Specifically, we ask to generate the number of days to maturity."
   ]
  },
  {
   "cell_type": "code",
   "execution_count": 7,
   "metadata": {},
   "outputs": [
    {
     "ename": "NameError",
     "evalue": "name 'vol' is not defined",
     "output_type": "error",
     "traceback": [
      "\u001b[0;31m---------------------------------------------------------------------------\u001b[0m",
      "\u001b[0;31mNameError\u001b[0m                                 Traceback (most recent call last)",
      "\u001b[1;32m/Users/songshuang/Desktop/JPMC-training/notebooks/2_straddle.ipynb Cell 57\u001b[0m in \u001b[0;36m3\n\u001b[1;32m      <a href='vscode-notebook-cell:/Users/songshuang/Desktop/JPMC-training/notebooks/2_straddle.ipynb#Y110sZmlsZQ%3D%3D?line=0'>1</a>\u001b[0m time \u001b[39m=\u001b[39m \u001b[39m1\u001b[39m\n\u001b[1;32m      <a href='vscode-notebook-cell:/Users/songshuang/Desktop/JPMC-training/notebooks/2_straddle.ipynb#Y110sZmlsZQ%3D%3D?line=1'>2</a>\u001b[0m nDays \u001b[39m=\u001b[39m time \u001b[39m*\u001b[39m \u001b[39m252\u001b[39m\n\u001b[0;32m----> <a href='vscode-notebook-cell:/Users/songshuang/Desktop/JPMC-training/notebooks/2_straddle.ipynb#Y110sZmlsZQ%3D%3D?line=2'>3</a>\u001b[0m dailyVol \u001b[39m=\u001b[39m vol \u001b[39m/\u001b[39m np\u001b[39m.\u001b[39msqrt( \u001b[39m252.\u001b[39m )\n\u001b[1;32m      <a href='vscode-notebook-cell:/Users/songshuang/Desktop/JPMC-training/notebooks/2_straddle.ipynb#Y110sZmlsZQ%3D%3D?line=3'>4</a>\u001b[0m \u001b[39mprint\u001b[39m( nDays )\n\u001b[1;32m      <a href='vscode-notebook-cell:/Users/songshuang/Desktop/JPMC-training/notebooks/2_straddle.ipynb#Y110sZmlsZQ%3D%3D?line=5'>6</a>\u001b[0m np\u001b[39m.\u001b[39mrandom\u001b[39m.\u001b[39mnormal( \u001b[39m0\u001b[39m, dailyVol, nDays )\n",
      "\u001b[0;31mNameError\u001b[0m: name 'vol' is not defined"
     ]
    }
   ],
   "source": [
    "time = 1\n",
    "nDays = time * 252\n",
    "dailyVol = vol / np.sqrt( 252. )\n",
    "print( nDays )\n",
    "\n",
    "np.random.normal( 0, dailyVol, nDays )"
   ]
  },
  {
   "cell_type": "markdown",
   "metadata": {},
   "source": [
    "Now, given we have an asset return timeseries, how much is a straddle worth? We're interested in the terminal value of the asset and because we assume the straddle is struck ATM, we can just take the absolute value of the asset's deviation from the initial value (in this case, 1)"
   ]
  },
  {
   "cell_type": "code",
   "execution_count": 30,
   "metadata": {},
   "outputs": [
    {
     "name": "stdout",
     "output_type": "stream",
     "text": [
      "0.030088573823511933\n",
      "0.030088573823511933\n"
     ]
    }
   ],
   "source": [
    "np.random.seed( 42 ) # guarantee the same result from the two random series\n",
    "\n",
    "returns = np.random.normal( 0, dailyVol, time * 252 )\n",
    "priceAtMaturity = np.prod( 1 + returns )\n",
    "changeAtMaturity = priceAtMaturity - 1\n",
    "absChangeAtMaturity = np.abs( changeAtMaturity )\n",
    "print( absChangeAtMaturity )\n",
    "\n",
    "# all together in one line\n",
    "np.random.seed( 42 )\n",
    "print( np.abs( np.prod( 1 + ( np.random.normal( 0, dailyVol, time * 252 ) ) ) - 1 ) )"
   ]
  },
  {
   "cell_type": "markdown",
   "metadata": {},
   "source": [
    "Let's take a closer look at what we did above. This time, we're going to utilize another two libraries called pandas and perspective to make our life a little easier."
   ]
  },
  {
   "cell_type": "code",
   "execution_count": 32,
   "metadata": {},
   "outputs": [
    {
     "name": "stdout",
     "output_type": "stream",
     "text": [
      "Collecting perspective-python\n",
      "  Downloading perspective_python-2.0.0-cp38-cp38-macosx_10_15_x86_64.whl (23.5 MB)\n",
      "\u001b[2K     \u001b[90m━━━━━━━━━━━━━━━━━━━━━━━━━━━━━━━━━━━━━━━━\u001b[0m \u001b[32m23.5/23.5 MB\u001b[0m \u001b[31m2.4 MB/s\u001b[0m eta \u001b[36m0:00:00\u001b[0m00:01\u001b[0m00:01\u001b[0mm\n",
      "\u001b[?25hRequirement already satisfied: ipywidgets<9,>=7.5.1 in /Users/songshuang/opt/anaconda3/lib/python3.8/site-packages (from perspective-python) (8.0.6)\n",
      "Requirement already satisfied: traitlets<6,>=4.3.2 in /Users/songshuang/opt/anaconda3/lib/python3.8/site-packages (from perspective-python) (5.7.1)\n",
      "Requirement already satisfied: pandas<2,>=0.22.0 in /Users/songshuang/opt/anaconda3/lib/python3.8/site-packages (from perspective-python) (1.5.3)\n",
      "Requirement already satisfied: python-dateutil<3,>=2.8.0 in /Users/songshuang/opt/anaconda3/lib/python3.8/site-packages (from perspective-python) (2.8.1)\n",
      "Requirement already satisfied: future<1,>=0.16.0 in /Users/songshuang/opt/anaconda3/lib/python3.8/site-packages (from perspective-python) (0.18.3)\n",
      "Requirement already satisfied: numpy<2,>=1.21.6 in /Users/songshuang/opt/anaconda3/lib/python3.8/site-packages (from perspective-python) (1.23.4)\n",
      "Requirement already satisfied: ipython>=6.1.0 in /Users/songshuang/opt/anaconda3/lib/python3.8/site-packages (from ipywidgets<9,>=7.5.1->perspective-python) (8.6.0)\n",
      "Requirement already satisfied: ipykernel>=4.5.1 in /Users/songshuang/opt/anaconda3/lib/python3.8/site-packages (from ipywidgets<9,>=7.5.1->perspective-python) (6.19.2)\n",
      "Requirement already satisfied: jupyterlab-widgets~=3.0.7 in /Users/songshuang/opt/anaconda3/lib/python3.8/site-packages (from ipywidgets<9,>=7.5.1->perspective-python) (3.0.7)\n",
      "Requirement already satisfied: widgetsnbextension~=4.0.7 in /Users/songshuang/opt/anaconda3/lib/python3.8/site-packages (from ipywidgets<9,>=7.5.1->perspective-python) (4.0.7)\n",
      "Requirement already satisfied: pytz>=2020.1 in /Users/songshuang/opt/anaconda3/lib/python3.8/site-packages (from pandas<2,>=0.22.0->perspective-python) (2022.7)\n",
      "Requirement already satisfied: six>=1.5 in /Users/songshuang/opt/anaconda3/lib/python3.8/site-packages (from python-dateutil<3,>=2.8.0->perspective-python) (1.16.0)\n",
      "Requirement already satisfied: appnope in /Users/songshuang/opt/anaconda3/lib/python3.8/site-packages (from ipykernel>=4.5.1->ipywidgets<9,>=7.5.1->perspective-python) (0.1.2)\n",
      "Requirement already satisfied: comm>=0.1.1 in /Users/songshuang/opt/anaconda3/lib/python3.8/site-packages (from ipykernel>=4.5.1->ipywidgets<9,>=7.5.1->perspective-python) (0.1.2)\n",
      "Requirement already satisfied: debugpy>=1.0 in /Users/songshuang/opt/anaconda3/lib/python3.8/site-packages (from ipykernel>=4.5.1->ipywidgets<9,>=7.5.1->perspective-python) (1.5.1)\n",
      "Requirement already satisfied: packaging in /Users/songshuang/opt/anaconda3/lib/python3.8/site-packages (from ipykernel>=4.5.1->ipywidgets<9,>=7.5.1->perspective-python) (21.3)\n",
      "Requirement already satisfied: pyzmq>=17 in /Users/songshuang/opt/anaconda3/lib/python3.8/site-packages (from ipykernel>=4.5.1->ipywidgets<9,>=7.5.1->perspective-python) (23.2.0)\n",
      "Requirement already satisfied: psutil in /Users/songshuang/opt/anaconda3/lib/python3.8/site-packages (from ipykernel>=4.5.1->ipywidgets<9,>=7.5.1->perspective-python) (5.9.2)\n",
      "Requirement already satisfied: nest-asyncio in /Users/songshuang/opt/anaconda3/lib/python3.8/site-packages (from ipykernel>=4.5.1->ipywidgets<9,>=7.5.1->perspective-python) (1.5.6)\n",
      "Requirement already satisfied: matplotlib-inline>=0.1 in /Users/songshuang/opt/anaconda3/lib/python3.8/site-packages (from ipykernel>=4.5.1->ipywidgets<9,>=7.5.1->perspective-python) (0.1.6)\n",
      "Requirement already satisfied: jupyter-client>=6.1.12 in /Users/songshuang/opt/anaconda3/lib/python3.8/site-packages (from ipykernel>=4.5.1->ipywidgets<9,>=7.5.1->perspective-python) (7.4.5)\n",
      "Requirement already satisfied: tornado>=6.1 in /Users/songshuang/opt/anaconda3/lib/python3.8/site-packages (from ipykernel>=4.5.1->ipywidgets<9,>=7.5.1->perspective-python) (6.2)\n",
      "Requirement already satisfied: pygments>=2.4.0 in /Users/songshuang/opt/anaconda3/lib/python3.8/site-packages (from ipython>=6.1.0->ipywidgets<9,>=7.5.1->perspective-python) (2.13.0)\n",
      "Requirement already satisfied: backcall in /Users/songshuang/opt/anaconda3/lib/python3.8/site-packages (from ipython>=6.1.0->ipywidgets<9,>=7.5.1->perspective-python) (0.2.0)\n",
      "Requirement already satisfied: prompt-toolkit<3.1.0,>3.0.1 in /Users/songshuang/opt/anaconda3/lib/python3.8/site-packages (from ipython>=6.1.0->ipywidgets<9,>=7.5.1->perspective-python) (3.0.31)\n",
      "Requirement already satisfied: pexpect>4.3 in /Users/songshuang/opt/anaconda3/lib/python3.8/site-packages (from ipython>=6.1.0->ipywidgets<9,>=7.5.1->perspective-python) (4.8.0)\n",
      "Requirement already satisfied: pickleshare in /Users/songshuang/opt/anaconda3/lib/python3.8/site-packages (from ipython>=6.1.0->ipywidgets<9,>=7.5.1->perspective-python) (0.7.5)\n",
      "Requirement already satisfied: decorator in /Users/songshuang/opt/anaconda3/lib/python3.8/site-packages (from ipython>=6.1.0->ipywidgets<9,>=7.5.1->perspective-python) (5.1.1)\n",
      "Requirement already satisfied: stack-data in /Users/songshuang/opt/anaconda3/lib/python3.8/site-packages (from ipython>=6.1.0->ipywidgets<9,>=7.5.1->perspective-python) (0.2.0)\n",
      "Requirement already satisfied: jedi>=0.16 in /Users/songshuang/opt/anaconda3/lib/python3.8/site-packages (from ipython>=6.1.0->ipywidgets<9,>=7.5.1->perspective-python) (0.17.1)\n",
      "Requirement already satisfied: parso<0.8.0,>=0.7.0 in /Users/songshuang/opt/anaconda3/lib/python3.8/site-packages (from jedi>=0.16->ipython>=6.1.0->ipywidgets<9,>=7.5.1->perspective-python) (0.7.0)\n",
      "Collecting python-dateutil<3,>=2.8.0\n",
      "  Using cached python_dateutil-2.8.2-py2.py3-none-any.whl (247 kB)\n",
      "Requirement already satisfied: entrypoints in /Users/songshuang/opt/anaconda3/lib/python3.8/site-packages (from jupyter-client>=6.1.12->ipykernel>=4.5.1->ipywidgets<9,>=7.5.1->perspective-python) (0.4)\n",
      "Requirement already satisfied: jupyter-core>=4.9.2 in /Users/songshuang/opt/anaconda3/lib/python3.8/site-packages (from jupyter-client>=6.1.12->ipykernel>=4.5.1->ipywidgets<9,>=7.5.1->perspective-python) (5.2.0)\n",
      "Requirement already satisfied: ptyprocess>=0.5 in /Users/songshuang/opt/anaconda3/lib/python3.8/site-packages (from pexpect>4.3->ipython>=6.1.0->ipywidgets<9,>=7.5.1->perspective-python) (0.7.0)\n",
      "Requirement already satisfied: wcwidth in /Users/songshuang/opt/anaconda3/lib/python3.8/site-packages (from prompt-toolkit<3.1.0,>3.0.1->ipython>=6.1.0->ipywidgets<9,>=7.5.1->perspective-python) (0.2.5)\n",
      "Requirement already satisfied: pyparsing!=3.0.5,>=2.0.2 in /Users/songshuang/opt/anaconda3/lib/python3.8/site-packages (from packaging->ipykernel>=4.5.1->ipywidgets<9,>=7.5.1->perspective-python) (3.0.9)\n",
      "Requirement already satisfied: executing in /Users/songshuang/opt/anaconda3/lib/python3.8/site-packages (from stack-data->ipython>=6.1.0->ipywidgets<9,>=7.5.1->perspective-python) (0.8.3)\n",
      "Requirement already satisfied: asttokens in /Users/songshuang/opt/anaconda3/lib/python3.8/site-packages (from stack-data->ipython>=6.1.0->ipywidgets<9,>=7.5.1->perspective-python) (2.0.5)\n",
      "Requirement already satisfied: pure-eval in /Users/songshuang/opt/anaconda3/lib/python3.8/site-packages (from stack-data->ipython>=6.1.0->ipywidgets<9,>=7.5.1->perspective-python) (0.2.2)\n",
      "Requirement already satisfied: platformdirs>=2.5 in /Users/songshuang/opt/anaconda3/lib/python3.8/site-packages (from jupyter-core>=4.9.2->jupyter-client>=6.1.12->ipykernel>=4.5.1->ipywidgets<9,>=7.5.1->perspective-python) (2.5.2)\n",
      "Installing collected packages: python-dateutil, perspective-python\n",
      "  Attempting uninstall: python-dateutil\n",
      "    Found existing installation: python-dateutil 2.8.1\n",
      "    Uninstalling python-dateutil-2.8.1:\n",
      "      Successfully uninstalled python-dateutil-2.8.1\n",
      "\u001b[31mERROR: pip's dependency resolver does not currently take into account all the packages that are installed. This behaviour is the source of the following dependency conflicts.\n",
      "imgaug 0.4.0 requires scikit-image>=0.14.2, which is not installed.\n",
      "conda-repo-cli 1.0.27 requires pathlib, which is not installed.\n",
      "python-benedict 0.25.1 requires pyyaml<7.0,>=6.0, but you have pyyaml 5.4.1 which is incompatible.\n",
      "pynwb 2.1.0 requires numpy<1.23,>=1.16, but you have numpy 1.23.4 which is incompatible.\n",
      "openbb 2.5.1 requires ipython==8.5.0, but you have ipython 8.6.0 which is incompatible.\n",
      "openbb 2.5.1 requires packaging>=22.0, but you have packaging 21.3 which is incompatible.\n",
      "openbb 2.5.1 requires protobuf==3.20.1, but you have protobuf 3.19.5 which is incompatible.\n",
      "openbb 2.5.1 requires python-dotenv<0.20.0,>=0.19.2, but you have python-dotenv 0.16.0 which is incompatible.\n",
      "mythx-models 1.9.1 requires python-dateutil==2.8.1, but you have python-dateutil 2.8.2 which is incompatible.\n",
      "eth-brownie 1.19.3 requires python-dateutil==2.8.1, but you have python-dateutil 2.8.2 which is incompatible.\n",
      "eth-ape 0.5.4 requires eip712<0.2,>=0.1.4, but you have eip712 0.1.0 which is incompatible.\n",
      "eth-ape 0.5.4 requires eth-abi<4,>=3.0.1, but you have eth-abi 2.2.0 which is incompatible.\n",
      "eth-ape 0.5.4 requires eth-account<0.8,>=0.7, but you have eth-account 0.5.9 which is incompatible.\n",
      "eth-ape 0.5.4 requires eth-typing<4,>=3.1, but you have eth-typing 2.3.0 which is incompatible.\n",
      "eth-ape 0.5.4 requires eth-utils<3,>=2.0.0, but you have eth-utils 1.10.0 which is incompatible.\n",
      "eth-ape 0.5.4 requires packaging<21,>=20.9, but you have packaging 21.3 which is incompatible.\n",
      "eth-ape 0.5.4 requires pyyaml<7,>=6.0, but you have pyyaml 5.4.1 which is incompatible.\n",
      "eth-ape 0.5.4 requires web3[tester]==6.0.0b6, but you have web3 5.31.3 which is incompatible.\n",
      "ddsp 1.9.0 requires httplib2>=0.20.2, but you have httplib2 0.19.1 which is incompatible.\n",
      "ddsp 1.9.0 requires numba<0.50, but you have numba 0.56.4 which is incompatible.\n",
      "datasets 2.2.2 requires dill<0.3.5, but you have dill 0.3.6 which is incompatible.\n",
      "conda-repo-cli 1.0.27 requires clyent==1.2.1, but you have clyent 1.2.2 which is incompatible.\n",
      "conda-repo-cli 1.0.27 requires nbformat==5.4.0, but you have nbformat 5.7.0 which is incompatible.\n",
      "conda-repo-cli 1.0.27 requires PyYAML==6.0, but you have pyyaml 5.4.1 which is incompatible.\n",
      "ape-vyper 0.4.0 requires eth-ape<0.5.0,>=0.4.0, but you have eth-ape 0.5.4 which is incompatible.\n",
      "apache-beam 2.42.0 requires dill<0.3.2,>=0.3.1.1, but you have dill 0.3.6 which is incompatible.\n",
      "apache-beam 2.42.0 requires numpy<1.23.0,>=1.14.3, but you have numpy 1.23.4 which is incompatible.\n",
      "alpaca-trade-api 2.3.0 requires aiohttp==3.8.1, but you have aiohttp 3.8.3 which is incompatible.\n",
      "alpaca-trade-api 2.3.0 requires PyYAML==6.0, but you have pyyaml 5.4.1 which is incompatible.\n",
      "alpaca-py 0.7.2 requires websockets<11.0,>=10.2, but you have websockets 9.1 which is incompatible.\u001b[0m\u001b[31m\n",
      "\u001b[0mSuccessfully installed perspective-python-2.0.0 python-dateutil-2.8.2\n",
      "Note: you may need to restart the kernel to use updated packages.\n"
     ]
    }
   ],
   "source": [
    "%pip install perspective-python"
   ]
  },
  {
   "cell_type": "code",
   "execution_count": 5,
   "metadata": {},
   "outputs": [
    {
     "ename": "NameError",
     "evalue": "name 'dailyVol' is not defined",
     "output_type": "error",
     "traceback": [
      "\u001b[0;31m---------------------------------------------------------------------------\u001b[0m",
      "\u001b[0;31mNameError\u001b[0m                                 Traceback (most recent call last)",
      "\u001b[1;32m/Users/songshuang/Desktop/JPMC-training/notebooks/2_straddle.ipynb Cell 62\u001b[0m in \u001b[0;36m4\n\u001b[1;32m      <a href='vscode-notebook-cell:/Users/songshuang/Desktop/JPMC-training/notebooks/2_straddle.ipynb#Y115sZmlsZQ%3D%3D?line=0'>1</a>\u001b[0m \u001b[39mimport\u001b[39;00m \u001b[39mpandas\u001b[39;00m \u001b[39mas\u001b[39;00m \u001b[39mpd\u001b[39;00m\n\u001b[1;32m      <a href='vscode-notebook-cell:/Users/songshuang/Desktop/JPMC-training/notebooks/2_straddle.ipynb#Y115sZmlsZQ%3D%3D?line=1'>2</a>\u001b[0m \u001b[39mimport\u001b[39;00m \u001b[39mperspective\u001b[39;00m \u001b[39mas\u001b[39;00m \u001b[39mpsp\u001b[39;00m\n\u001b[0;32m----> <a href='vscode-notebook-cell:/Users/songshuang/Desktop/JPMC-training/notebooks/2_straddle.ipynb#Y115sZmlsZQ%3D%3D?line=3'>4</a>\u001b[0m simulatedAsset \u001b[39m=\u001b[39m pd\u001b[39m.\u001b[39mDataFrame( np\u001b[39m.\u001b[39mrandom\u001b[39m.\u001b[39mnormal( \u001b[39m0\u001b[39m, dailyVol, time \u001b[39m*\u001b[39m \u001b[39m252\u001b[39m ) \u001b[39m+\u001b[39m \u001b[39m1\u001b[39m, columns\u001b[39m=\u001b[39m[\u001b[39m'\u001b[39m\u001b[39mreturn\u001b[39m\u001b[39m'\u001b[39m] )\n\u001b[1;32m      <a href='vscode-notebook-cell:/Users/songshuang/Desktop/JPMC-training/notebooks/2_straddle.ipynb#Y115sZmlsZQ%3D%3D?line=4'>5</a>\u001b[0m simulatedAsset[\u001b[39m'\u001b[39m\u001b[39mprice\u001b[39m\u001b[39m'\u001b[39m] \u001b[39m=\u001b[39m ( \u001b[39m1\u001b[39m \u001b[39m*\u001b[39m simulatedAsset[\u001b[39m'\u001b[39m\u001b[39mreturn\u001b[39m\u001b[39m'\u001b[39m] )\u001b[39m.\u001b[39mcumprod()\n\u001b[1;32m      <a href='vscode-notebook-cell:/Users/songshuang/Desktop/JPMC-training/notebooks/2_straddle.ipynb#Y115sZmlsZQ%3D%3D?line=5'>6</a>\u001b[0m psp( simulatedAsset )\n",
      "\u001b[0;31mNameError\u001b[0m: name 'dailyVol' is not defined"
     ]
    }
   ],
   "source": [
    "import pandas as pd\n",
    "import perspective as psp\n",
    "\n",
    "simulatedAsset = pd.DataFrame( np.random.normal( 0, dailyVol, time * 252 ) + 1, columns=['return'] )\n",
    "simulatedAsset['price'] = ( 1 * simulatedAsset['return'] ).cumprod()\n",
    "psp( simulatedAsset )"
   ]
  },
  {
   "cell_type": "markdown",
   "metadata": {},
   "source": [
    "The `for` loop ultimately just does the above for `mcPaths` number of times, and we ultimately take the average of the paths to find the expected value of the straddle."
   ]
  },
  {
   "cell_type": "code",
   "execution_count": 2,
   "metadata": {},
   "outputs": [
    {
     "ename": "NameError",
     "evalue": "name 'np' is not defined",
     "output_type": "error",
     "traceback": [
      "\u001b[0;31m---------------------------------------------------------------------------\u001b[0m",
      "\u001b[0;31mNameError\u001b[0m                                 Traceback (most recent call last)",
      "\u001b[1;32m/Users/songshuang/Desktop/JPMC-training/notebooks/2_straddle.ipynb Cell 64\u001b[0m in \u001b[0;36m4\n\u001b[1;32m      <a href='vscode-notebook-cell:/Users/songshuang/Desktop/JPMC-training/notebooks/2_straddle.ipynb#Y120sZmlsZQ%3D%3D?line=1'>2</a>\u001b[0m resultSum \u001b[39m=\u001b[39m \u001b[39m0.\u001b[39m\n\u001b[1;32m      <a href='vscode-notebook-cell:/Users/songshuang/Desktop/JPMC-training/notebooks/2_straddle.ipynb#Y120sZmlsZQ%3D%3D?line=2'>3</a>\u001b[0m \u001b[39mfor\u001b[39;00m _ \u001b[39min\u001b[39;00m \u001b[39mrange\u001b[39m(mcPaths):\n\u001b[0;32m----> <a href='vscode-notebook-cell:/Users/songshuang/Desktop/JPMC-training/notebooks/2_straddle.ipynb#Y120sZmlsZQ%3D%3D?line=3'>4</a>\u001b[0m     resultSum \u001b[39m+\u001b[39m\u001b[39m=\u001b[39m np\u001b[39m.\u001b[39mabs( np\u001b[39m.\u001b[39mprod( \u001b[39m1\u001b[39m \u001b[39m+\u001b[39m np\u001b[39m.\u001b[39mrandom\u001b[39m.\u001b[39mnormal( \u001b[39m0.\u001b[39m, dailyVol, time \u001b[39m*\u001b[39m \u001b[39m252\u001b[39m ) ) \u001b[39m-\u001b[39m \u001b[39m1\u001b[39m )\n\u001b[1;32m      <a href='vscode-notebook-cell:/Users/songshuang/Desktop/JPMC-training/notebooks/2_straddle.ipynb#Y120sZmlsZQ%3D%3D?line=4'>5</a>\u001b[0m \u001b[39mprint\u001b[39m( resultSum \u001b[39m/\u001b[39m mcPaths )\n",
      "\u001b[0;31mNameError\u001b[0m: name 'np' is not defined"
     ]
    }
   ],
   "source": [
    "mcPaths = 100\n",
    "resultSum = 0.\n",
    "for _ in range(mcPaths):\n",
    "    resultSum += np.abs( np.prod( 1 + np.random.normal( 0., dailyVol, time * 252 ) ) - 1 )\n",
    "print( resultSum / mcPaths )"
   ]
  },
  {
   "cell_type": "markdown",
   "metadata": {},
   "source": [
    "This price is pretty close to the price from our original pricer. More paths should help get us even closer."
   ]
  },
  {
   "cell_type": "code",
   "execution_count": null,
   "metadata": {},
   "outputs": [],
   "source": [
    "straddlePricerMC(mcPaths=2000)"
   ]
  },
  {
   "cell_type": "markdown",
   "metadata": {},
   "source": [
    "2000 paths is a lot, but it looks like we're still not converging to the original price. If we add more paths there is a tradeoff with compute time. Luckily, Jupyter has made it really easy to see how fast our function is."
   ]
  },
  {
   "cell_type": "code",
   "execution_count": null,
   "metadata": {},
   "outputs": [],
   "source": [
    "%timeit straddlePricerMC(mcPaths=2000)"
   ]
  },
  {
   "cell_type": "markdown",
   "metadata": {},
   "source": [
    "That's pretty fast. we can do a lot more paths."
   ]
  },
  {
   "cell_type": "code",
   "execution_count": null,
   "metadata": {},
   "outputs": [],
   "source": [
    "print(f\"1 path: {straddlePricerMC(mcPaths=1)}\")\n",
    "print(f\"2000 path: {straddlePricerMC(mcPaths=2000)}\")\n",
    "print(f\"5000 path: {straddlePricerMC(mcPaths=5000)}\")\n",
    "print(f\"10000 path: {straddlePricerMC(mcPaths=10000)}\")\n",
    "print(f\"100000 path: {straddlePricerMC(mcPaths=100000)}\")\n",
    "print(f\"Closed form approximation: {straddlePricer()}\")"
   ]
  },
  {
   "cell_type": "markdown",
   "metadata": {},
   "source": [
    "Can we improve the above MC implementation? Of course! We can generate our random asset series in one go. Remember the `size` argument of the `np.random.normal` function"
   ]
  },
  {
   "cell_type": "code",
   "execution_count": null,
   "metadata": {},
   "outputs": [],
   "source": [
    "nDays = time * 252\n",
    "size = (nDays, 15)\n",
    "simulatedAsset = pd.DataFrame(np.random.normal(0, dailyVol, size))\n",
    "simulatedAsset = (1 + simulatedAsset).cumprod()\n",
    "\n",
    "simulatedAsset.tail()"
   ]
  },
  {
   "cell_type": "markdown",
   "metadata": {},
   "source": [
    "Cool!...Let's visualize by plotting it with matplotlib."
   ]
  },
  {
   "cell_type": "code",
   "execution_count": null,
   "metadata": {},
   "outputs": [],
   "source": [
    "%matplotlib inline\n",
    "import matplotlib.pyplot as plt\n",
    "\n",
    "plt.style.use('fivethirtyeight')\n",
    "\n",
    "fig = plt.figure(figsize=(8,6))\n",
    "ax = plt.axes()\n",
    "_ = ax.plot(simulatedAsset)"
   ]
  },
  {
   "cell_type": "markdown",
   "metadata": {},
   "source": [
    "So let's incorporate that into a `pandas` version of the MC pricer."
   ]
  },
  {
   "cell_type": "code",
   "execution_count": null,
   "metadata": {},
   "outputs": [],
   "source": [
    "def straddlePricerMCWithPD(vol=0.2, time=1, mcPaths=100000):\n",
    "    dailyVol = vol / ( 252 ** 0.5 )\n",
    "    randomPaths = pd.DataFrame( np.random.normal( 0, dailyVol, ( time*252, mcPaths ) ) )\n",
    "    price = ( ( 1 + randomPaths ).prod() - 1 ).abs().sum() / mcPaths\n",
    "    return price\n",
    "\n",
    "straddlePricerMCWithPD()"
   ]
  },
  {
   "cell_type": "code",
   "execution_count": 1,
   "metadata": {},
   "outputs": [
    {
     "name": "stdout",
     "output_type": "stream",
     "text": [
      "2023-04-09 01:15:27.716179\n"
     ]
    }
   ],
   "source": [
    "import datetime\n",
    "print(datetime.datetime.now())"
   ]
  },
  {
   "attachments": {},
   "cell_type": "markdown",
   "metadata": {},
   "source": [
    "I have done reading this passage now. 2023-04-09 01:15:27.716179"
   ]
  },
  {
   "cell_type": "markdown",
   "metadata": {},
   "source": []
  }
 ],
 "metadata": {
  "kernelspec": {
   "display_name": "Python 3",
   "language": "python",
   "name": "python3"
  },
  "language_info": {
   "codemirror_mode": {
    "name": "ipython",
    "version": 3
   },
   "file_extension": ".py",
   "mimetype": "text/x-python",
   "name": "python",
   "nbconvert_exporter": "python",
   "pygments_lexer": "ipython3",
   "version": "3.8.16"
  }
 },
 "nbformat": 4,
 "nbformat_minor": 4
}
